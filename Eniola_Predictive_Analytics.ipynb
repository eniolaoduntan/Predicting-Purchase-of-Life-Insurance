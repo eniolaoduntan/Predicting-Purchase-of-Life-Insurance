{
  "nbformat": 4,
  "nbformat_minor": 0,
  "metadata": {
    "colab": {
      "provenance": []
    },
    "kernelspec": {
      "name": "python3",
      "display_name": "Python 3"
    },
    "language_info": {
      "name": "python"
    }
  },
  "cells": [
    {
      "cell_type": "code",
      "execution_count": null,
      "metadata": {
        "id": "x40YLNNYsmju"
      },
      "outputs": [],
      "source": [
        "import numpy as np\n",
        "import os\n",
        "from sklearn.impute import SimpleImputer\n",
        "from sklearn import preprocessing\n",
        "from sklearn.preprocessing import LabelEncoder\n",
        "from sklearn.preprocessing import OneHotEncoder\n",
        "from sklearn.preprocessing import OrdinalEncoder\n",
        "from sklearn.compose import ColumnTransformer\n",
        "import pandas as pd\n",
        "import seaborn as sns\n",
        "from matplotlib import pyplot\n",
        "import matplotlib.pyplot as plt\n",
        "import matplotlib.pylab as pylab\n",
        "import plotly.express as px\n",
        "from sklearn.preprocessing import StandardScaler\n",
        "from sklearn.preprocessing import MinMaxScaler"
      ]
    },
    {
      "cell_type": "code",
      "source": [
        "#import dataset\n",
        "data = pd.read_csv('/content/drive/MyDrive/Colab Notebooks/sales_data.csv')"
      ],
      "metadata": {
        "id": "vkpbYZHCstSs"
      },
      "execution_count": null,
      "outputs": []
    },
    {
      "cell_type": "code",
      "source": [
        "#descriptive statistics\n",
        "data.head()"
      ],
      "metadata": {
        "colab": {
          "base_uri": "https://localhost:8080/",
          "height": 322
        },
        "id": "y_9FhAHMs6BD",
        "outputId": "a217a4c2-2686-409e-ca95-0e9e601383e7"
      },
      "execution_count": null,
      "outputs": [
        {
          "output_type": "execute_result",
          "data": {
            "text/plain": [
              "  flag gender        education  house_val     age online marriage child  \\\n",
              "0    Y      M          4. Grad     756460   1_Unk      N      NaN     U   \n",
              "1    N      F          3. Bach     213171   7_>65      N      NaN     U   \n",
              "2    N      M  2. Some College     111147  2_<=25      Y      NaN     Y   \n",
              "3    Y      M  2. Some College     354151  2_<=25      Y   Single     U   \n",
              "4    Y      F  2. Some College     117087   1_Unk      Y  Married     Y   \n",
              "\n",
              "      occupation mortgage house_owner     region fam_income  \n",
              "0   Professional     1Low         NaN    Midwest          L  \n",
              "1   Professional     1Low       Owner  Northeast          G  \n",
              "2   Professional     1Low       Owner    Midwest          J  \n",
              "3  Sales/Service     1Low         NaN       West          L  \n",
              "4  Sales/Service     1Low         NaN      South          H  "
            ],
            "text/html": [
              "\n",
              "  <div id=\"df-3bd0d015-5566-4c02-adf7-1c7e325b120d\">\n",
              "    <div class=\"colab-df-container\">\n",
              "      <div>\n",
              "<style scoped>\n",
              "    .dataframe tbody tr th:only-of-type {\n",
              "        vertical-align: middle;\n",
              "    }\n",
              "\n",
              "    .dataframe tbody tr th {\n",
              "        vertical-align: top;\n",
              "    }\n",
              "\n",
              "    .dataframe thead th {\n",
              "        text-align: right;\n",
              "    }\n",
              "</style>\n",
              "<table border=\"1\" class=\"dataframe\">\n",
              "  <thead>\n",
              "    <tr style=\"text-align: right;\">\n",
              "      <th></th>\n",
              "      <th>flag</th>\n",
              "      <th>gender</th>\n",
              "      <th>education</th>\n",
              "      <th>house_val</th>\n",
              "      <th>age</th>\n",
              "      <th>online</th>\n",
              "      <th>marriage</th>\n",
              "      <th>child</th>\n",
              "      <th>occupation</th>\n",
              "      <th>mortgage</th>\n",
              "      <th>house_owner</th>\n",
              "      <th>region</th>\n",
              "      <th>fam_income</th>\n",
              "    </tr>\n",
              "  </thead>\n",
              "  <tbody>\n",
              "    <tr>\n",
              "      <th>0</th>\n",
              "      <td>Y</td>\n",
              "      <td>M</td>\n",
              "      <td>4. Grad</td>\n",
              "      <td>756460</td>\n",
              "      <td>1_Unk</td>\n",
              "      <td>N</td>\n",
              "      <td>NaN</td>\n",
              "      <td>U</td>\n",
              "      <td>Professional</td>\n",
              "      <td>1Low</td>\n",
              "      <td>NaN</td>\n",
              "      <td>Midwest</td>\n",
              "      <td>L</td>\n",
              "    </tr>\n",
              "    <tr>\n",
              "      <th>1</th>\n",
              "      <td>N</td>\n",
              "      <td>F</td>\n",
              "      <td>3. Bach</td>\n",
              "      <td>213171</td>\n",
              "      <td>7_&gt;65</td>\n",
              "      <td>N</td>\n",
              "      <td>NaN</td>\n",
              "      <td>U</td>\n",
              "      <td>Professional</td>\n",
              "      <td>1Low</td>\n",
              "      <td>Owner</td>\n",
              "      <td>Northeast</td>\n",
              "      <td>G</td>\n",
              "    </tr>\n",
              "    <tr>\n",
              "      <th>2</th>\n",
              "      <td>N</td>\n",
              "      <td>M</td>\n",
              "      <td>2. Some College</td>\n",
              "      <td>111147</td>\n",
              "      <td>2_&lt;=25</td>\n",
              "      <td>Y</td>\n",
              "      <td>NaN</td>\n",
              "      <td>Y</td>\n",
              "      <td>Professional</td>\n",
              "      <td>1Low</td>\n",
              "      <td>Owner</td>\n",
              "      <td>Midwest</td>\n",
              "      <td>J</td>\n",
              "    </tr>\n",
              "    <tr>\n",
              "      <th>3</th>\n",
              "      <td>Y</td>\n",
              "      <td>M</td>\n",
              "      <td>2. Some College</td>\n",
              "      <td>354151</td>\n",
              "      <td>2_&lt;=25</td>\n",
              "      <td>Y</td>\n",
              "      <td>Single</td>\n",
              "      <td>U</td>\n",
              "      <td>Sales/Service</td>\n",
              "      <td>1Low</td>\n",
              "      <td>NaN</td>\n",
              "      <td>West</td>\n",
              "      <td>L</td>\n",
              "    </tr>\n",
              "    <tr>\n",
              "      <th>4</th>\n",
              "      <td>Y</td>\n",
              "      <td>F</td>\n",
              "      <td>2. Some College</td>\n",
              "      <td>117087</td>\n",
              "      <td>1_Unk</td>\n",
              "      <td>Y</td>\n",
              "      <td>Married</td>\n",
              "      <td>Y</td>\n",
              "      <td>Sales/Service</td>\n",
              "      <td>1Low</td>\n",
              "      <td>NaN</td>\n",
              "      <td>South</td>\n",
              "      <td>H</td>\n",
              "    </tr>\n",
              "  </tbody>\n",
              "</table>\n",
              "</div>\n",
              "      <button class=\"colab-df-convert\" onclick=\"convertToInteractive('df-3bd0d015-5566-4c02-adf7-1c7e325b120d')\"\n",
              "              title=\"Convert this dataframe to an interactive table.\"\n",
              "              style=\"display:none;\">\n",
              "        \n",
              "  <svg xmlns=\"http://www.w3.org/2000/svg\" height=\"24px\"viewBox=\"0 0 24 24\"\n",
              "       width=\"24px\">\n",
              "    <path d=\"M0 0h24v24H0V0z\" fill=\"none\"/>\n",
              "    <path d=\"M18.56 5.44l.94 2.06.94-2.06 2.06-.94-2.06-.94-.94-2.06-.94 2.06-2.06.94zm-11 1L8.5 8.5l.94-2.06 2.06-.94-2.06-.94L8.5 2.5l-.94 2.06-2.06.94zm10 10l.94 2.06.94-2.06 2.06-.94-2.06-.94-.94-2.06-.94 2.06-2.06.94z\"/><path d=\"M17.41 7.96l-1.37-1.37c-.4-.4-.92-.59-1.43-.59-.52 0-1.04.2-1.43.59L10.3 9.45l-7.72 7.72c-.78.78-.78 2.05 0 2.83L4 21.41c.39.39.9.59 1.41.59.51 0 1.02-.2 1.41-.59l7.78-7.78 2.81-2.81c.8-.78.8-2.07 0-2.86zM5.41 20L4 18.59l7.72-7.72 1.47 1.35L5.41 20z\"/>\n",
              "  </svg>\n",
              "      </button>\n",
              "      \n",
              "  <style>\n",
              "    .colab-df-container {\n",
              "      display:flex;\n",
              "      flex-wrap:wrap;\n",
              "      gap: 12px;\n",
              "    }\n",
              "\n",
              "    .colab-df-convert {\n",
              "      background-color: #E8F0FE;\n",
              "      border: none;\n",
              "      border-radius: 50%;\n",
              "      cursor: pointer;\n",
              "      display: none;\n",
              "      fill: #1967D2;\n",
              "      height: 32px;\n",
              "      padding: 0 0 0 0;\n",
              "      width: 32px;\n",
              "    }\n",
              "\n",
              "    .colab-df-convert:hover {\n",
              "      background-color: #E2EBFA;\n",
              "      box-shadow: 0px 1px 2px rgba(60, 64, 67, 0.3), 0px 1px 3px 1px rgba(60, 64, 67, 0.15);\n",
              "      fill: #174EA6;\n",
              "    }\n",
              "\n",
              "    [theme=dark] .colab-df-convert {\n",
              "      background-color: #3B4455;\n",
              "      fill: #D2E3FC;\n",
              "    }\n",
              "\n",
              "    [theme=dark] .colab-df-convert:hover {\n",
              "      background-color: #434B5C;\n",
              "      box-shadow: 0px 1px 3px 1px rgba(0, 0, 0, 0.15);\n",
              "      filter: drop-shadow(0px 1px 2px rgba(0, 0, 0, 0.3));\n",
              "      fill: #FFFFFF;\n",
              "    }\n",
              "  </style>\n",
              "\n",
              "      <script>\n",
              "        const buttonEl =\n",
              "          document.querySelector('#df-3bd0d015-5566-4c02-adf7-1c7e325b120d button.colab-df-convert');\n",
              "        buttonEl.style.display =\n",
              "          google.colab.kernel.accessAllowed ? 'block' : 'none';\n",
              "\n",
              "        async function convertToInteractive(key) {\n",
              "          const element = document.querySelector('#df-3bd0d015-5566-4c02-adf7-1c7e325b120d');\n",
              "          const dataTable =\n",
              "            await google.colab.kernel.invokeFunction('convertToInteractive',\n",
              "                                                     [key], {});\n",
              "          if (!dataTable) return;\n",
              "\n",
              "          const docLinkHtml = 'Like what you see? Visit the ' +\n",
              "            '<a target=\"_blank\" href=https://colab.research.google.com/notebooks/data_table.ipynb>data table notebook</a>'\n",
              "            + ' to learn more about interactive tables.';\n",
              "          element.innerHTML = '';\n",
              "          dataTable['output_type'] = 'display_data';\n",
              "          await google.colab.output.renderOutput(dataTable, element);\n",
              "          const docLink = document.createElement('div');\n",
              "          docLink.innerHTML = docLinkHtml;\n",
              "          element.appendChild(docLink);\n",
              "        }\n",
              "      </script>\n",
              "    </div>\n",
              "  </div>\n",
              "  "
            ]
          },
          "metadata": {},
          "execution_count": 223
        }
      ]
    },
    {
      "cell_type": "code",
      "source": [
        "data.columns"
      ],
      "metadata": {
        "colab": {
          "base_uri": "https://localhost:8080/"
        },
        "id": "dDBdNl3CA2pa",
        "outputId": "c412a24f-9fc5-4ff9-d601-2a802ec3a86f"
      },
      "execution_count": null,
      "outputs": [
        {
          "output_type": "execute_result",
          "data": {
            "text/plain": [
              "Index(['flag', 'gender', 'education', 'house_val', 'age', 'online', 'marriage',\n",
              "       'child', 'occupation', 'mortgage', 'house_owner', 'region',\n",
              "       'fam_income'],\n",
              "      dtype='object')"
            ]
          },
          "metadata": {},
          "execution_count": 224
        }
      ]
    },
    {
      "cell_type": "code",
      "source": [
        "data.describe()"
      ],
      "metadata": {
        "colab": {
          "base_uri": "https://localhost:8080/",
          "height": 300
        },
        "id": "HHKGAG_yA23N",
        "outputId": "91ae8cae-ab8d-4afd-9ad3-95ba96884294"
      },
      "execution_count": null,
      "outputs": [
        {
          "output_type": "execute_result",
          "data": {
            "text/plain": [
              "          house_val\n",
              "count  4.000000e+04\n",
              "mean   3.072138e+05\n",
              "std    4.222146e+05\n",
              "min    0.000000e+00\n",
              "25%    8.065725e+04\n",
              "50%    2.148720e+05\n",
              "75%    3.937620e+05\n",
              "max    9.999999e+06"
            ],
            "text/html": [
              "\n",
              "  <div id=\"df-9f2986b3-b073-43d3-9adf-56ac0995175e\">\n",
              "    <div class=\"colab-df-container\">\n",
              "      <div>\n",
              "<style scoped>\n",
              "    .dataframe tbody tr th:only-of-type {\n",
              "        vertical-align: middle;\n",
              "    }\n",
              "\n",
              "    .dataframe tbody tr th {\n",
              "        vertical-align: top;\n",
              "    }\n",
              "\n",
              "    .dataframe thead th {\n",
              "        text-align: right;\n",
              "    }\n",
              "</style>\n",
              "<table border=\"1\" class=\"dataframe\">\n",
              "  <thead>\n",
              "    <tr style=\"text-align: right;\">\n",
              "      <th></th>\n",
              "      <th>house_val</th>\n",
              "    </tr>\n",
              "  </thead>\n",
              "  <tbody>\n",
              "    <tr>\n",
              "      <th>count</th>\n",
              "      <td>4.000000e+04</td>\n",
              "    </tr>\n",
              "    <tr>\n",
              "      <th>mean</th>\n",
              "      <td>3.072138e+05</td>\n",
              "    </tr>\n",
              "    <tr>\n",
              "      <th>std</th>\n",
              "      <td>4.222146e+05</td>\n",
              "    </tr>\n",
              "    <tr>\n",
              "      <th>min</th>\n",
              "      <td>0.000000e+00</td>\n",
              "    </tr>\n",
              "    <tr>\n",
              "      <th>25%</th>\n",
              "      <td>8.065725e+04</td>\n",
              "    </tr>\n",
              "    <tr>\n",
              "      <th>50%</th>\n",
              "      <td>2.148720e+05</td>\n",
              "    </tr>\n",
              "    <tr>\n",
              "      <th>75%</th>\n",
              "      <td>3.937620e+05</td>\n",
              "    </tr>\n",
              "    <tr>\n",
              "      <th>max</th>\n",
              "      <td>9.999999e+06</td>\n",
              "    </tr>\n",
              "  </tbody>\n",
              "</table>\n",
              "</div>\n",
              "      <button class=\"colab-df-convert\" onclick=\"convertToInteractive('df-9f2986b3-b073-43d3-9adf-56ac0995175e')\"\n",
              "              title=\"Convert this dataframe to an interactive table.\"\n",
              "              style=\"display:none;\">\n",
              "        \n",
              "  <svg xmlns=\"http://www.w3.org/2000/svg\" height=\"24px\"viewBox=\"0 0 24 24\"\n",
              "       width=\"24px\">\n",
              "    <path d=\"M0 0h24v24H0V0z\" fill=\"none\"/>\n",
              "    <path d=\"M18.56 5.44l.94 2.06.94-2.06 2.06-.94-2.06-.94-.94-2.06-.94 2.06-2.06.94zm-11 1L8.5 8.5l.94-2.06 2.06-.94-2.06-.94L8.5 2.5l-.94 2.06-2.06.94zm10 10l.94 2.06.94-2.06 2.06-.94-2.06-.94-.94-2.06-.94 2.06-2.06.94z\"/><path d=\"M17.41 7.96l-1.37-1.37c-.4-.4-.92-.59-1.43-.59-.52 0-1.04.2-1.43.59L10.3 9.45l-7.72 7.72c-.78.78-.78 2.05 0 2.83L4 21.41c.39.39.9.59 1.41.59.51 0 1.02-.2 1.41-.59l7.78-7.78 2.81-2.81c.8-.78.8-2.07 0-2.86zM5.41 20L4 18.59l7.72-7.72 1.47 1.35L5.41 20z\"/>\n",
              "  </svg>\n",
              "      </button>\n",
              "      \n",
              "  <style>\n",
              "    .colab-df-container {\n",
              "      display:flex;\n",
              "      flex-wrap:wrap;\n",
              "      gap: 12px;\n",
              "    }\n",
              "\n",
              "    .colab-df-convert {\n",
              "      background-color: #E8F0FE;\n",
              "      border: none;\n",
              "      border-radius: 50%;\n",
              "      cursor: pointer;\n",
              "      display: none;\n",
              "      fill: #1967D2;\n",
              "      height: 32px;\n",
              "      padding: 0 0 0 0;\n",
              "      width: 32px;\n",
              "    }\n",
              "\n",
              "    .colab-df-convert:hover {\n",
              "      background-color: #E2EBFA;\n",
              "      box-shadow: 0px 1px 2px rgba(60, 64, 67, 0.3), 0px 1px 3px 1px rgba(60, 64, 67, 0.15);\n",
              "      fill: #174EA6;\n",
              "    }\n",
              "\n",
              "    [theme=dark] .colab-df-convert {\n",
              "      background-color: #3B4455;\n",
              "      fill: #D2E3FC;\n",
              "    }\n",
              "\n",
              "    [theme=dark] .colab-df-convert:hover {\n",
              "      background-color: #434B5C;\n",
              "      box-shadow: 0px 1px 3px 1px rgba(0, 0, 0, 0.15);\n",
              "      filter: drop-shadow(0px 1px 2px rgba(0, 0, 0, 0.3));\n",
              "      fill: #FFFFFF;\n",
              "    }\n",
              "  </style>\n",
              "\n",
              "      <script>\n",
              "        const buttonEl =\n",
              "          document.querySelector('#df-9f2986b3-b073-43d3-9adf-56ac0995175e button.colab-df-convert');\n",
              "        buttonEl.style.display =\n",
              "          google.colab.kernel.accessAllowed ? 'block' : 'none';\n",
              "\n",
              "        async function convertToInteractive(key) {\n",
              "          const element = document.querySelector('#df-9f2986b3-b073-43d3-9adf-56ac0995175e');\n",
              "          const dataTable =\n",
              "            await google.colab.kernel.invokeFunction('convertToInteractive',\n",
              "                                                     [key], {});\n",
              "          if (!dataTable) return;\n",
              "\n",
              "          const docLinkHtml = 'Like what you see? Visit the ' +\n",
              "            '<a target=\"_blank\" href=https://colab.research.google.com/notebooks/data_table.ipynb>data table notebook</a>'\n",
              "            + ' to learn more about interactive tables.';\n",
              "          element.innerHTML = '';\n",
              "          dataTable['output_type'] = 'display_data';\n",
              "          await google.colab.output.renderOutput(dataTable, element);\n",
              "          const docLink = document.createElement('div');\n",
              "          docLink.innerHTML = docLinkHtml;\n",
              "          element.appendChild(docLink);\n",
              "        }\n",
              "      </script>\n",
              "    </div>\n",
              "  </div>\n",
              "  "
            ]
          },
          "metadata": {},
          "execution_count": 225
        }
      ]
    },
    {
      "cell_type": "code",
      "source": [
        "#include columns with object data type\n",
        "data.describe(include=['object'])"
      ],
      "metadata": {
        "colab": {
          "base_uri": "https://localhost:8080/",
          "height": 219
        },
        "id": "KCAPo6vbA2_C",
        "outputId": "8eca2ed6-737a-40a9-dd4f-084055360eda"
      },
      "execution_count": null,
      "outputs": [
        {
          "output_type": "execute_result",
          "data": {
            "text/plain": [
              "         flag gender        education     age online marriage  child  \\\n",
              "count   40000  40000            39259   40000  40000    25973  40000   \n",
              "unique      2      3                5       7      2        2      4   \n",
              "top         Y      M  2. Some College  5_<=55      Y  Married      Y   \n",
              "freq    20000  22019            11400    8103  27319    20891  18012   \n",
              "\n",
              "          occupation mortgage house_owner region fam_income  \n",
              "count          40000    40000       36623  40000      40000  \n",
              "unique             6        3           2      5         13  \n",
              "top     Professional     1Low       Owner  South          E  \n",
              "freq           14936    29848       29232  15676       8432  "
            ],
            "text/html": [
              "\n",
              "  <div id=\"df-43509808-2261-4dbc-aa75-4b5dbbabbaa7\">\n",
              "    <div class=\"colab-df-container\">\n",
              "      <div>\n",
              "<style scoped>\n",
              "    .dataframe tbody tr th:only-of-type {\n",
              "        vertical-align: middle;\n",
              "    }\n",
              "\n",
              "    .dataframe tbody tr th {\n",
              "        vertical-align: top;\n",
              "    }\n",
              "\n",
              "    .dataframe thead th {\n",
              "        text-align: right;\n",
              "    }\n",
              "</style>\n",
              "<table border=\"1\" class=\"dataframe\">\n",
              "  <thead>\n",
              "    <tr style=\"text-align: right;\">\n",
              "      <th></th>\n",
              "      <th>flag</th>\n",
              "      <th>gender</th>\n",
              "      <th>education</th>\n",
              "      <th>age</th>\n",
              "      <th>online</th>\n",
              "      <th>marriage</th>\n",
              "      <th>child</th>\n",
              "      <th>occupation</th>\n",
              "      <th>mortgage</th>\n",
              "      <th>house_owner</th>\n",
              "      <th>region</th>\n",
              "      <th>fam_income</th>\n",
              "    </tr>\n",
              "  </thead>\n",
              "  <tbody>\n",
              "    <tr>\n",
              "      <th>count</th>\n",
              "      <td>40000</td>\n",
              "      <td>40000</td>\n",
              "      <td>39259</td>\n",
              "      <td>40000</td>\n",
              "      <td>40000</td>\n",
              "      <td>25973</td>\n",
              "      <td>40000</td>\n",
              "      <td>40000</td>\n",
              "      <td>40000</td>\n",
              "      <td>36623</td>\n",
              "      <td>40000</td>\n",
              "      <td>40000</td>\n",
              "    </tr>\n",
              "    <tr>\n",
              "      <th>unique</th>\n",
              "      <td>2</td>\n",
              "      <td>3</td>\n",
              "      <td>5</td>\n",
              "      <td>7</td>\n",
              "      <td>2</td>\n",
              "      <td>2</td>\n",
              "      <td>4</td>\n",
              "      <td>6</td>\n",
              "      <td>3</td>\n",
              "      <td>2</td>\n",
              "      <td>5</td>\n",
              "      <td>13</td>\n",
              "    </tr>\n",
              "    <tr>\n",
              "      <th>top</th>\n",
              "      <td>Y</td>\n",
              "      <td>M</td>\n",
              "      <td>2. Some College</td>\n",
              "      <td>5_&lt;=55</td>\n",
              "      <td>Y</td>\n",
              "      <td>Married</td>\n",
              "      <td>Y</td>\n",
              "      <td>Professional</td>\n",
              "      <td>1Low</td>\n",
              "      <td>Owner</td>\n",
              "      <td>South</td>\n",
              "      <td>E</td>\n",
              "    </tr>\n",
              "    <tr>\n",
              "      <th>freq</th>\n",
              "      <td>20000</td>\n",
              "      <td>22019</td>\n",
              "      <td>11400</td>\n",
              "      <td>8103</td>\n",
              "      <td>27319</td>\n",
              "      <td>20891</td>\n",
              "      <td>18012</td>\n",
              "      <td>14936</td>\n",
              "      <td>29848</td>\n",
              "      <td>29232</td>\n",
              "      <td>15676</td>\n",
              "      <td>8432</td>\n",
              "    </tr>\n",
              "  </tbody>\n",
              "</table>\n",
              "</div>\n",
              "      <button class=\"colab-df-convert\" onclick=\"convertToInteractive('df-43509808-2261-4dbc-aa75-4b5dbbabbaa7')\"\n",
              "              title=\"Convert this dataframe to an interactive table.\"\n",
              "              style=\"display:none;\">\n",
              "        \n",
              "  <svg xmlns=\"http://www.w3.org/2000/svg\" height=\"24px\"viewBox=\"0 0 24 24\"\n",
              "       width=\"24px\">\n",
              "    <path d=\"M0 0h24v24H0V0z\" fill=\"none\"/>\n",
              "    <path d=\"M18.56 5.44l.94 2.06.94-2.06 2.06-.94-2.06-.94-.94-2.06-.94 2.06-2.06.94zm-11 1L8.5 8.5l.94-2.06 2.06-.94-2.06-.94L8.5 2.5l-.94 2.06-2.06.94zm10 10l.94 2.06.94-2.06 2.06-.94-2.06-.94-.94-2.06-.94 2.06-2.06.94z\"/><path d=\"M17.41 7.96l-1.37-1.37c-.4-.4-.92-.59-1.43-.59-.52 0-1.04.2-1.43.59L10.3 9.45l-7.72 7.72c-.78.78-.78 2.05 0 2.83L4 21.41c.39.39.9.59 1.41.59.51 0 1.02-.2 1.41-.59l7.78-7.78 2.81-2.81c.8-.78.8-2.07 0-2.86zM5.41 20L4 18.59l7.72-7.72 1.47 1.35L5.41 20z\"/>\n",
              "  </svg>\n",
              "      </button>\n",
              "      \n",
              "  <style>\n",
              "    .colab-df-container {\n",
              "      display:flex;\n",
              "      flex-wrap:wrap;\n",
              "      gap: 12px;\n",
              "    }\n",
              "\n",
              "    .colab-df-convert {\n",
              "      background-color: #E8F0FE;\n",
              "      border: none;\n",
              "      border-radius: 50%;\n",
              "      cursor: pointer;\n",
              "      display: none;\n",
              "      fill: #1967D2;\n",
              "      height: 32px;\n",
              "      padding: 0 0 0 0;\n",
              "      width: 32px;\n",
              "    }\n",
              "\n",
              "    .colab-df-convert:hover {\n",
              "      background-color: #E2EBFA;\n",
              "      box-shadow: 0px 1px 2px rgba(60, 64, 67, 0.3), 0px 1px 3px 1px rgba(60, 64, 67, 0.15);\n",
              "      fill: #174EA6;\n",
              "    }\n",
              "\n",
              "    [theme=dark] .colab-df-convert {\n",
              "      background-color: #3B4455;\n",
              "      fill: #D2E3FC;\n",
              "    }\n",
              "\n",
              "    [theme=dark] .colab-df-convert:hover {\n",
              "      background-color: #434B5C;\n",
              "      box-shadow: 0px 1px 3px 1px rgba(0, 0, 0, 0.15);\n",
              "      filter: drop-shadow(0px 1px 2px rgba(0, 0, 0, 0.3));\n",
              "      fill: #FFFFFF;\n",
              "    }\n",
              "  </style>\n",
              "\n",
              "      <script>\n",
              "        const buttonEl =\n",
              "          document.querySelector('#df-43509808-2261-4dbc-aa75-4b5dbbabbaa7 button.colab-df-convert');\n",
              "        buttonEl.style.display =\n",
              "          google.colab.kernel.accessAllowed ? 'block' : 'none';\n",
              "\n",
              "        async function convertToInteractive(key) {\n",
              "          const element = document.querySelector('#df-43509808-2261-4dbc-aa75-4b5dbbabbaa7');\n",
              "          const dataTable =\n",
              "            await google.colab.kernel.invokeFunction('convertToInteractive',\n",
              "                                                     [key], {});\n",
              "          if (!dataTable) return;\n",
              "\n",
              "          const docLinkHtml = 'Like what you see? Visit the ' +\n",
              "            '<a target=\"_blank\" href=https://colab.research.google.com/notebooks/data_table.ipynb>data table notebook</a>'\n",
              "            + ' to learn more about interactive tables.';\n",
              "          element.innerHTML = '';\n",
              "          dataTable['output_type'] = 'display_data';\n",
              "          await google.colab.output.renderOutput(dataTable, element);\n",
              "          const docLink = document.createElement('div');\n",
              "          docLink.innerHTML = docLinkHtml;\n",
              "          element.appendChild(docLink);\n",
              "        }\n",
              "      </script>\n",
              "    </div>\n",
              "  </div>\n",
              "  "
            ]
          },
          "metadata": {},
          "execution_count": 226
        }
      ]
    },
    {
      "cell_type": "code",
      "source": [
        "data.info()"
      ],
      "metadata": {
        "colab": {
          "base_uri": "https://localhost:8080/"
        },
        "id": "20tva-6aA3HF",
        "outputId": "6aea2045-63f4-42db-cbc1-2b892c9c5548"
      },
      "execution_count": null,
      "outputs": [
        {
          "output_type": "stream",
          "name": "stdout",
          "text": [
            "<class 'pandas.core.frame.DataFrame'>\n",
            "RangeIndex: 40000 entries, 0 to 39999\n",
            "Data columns (total 13 columns):\n",
            " #   Column       Non-Null Count  Dtype \n",
            "---  ------       --------------  ----- \n",
            " 0   flag         40000 non-null  object\n",
            " 1   gender       40000 non-null  object\n",
            " 2   education    39259 non-null  object\n",
            " 3   house_val    40000 non-null  int64 \n",
            " 4   age          40000 non-null  object\n",
            " 5   online       40000 non-null  object\n",
            " 6   marriage     25973 non-null  object\n",
            " 7   child        40000 non-null  object\n",
            " 8   occupation   40000 non-null  object\n",
            " 9   mortgage     40000 non-null  object\n",
            " 10  house_owner  36623 non-null  object\n",
            " 11  region       40000 non-null  object\n",
            " 12  fam_income   40000 non-null  object\n",
            "dtypes: int64(1), object(12)\n",
            "memory usage: 4.0+ MB\n"
          ]
        }
      ]
    },
    {
      "cell_type": "code",
      "source": [
        "data[(data['gender'] == 'F') & (data['flag'] == 'Y')]"
      ],
      "metadata": {
        "colab": {
          "base_uri": "https://localhost:8080/",
          "height": 540
        },
        "id": "Gi0IldaBspIe",
        "outputId": "e621b6ce-ccc5-4a3c-9822-90a1e498a530"
      },
      "execution_count": null,
      "outputs": [
        {
          "output_type": "execute_result",
          "data": {
            "text/plain": [
              "      flag gender        education  house_val     age online marriage child  \\\n",
              "4        Y      F  2. Some College     117087   1_Unk      Y  Married     Y   \n",
              "5        Y      F          3. Bach     248694  6_<=65      Y  Married     N   \n",
              "11       Y      F          3. Bach     245686  4_<=45      N  Married     U   \n",
              "12       Y      F  2. Some College     360587  5_<=55      Y  Married     Y   \n",
              "14       Y      F          3. Bach     380431  6_<=65      Y      NaN     U   \n",
              "...    ...    ...              ...        ...     ...    ...      ...   ...   \n",
              "39969    Y      F  2. Some College     130605  6_<=65      Y      NaN     N   \n",
              "39975    Y      F            1. HS          0   7_>65      Y  Married     N   \n",
              "39983    Y      F          3. Bach     174650  5_<=55      Y  Married     Y   \n",
              "39985    Y      F          4. Grad     632200  3_<=35      Y      NaN     Y   \n",
              "39995    Y      F          3. Bach          0   7_>65      Y      NaN     U   \n",
              "\n",
              "          occupation mortgage house_owner   region fam_income  \n",
              "4      Sales/Service     1Low         NaN    South          H  \n",
              "5       Professional     2Med       Owner     West          G  \n",
              "11       Blue Collar     1Low       Owner    South          E  \n",
              "12      Professional    3High       Owner  Midwest          J  \n",
              "14      Professional     1Low       Owner    South          A  \n",
              "...              ...      ...         ...      ...        ...  \n",
              "39969  Sales/Service     1Low       Owner    South          G  \n",
              "39975        Retired     1Low       Owner    South          C  \n",
              "39983   Professional     1Low       Owner    South          D  \n",
              "39985   Professional    3High       Owner    South          K  \n",
              "39995        Retired     1Low         NaN    South          F  \n",
              "\n",
              "[6561 rows x 13 columns]"
            ],
            "text/html": [
              "\n",
              "  <div id=\"df-22e1d396-d4ac-4ee3-8577-a93918bac328\">\n",
              "    <div class=\"colab-df-container\">\n",
              "      <div>\n",
              "<style scoped>\n",
              "    .dataframe tbody tr th:only-of-type {\n",
              "        vertical-align: middle;\n",
              "    }\n",
              "\n",
              "    .dataframe tbody tr th {\n",
              "        vertical-align: top;\n",
              "    }\n",
              "\n",
              "    .dataframe thead th {\n",
              "        text-align: right;\n",
              "    }\n",
              "</style>\n",
              "<table border=\"1\" class=\"dataframe\">\n",
              "  <thead>\n",
              "    <tr style=\"text-align: right;\">\n",
              "      <th></th>\n",
              "      <th>flag</th>\n",
              "      <th>gender</th>\n",
              "      <th>education</th>\n",
              "      <th>house_val</th>\n",
              "      <th>age</th>\n",
              "      <th>online</th>\n",
              "      <th>marriage</th>\n",
              "      <th>child</th>\n",
              "      <th>occupation</th>\n",
              "      <th>mortgage</th>\n",
              "      <th>house_owner</th>\n",
              "      <th>region</th>\n",
              "      <th>fam_income</th>\n",
              "    </tr>\n",
              "  </thead>\n",
              "  <tbody>\n",
              "    <tr>\n",
              "      <th>4</th>\n",
              "      <td>Y</td>\n",
              "      <td>F</td>\n",
              "      <td>2. Some College</td>\n",
              "      <td>117087</td>\n",
              "      <td>1_Unk</td>\n",
              "      <td>Y</td>\n",
              "      <td>Married</td>\n",
              "      <td>Y</td>\n",
              "      <td>Sales/Service</td>\n",
              "      <td>1Low</td>\n",
              "      <td>NaN</td>\n",
              "      <td>South</td>\n",
              "      <td>H</td>\n",
              "    </tr>\n",
              "    <tr>\n",
              "      <th>5</th>\n",
              "      <td>Y</td>\n",
              "      <td>F</td>\n",
              "      <td>3. Bach</td>\n",
              "      <td>248694</td>\n",
              "      <td>6_&lt;=65</td>\n",
              "      <td>Y</td>\n",
              "      <td>Married</td>\n",
              "      <td>N</td>\n",
              "      <td>Professional</td>\n",
              "      <td>2Med</td>\n",
              "      <td>Owner</td>\n",
              "      <td>West</td>\n",
              "      <td>G</td>\n",
              "    </tr>\n",
              "    <tr>\n",
              "      <th>11</th>\n",
              "      <td>Y</td>\n",
              "      <td>F</td>\n",
              "      <td>3. Bach</td>\n",
              "      <td>245686</td>\n",
              "      <td>4_&lt;=45</td>\n",
              "      <td>N</td>\n",
              "      <td>Married</td>\n",
              "      <td>U</td>\n",
              "      <td>Blue Collar</td>\n",
              "      <td>1Low</td>\n",
              "      <td>Owner</td>\n",
              "      <td>South</td>\n",
              "      <td>E</td>\n",
              "    </tr>\n",
              "    <tr>\n",
              "      <th>12</th>\n",
              "      <td>Y</td>\n",
              "      <td>F</td>\n",
              "      <td>2. Some College</td>\n",
              "      <td>360587</td>\n",
              "      <td>5_&lt;=55</td>\n",
              "      <td>Y</td>\n",
              "      <td>Married</td>\n",
              "      <td>Y</td>\n",
              "      <td>Professional</td>\n",
              "      <td>3High</td>\n",
              "      <td>Owner</td>\n",
              "      <td>Midwest</td>\n",
              "      <td>J</td>\n",
              "    </tr>\n",
              "    <tr>\n",
              "      <th>14</th>\n",
              "      <td>Y</td>\n",
              "      <td>F</td>\n",
              "      <td>3. Bach</td>\n",
              "      <td>380431</td>\n",
              "      <td>6_&lt;=65</td>\n",
              "      <td>Y</td>\n",
              "      <td>NaN</td>\n",
              "      <td>U</td>\n",
              "      <td>Professional</td>\n",
              "      <td>1Low</td>\n",
              "      <td>Owner</td>\n",
              "      <td>South</td>\n",
              "      <td>A</td>\n",
              "    </tr>\n",
              "    <tr>\n",
              "      <th>...</th>\n",
              "      <td>...</td>\n",
              "      <td>...</td>\n",
              "      <td>...</td>\n",
              "      <td>...</td>\n",
              "      <td>...</td>\n",
              "      <td>...</td>\n",
              "      <td>...</td>\n",
              "      <td>...</td>\n",
              "      <td>...</td>\n",
              "      <td>...</td>\n",
              "      <td>...</td>\n",
              "      <td>...</td>\n",
              "      <td>...</td>\n",
              "    </tr>\n",
              "    <tr>\n",
              "      <th>39969</th>\n",
              "      <td>Y</td>\n",
              "      <td>F</td>\n",
              "      <td>2. Some College</td>\n",
              "      <td>130605</td>\n",
              "      <td>6_&lt;=65</td>\n",
              "      <td>Y</td>\n",
              "      <td>NaN</td>\n",
              "      <td>N</td>\n",
              "      <td>Sales/Service</td>\n",
              "      <td>1Low</td>\n",
              "      <td>Owner</td>\n",
              "      <td>South</td>\n",
              "      <td>G</td>\n",
              "    </tr>\n",
              "    <tr>\n",
              "      <th>39975</th>\n",
              "      <td>Y</td>\n",
              "      <td>F</td>\n",
              "      <td>1. HS</td>\n",
              "      <td>0</td>\n",
              "      <td>7_&gt;65</td>\n",
              "      <td>Y</td>\n",
              "      <td>Married</td>\n",
              "      <td>N</td>\n",
              "      <td>Retired</td>\n",
              "      <td>1Low</td>\n",
              "      <td>Owner</td>\n",
              "      <td>South</td>\n",
              "      <td>C</td>\n",
              "    </tr>\n",
              "    <tr>\n",
              "      <th>39983</th>\n",
              "      <td>Y</td>\n",
              "      <td>F</td>\n",
              "      <td>3. Bach</td>\n",
              "      <td>174650</td>\n",
              "      <td>5_&lt;=55</td>\n",
              "      <td>Y</td>\n",
              "      <td>Married</td>\n",
              "      <td>Y</td>\n",
              "      <td>Professional</td>\n",
              "      <td>1Low</td>\n",
              "      <td>Owner</td>\n",
              "      <td>South</td>\n",
              "      <td>D</td>\n",
              "    </tr>\n",
              "    <tr>\n",
              "      <th>39985</th>\n",
              "      <td>Y</td>\n",
              "      <td>F</td>\n",
              "      <td>4. Grad</td>\n",
              "      <td>632200</td>\n",
              "      <td>3_&lt;=35</td>\n",
              "      <td>Y</td>\n",
              "      <td>NaN</td>\n",
              "      <td>Y</td>\n",
              "      <td>Professional</td>\n",
              "      <td>3High</td>\n",
              "      <td>Owner</td>\n",
              "      <td>South</td>\n",
              "      <td>K</td>\n",
              "    </tr>\n",
              "    <tr>\n",
              "      <th>39995</th>\n",
              "      <td>Y</td>\n",
              "      <td>F</td>\n",
              "      <td>3. Bach</td>\n",
              "      <td>0</td>\n",
              "      <td>7_&gt;65</td>\n",
              "      <td>Y</td>\n",
              "      <td>NaN</td>\n",
              "      <td>U</td>\n",
              "      <td>Retired</td>\n",
              "      <td>1Low</td>\n",
              "      <td>NaN</td>\n",
              "      <td>South</td>\n",
              "      <td>F</td>\n",
              "    </tr>\n",
              "  </tbody>\n",
              "</table>\n",
              "<p>6561 rows × 13 columns</p>\n",
              "</div>\n",
              "      <button class=\"colab-df-convert\" onclick=\"convertToInteractive('df-22e1d396-d4ac-4ee3-8577-a93918bac328')\"\n",
              "              title=\"Convert this dataframe to an interactive table.\"\n",
              "              style=\"display:none;\">\n",
              "        \n",
              "  <svg xmlns=\"http://www.w3.org/2000/svg\" height=\"24px\"viewBox=\"0 0 24 24\"\n",
              "       width=\"24px\">\n",
              "    <path d=\"M0 0h24v24H0V0z\" fill=\"none\"/>\n",
              "    <path d=\"M18.56 5.44l.94 2.06.94-2.06 2.06-.94-2.06-.94-.94-2.06-.94 2.06-2.06.94zm-11 1L8.5 8.5l.94-2.06 2.06-.94-2.06-.94L8.5 2.5l-.94 2.06-2.06.94zm10 10l.94 2.06.94-2.06 2.06-.94-2.06-.94-.94-2.06-.94 2.06-2.06.94z\"/><path d=\"M17.41 7.96l-1.37-1.37c-.4-.4-.92-.59-1.43-.59-.52 0-1.04.2-1.43.59L10.3 9.45l-7.72 7.72c-.78.78-.78 2.05 0 2.83L4 21.41c.39.39.9.59 1.41.59.51 0 1.02-.2 1.41-.59l7.78-7.78 2.81-2.81c.8-.78.8-2.07 0-2.86zM5.41 20L4 18.59l7.72-7.72 1.47 1.35L5.41 20z\"/>\n",
              "  </svg>\n",
              "      </button>\n",
              "      \n",
              "  <style>\n",
              "    .colab-df-container {\n",
              "      display:flex;\n",
              "      flex-wrap:wrap;\n",
              "      gap: 12px;\n",
              "    }\n",
              "\n",
              "    .colab-df-convert {\n",
              "      background-color: #E8F0FE;\n",
              "      border: none;\n",
              "      border-radius: 50%;\n",
              "      cursor: pointer;\n",
              "      display: none;\n",
              "      fill: #1967D2;\n",
              "      height: 32px;\n",
              "      padding: 0 0 0 0;\n",
              "      width: 32px;\n",
              "    }\n",
              "\n",
              "    .colab-df-convert:hover {\n",
              "      background-color: #E2EBFA;\n",
              "      box-shadow: 0px 1px 2px rgba(60, 64, 67, 0.3), 0px 1px 3px 1px rgba(60, 64, 67, 0.15);\n",
              "      fill: #174EA6;\n",
              "    }\n",
              "\n",
              "    [theme=dark] .colab-df-convert {\n",
              "      background-color: #3B4455;\n",
              "      fill: #D2E3FC;\n",
              "    }\n",
              "\n",
              "    [theme=dark] .colab-df-convert:hover {\n",
              "      background-color: #434B5C;\n",
              "      box-shadow: 0px 1px 3px 1px rgba(0, 0, 0, 0.15);\n",
              "      filter: drop-shadow(0px 1px 2px rgba(0, 0, 0, 0.3));\n",
              "      fill: #FFFFFF;\n",
              "    }\n",
              "  </style>\n",
              "\n",
              "      <script>\n",
              "        const buttonEl =\n",
              "          document.querySelector('#df-22e1d396-d4ac-4ee3-8577-a93918bac328 button.colab-df-convert');\n",
              "        buttonEl.style.display =\n",
              "          google.colab.kernel.accessAllowed ? 'block' : 'none';\n",
              "\n",
              "        async function convertToInteractive(key) {\n",
              "          const element = document.querySelector('#df-22e1d396-d4ac-4ee3-8577-a93918bac328');\n",
              "          const dataTable =\n",
              "            await google.colab.kernel.invokeFunction('convertToInteractive',\n",
              "                                                     [key], {});\n",
              "          if (!dataTable) return;\n",
              "\n",
              "          const docLinkHtml = 'Like what you see? Visit the ' +\n",
              "            '<a target=\"_blank\" href=https://colab.research.google.com/notebooks/data_table.ipynb>data table notebook</a>'\n",
              "            + ' to learn more about interactive tables.';\n",
              "          element.innerHTML = '';\n",
              "          dataTable['output_type'] = 'display_data';\n",
              "          await google.colab.output.renderOutput(dataTable, element);\n",
              "          const docLink = document.createElement('div');\n",
              "          docLink.innerHTML = docLinkHtml;\n",
              "          element.appendChild(docLink);\n",
              "        }\n",
              "      </script>\n",
              "    </div>\n",
              "  </div>\n",
              "  "
            ]
          },
          "metadata": {},
          "execution_count": 228
        }
      ]
    },
    {
      "cell_type": "code",
      "source": [
        "data[\"flag\"].value_counts()"
      ],
      "metadata": {
        "colab": {
          "base_uri": "https://localhost:8080/"
        },
        "id": "30x-BoLxBElE",
        "outputId": "586e46c6-c024-4ce9-b8e7-3a7175b0afd3"
      },
      "execution_count": null,
      "outputs": [
        {
          "output_type": "execute_result",
          "data": {
            "text/plain": [
              "Y    20000\n",
              "N    20000\n",
              "Name: flag, dtype: int64"
            ]
          },
          "metadata": {},
          "execution_count": 229
        }
      ]
    },
    {
      "cell_type": "code",
      "source": [
        "data[\"education\"].value_counts()"
      ],
      "metadata": {
        "colab": {
          "base_uri": "https://localhost:8080/"
        },
        "id": "slWT4ut5BFHG",
        "outputId": "afd0ab4c-4f2b-41b4-c347-9526aaeea090"
      },
      "execution_count": null,
      "outputs": [
        {
          "output_type": "execute_result",
          "data": {
            "text/plain": [
              "2. Some College    11400\n",
              "3. Bach             9267\n",
              "1. HS               8828\n",
              "4. Grad             5916\n",
              "0. <HS              3848\n",
              "Name: education, dtype: int64"
            ]
          },
          "metadata": {},
          "execution_count": 230
        }
      ]
    },
    {
      "cell_type": "code",
      "source": [
        "data[\"occupation\"].value_counts()\n"
      ],
      "metadata": {
        "colab": {
          "base_uri": "https://localhost:8080/"
        },
        "id": "gpFiF6KDBFS4",
        "outputId": "4be911ea-63a7-4838-931f-9ae08f554413"
      },
      "execution_count": null,
      "outputs": [
        {
          "output_type": "execute_result",
          "data": {
            "text/plain": [
              "Professional     14936\n",
              "Sales/Service    11767\n",
              "Blue Collar       6621\n",
              "Retired           4341\n",
              "Others            2006\n",
              "Farm               329\n",
              "Name: occupation, dtype: int64"
            ]
          },
          "metadata": {},
          "execution_count": 231
        }
      ]
    },
    {
      "cell_type": "code",
      "source": [
        "data[\"region\"].value_counts()"
      ],
      "metadata": {
        "colab": {
          "base_uri": "https://localhost:8080/"
        },
        "id": "okpz_ovqBNwK",
        "outputId": "daca9c93-5674-4f77-bee7-7306a6aef487"
      },
      "execution_count": null,
      "outputs": [
        {
          "output_type": "execute_result",
          "data": {
            "text/plain": [
              "South        15676\n",
              "West          8725\n",
              "Midwest       8107\n",
              "Northeast     7247\n",
              "Rest           245\n",
              "Name: region, dtype: int64"
            ]
          },
          "metadata": {},
          "execution_count": 232
        }
      ]
    },
    {
      "cell_type": "code",
      "source": [
        "data[\"marriage\"].value_counts()"
      ],
      "metadata": {
        "colab": {
          "base_uri": "https://localhost:8080/"
        },
        "id": "9bDmrpzDUdFP",
        "outputId": "0e18a16c-aa7d-4778-aec5-b780986f5237"
      },
      "execution_count": null,
      "outputs": [
        {
          "output_type": "execute_result",
          "data": {
            "text/plain": [
              "Married    20891\n",
              "Single      5082\n",
              "Name: marriage, dtype: int64"
            ]
          },
          "metadata": {},
          "execution_count": 233
        }
      ]
    },
    {
      "cell_type": "code",
      "source": [
        "data.education.value_counts().plot.barh()"
      ],
      "metadata": {
        "colab": {
          "base_uri": "https://localhost:8080/",
          "height": 282
        },
        "id": "x7_ThOs3BQrR",
        "outputId": "ad8eb397-4776-49b3-f0c1-11eac5aa81d2"
      },
      "execution_count": null,
      "outputs": [
        {
          "output_type": "execute_result",
          "data": {
            "text/plain": [
              "<AxesSubplot:>"
            ]
          },
          "metadata": {},
          "execution_count": 234
        },
        {
          "output_type": "display_data",
          "data": {
            "text/plain": [
              "<Figure size 432x288 with 1 Axes>"
            ],
            "image/png": "[encoded data removed]"
          },
          "metadata": {
            "needs_background": "light"
          }
        }
      ]
    },
    {
      "cell_type": "code",
      "source": [
        "data.region.value_counts().plot.barh()"
      ],
      "metadata": {
        "colab": {
          "base_uri": "https://localhost:8080/",
          "height": 282
        },
        "id": "PQ_-PPEFBRIt",
        "outputId": "c723fadb-3559-4035-f87a-56518517e77a"
      },
      "execution_count": null,
      "outputs": [
        {
          "output_type": "execute_result",
          "data": {
            "text/plain": [
              "<AxesSubplot:>"
            ]
          },
          "metadata": {},
          "execution_count": 235
        },
        {
          "output_type": "display_data",
          "data": {
            "text/plain": [
              "<Figure size 432x288 with 1 Axes>"
            ],
            "image/png": "[encoded data removed]"
          },
          "metadata": {
            "needs_background": "light"
          }
        }
      ]
    },
    {
      "cell_type": "code",
      "source": [
        "data.marriage.value_counts().plot.barh()"
      ],
      "metadata": {
        "colab": {
          "base_uri": "https://localhost:8080/",
          "height": 282
        },
        "id": "RTeUa3sYBRUc",
        "outputId": "c5d567b7-3619-47e7-afe3-6b88898cbead"
      },
      "execution_count": null,
      "outputs": [
        {
          "output_type": "execute_result",
          "data": {
            "text/plain": [
              "<AxesSubplot:>"
            ]
          },
          "metadata": {},
          "execution_count": 236
        },
        {
          "output_type": "display_data",
          "data": {
            "text/plain": [
              "<Figure size 432x288 with 1 Axes>"
            ],
            "image/png": "[encoded data removed]"
          },
          "metadata": {
            "needs_background": "light"
          }
        }
      ]
    },
    {
      "cell_type": "code",
      "source": [
        "sns.boxplot( x=data[\"house_val\"] );\n",
        "plt.show()"
      ],
      "metadata": {
        "colab": {
          "base_uri": "https://localhost:8080/",
          "height": 280
        },
        "id": "rzBrE-d6BReh",
        "outputId": "d8650404-af29-4839-ed9f-6f0384d26ffa"
      },
      "execution_count": null,
      "outputs": [
        {
          "output_type": "display_data",
          "data": {
            "text/plain": [
              "<Figure size 432x288 with 1 Axes>"
            ],
            "image/png": "[encoded data removed]"
          },
          "metadata": {
            "needs_background": "light"
          }
        }
      ]
    },
    {
      "cell_type": "code",
      "source": [
        "data.isna().any()"
      ],
      "metadata": {
        "colab": {
          "base_uri": "https://localhost:8080/"
        },
        "id": "CgIQJCtvBc5o",
        "outputId": "08712311-0a57-4839-f7dd-74bd18a5b8b5"
      },
      "execution_count": null,
      "outputs": [
        {
          "output_type": "execute_result",
          "data": {
            "text/plain": [
              "flag           False\n",
              "gender         False\n",
              "education       True\n",
              "house_val      False\n",
              "age            False\n",
              "online         False\n",
              "marriage        True\n",
              "child          False\n",
              "occupation     False\n",
              "mortgage       False\n",
              "house_owner     True\n",
              "region         False\n",
              "fam_income     False\n",
              "dtype: bool"
            ]
          },
          "metadata": {},
          "execution_count": 238
        }
      ]
    },
    {
      "cell_type": "code",
      "source": [
        "print(\"Missing values distribution: \")\n",
        "print(data.isnull().mean())\n",
        "print(\"\")"
      ],
      "metadata": {
        "colab": {
          "base_uri": "https://localhost:8080/"
        },
        "id": "rpX_9WEUBgan",
        "outputId": "7e06c19f-ed6a-43f7-d5f6-2a228881b5f8"
      },
      "execution_count": null,
      "outputs": [
        {
          "output_type": "stream",
          "name": "stdout",
          "text": [
            "Missing values distribution: \n",
            "flag           0.000000\n",
            "gender         0.000000\n",
            "education      0.018525\n",
            "house_val      0.000000\n",
            "age            0.000000\n",
            "online         0.000000\n",
            "marriage       0.350675\n",
            "child          0.000000\n",
            "occupation     0.000000\n",
            "mortgage       0.000000\n",
            "house_owner    0.084425\n",
            "region         0.000000\n",
            "fam_income     0.000000\n",
            "dtype: float64\n",
            "\n"
          ]
        }
      ]
    },
    {
      "cell_type": "code",
      "source": [
        "education_nan_count = data['education'].isna().sum()"
      ],
      "metadata": {
        "id": "-mri40gKBjlJ"
      },
      "execution_count": null,
      "outputs": []
    },
    {
      "cell_type": "code",
      "source": [
        "marriage_nan_count = data['marriage'].isna().sum()"
      ],
      "metadata": {
        "id": "tAO13EXaBlO7"
      },
      "execution_count": null,
      "outputs": []
    },
    {
      "cell_type": "code",
      "source": [
        "house_owner_nan_count = data ['house_owner'].isna().sum()"
      ],
      "metadata": {
        "id": "25qVx08eBlaZ"
      },
      "execution_count": null,
      "outputs": []
    },
    {
      "cell_type": "code",
      "source": [
        "print(\"The number of values missing from the education column is: \" + str(education_nan_count))\n",
        "print(\"The number of values missing from the marriage column is: \" + str(marriage_nan_count))\n",
        "print(\"The number of values missing from the house owner column: \" + str(house_owner_nan_count))"
      ],
      "metadata": {
        "colab": {
          "base_uri": "https://localhost:8080/"
        },
        "id": "MxUrqs49Btv4",
        "outputId": "e6f44af6-fd4c-490c-a0d9-90b3c20425d3"
      },
      "execution_count": null,
      "outputs": [
        {
          "output_type": "stream",
          "name": "stdout",
          "text": [
            "The number of values missing from the education column is: 741\n",
            "The number of values missing from the marriage column is: 14027\n",
            "The number of values missing from the house owner column: 3377\n"
          ]
        }
      ]
    },
    {
      "cell_type": "code",
      "source": [
        "data = data.drop('online', axis=1)"
      ],
      "metadata": {
        "id": "SeTBTETfFlCw"
      },
      "execution_count": null,
      "outputs": []
    },
    {
      "cell_type": "code",
      "source": [
        "#encode ordinal variables\n",
        "enc = OrdinalEncoder()\n",
        "#return an array of numerical values\n",
        "data[\"fam_income\"] = enc.fit_transform(data[[\"fam_income\"]])\n",
        "\n",
        "data[\"mortgage\"] = enc.fit_transform(data[[\"mortgage\"]])\n",
        "\n",
        "data[\"fam_income\"].value_counts()\n",
        "\n",
        "data[\"mortgage\"].value_counts()\n",
        "\n"
      ],
      "metadata": {
        "colab": {
          "base_uri": "https://localhost:8080/"
        },
        "id": "4lGEKPY3s99k",
        "outputId": "f35fbc7c-2316-4ea9-a5ba-bbad9db9cdf0"
      },
      "execution_count": null,
      "outputs": [
        {
          "output_type": "execute_result",
          "data": {
            "text/plain": [
              "0.0    29848\n",
              "2.0     5349\n",
              "1.0     4803\n",
              "Name: mortgage, dtype: int64"
            ]
          },
          "metadata": {},
          "execution_count": 245
        }
      ]
    },
    {
      "cell_type": "code",
      "source": [
        "count = (data['house_val'] == 0).sum()"
      ],
      "metadata": {
        "id": "6QGYDHjjB732"
      },
      "execution_count": null,
      "outputs": []
    },
    {
      "cell_type": "code",
      "source": [
        "print('Count of zeros in House Value column is : ', count)"
      ],
      "metadata": {
        "colab": {
          "base_uri": "https://localhost:8080/"
        },
        "id": "7BU2ZaVSCCf_",
        "outputId": "790a1ae5-c827-4598-9279-e4b84f83afd7"
      },
      "execution_count": null,
      "outputs": [
        {
          "output_type": "stream",
          "name": "stdout",
          "text": [
            "Count of zeros in House Value column is :  7696\n"
          ]
        }
      ]
    },
    {
      "cell_type": "code",
      "source": [
        "#deal with zeros in house value column\n",
        "\n",
        "data['house_val'].mean()\n",
        "\n",
        "data['house_val'].median()\n",
        "\n",
        "data['house_val']=data['house_val'].replace(0,data['house_val'].median())"
      ],
      "metadata": {
        "id": "GRXeOwrttMMG"
      },
      "execution_count": null,
      "outputs": []
    },
    {
      "cell_type": "code",
      "source": [
        "#replace symbols in age and education\n",
        "data['age'] = data['age'].str.replace('_', '').str.replace('<','').str.replace('=', '').str.replace('>','')\n",
        "\n",
        "data['education'] = data['education'].str.replace('.', '').str.replace('<','')\n"
      ],
      "metadata": {
        "colab": {
          "base_uri": "https://localhost:8080/"
        },
        "id": "31xP-AyVtfqq",
        "outputId": "4945468c-88e6-420b-efc4-0de58d317fec"
      },
      "execution_count": null,
      "outputs": [
        {
          "output_type": "stream",
          "name": "stderr",
          "text": [
            "<ipython-input-249-7f6e18968611>:4: FutureWarning:\n",
            "\n",
            "The default value of regex will change from True to False in a future version. In addition, single character regular expressions will *not* be treated as literal strings when regex=True.\n",
            "\n"
          ]
        }
      ]
    },
    {
      "cell_type": "code",
      "source": [
        "data['age'] = data['age'].replace(\"1Unk\", 1)\n",
        "data['age'] = data['age'].replace(\"225\", 2)\n",
        "data['age'] = data['age'].replace(\"335\", 3)\n",
        "data['age'] = data['age'].replace(\"445\", 4)\n",
        "data['age'] = data['age'].replace(\"555\", 5)\n",
        "data['age'] = data['age'].replace(\"665\", 6)\n",
        "data['age'] = data['age'].replace(\"765\", 7)\n",
        "\n",
        "data['age'].mean()\n"
      ],
      "metadata": {
        "colab": {
          "base_uri": "https://localhost:8080/"
        },
        "id": "ecf62oD5tiv6",
        "outputId": "6c92e24c-4d0e-416e-b2d3-033ad2bad74c"
      },
      "execution_count": null,
      "outputs": [
        {
          "output_type": "execute_result",
          "data": {
            "text/plain": [
              "4.1138"
            ]
          },
          "metadata": {},
          "execution_count": 250
        }
      ]
    },
    {
      "cell_type": "code",
      "source": [
        "\n",
        "data['gender'] = data['gender'].replace(\"M\", 0)\n",
        "data['gender'] = data['gender'].replace(\"F\", 1)\n",
        "data['gender'] = data['gender'].replace(\"U\", 00)"
      ],
      "metadata": {
        "id": "WFDSz3gMtm1N"
      },
      "execution_count": null,
      "outputs": []
    },
    {
      "cell_type": "code",
      "source": [
        "data['marriage'] = data['marriage'].replace(\"Single\", 0)\n",
        "data['marriage'] = data['marriage'].replace(\"Married\", 1)"
      ],
      "metadata": {
        "id": "wNbcigiTtw0s"
      },
      "execution_count": null,
      "outputs": []
    },
    {
      "cell_type": "code",
      "source": [
        "data['child'] = data['child'].replace(\"N\", 0)\n",
        "data['child'] = data['child'].replace(\"0\", 0)\n",
        "data['child'] = data['child'].replace(\"Y\", 1)\n",
        "data['child'] = data['child'].replace(\"U\", 00)"
      ],
      "metadata": {
        "id": "WijBdttZt0l1"
      },
      "execution_count": null,
      "outputs": []
    },
    {
      "cell_type": "code",
      "source": [
        "\n",
        "data['house_owner'] = data['house_owner'].replace(\"Renter\", 0)\n",
        "data['house_owner'] = data['house_owner'].replace(\"Owner\", 1)"
      ],
      "metadata": {
        "id": "nxqTLvmBt3lv"
      },
      "execution_count": null,
      "outputs": []
    },
    {
      "cell_type": "code",
      "source": [
        "#education\n",
        "data['education'] = data['education'].replace(\"0 HS\", 0)\n",
        "data['education'] = data['education'].replace(\"1 HS\", 1)\n",
        "data['education'] = data['education'].replace(\"2 Some College\", 2)\n",
        "data['education'] = data['education'].replace(\"3 Bach\", 3)\n",
        "data['education'] = data['education'].replace(\"4 Grad\", 4)"
      ],
      "metadata": {
        "id": "8_DarawYt6my"
      },
      "execution_count": null,
      "outputs": []
    },
    {
      "cell_type": "code",
      "source": [
        "\n",
        "#occupation encode others as 00\n",
        "data['occupation'] = data['occupation'].replace(\"Farm\", 0)\n",
        "data['occupation'] = data['occupation'].replace(\"Retired\", 1)\n",
        "data['occupation'] = data['occupation'].replace(\"Blue Collar\", 2)\n",
        "data['occupation'] = data['occupation'].replace(\"Sales/Service\", 3)\n",
        "data['occupation'] = data['occupation'].replace(\"Professional\", 4)\n",
        "data['occupation'] = data['occupation'].replace(\"Others\", 5)\n"
      ],
      "metadata": {
        "id": "gKdL9tIpt9qX"
      },
      "execution_count": null,
      "outputs": []
    },
    {
      "cell_type": "code",
      "source": [
        "\n",
        "#region, encode rest as 00\n",
        "data['region'] = data['region'].replace(\"South\", 0)\n",
        "data['region'] = data['region'].replace(\"West\", 1)\n",
        "data['region'] = data['region'].replace(\"Midwest\", 2)\n",
        "data['region'] = data['region'].replace(\"Northeast\", 3)\n",
        "data['region'] = data['region'].replace(\"Rest\", 00)\n"
      ],
      "metadata": {
        "id": "rdv2un38uBNN"
      },
      "execution_count": null,
      "outputs": []
    },
    {
      "cell_type": "code",
      "source": [
        "#flag\n",
        "data['flag'] = data['flag'].replace(\"N\", 0)\n",
        "data['flag'] = data['flag'].replace(\"Y\", 1)\n"
      ],
      "metadata": {
        "id": "SLnlzoXbuD-r"
      },
      "execution_count": null,
      "outputs": []
    },
    {
      "cell_type": "code",
      "source": [
        "#handle missing values\n",
        "data['education'].fillna('U', inplace = True)\n",
        "data['marriage'].fillna('U', inplace = True)\n",
        "data['house_owner'].fillna('U', inplace = True)\n"
      ],
      "metadata": {
        "id": "6W5cU_gfuGdh"
      },
      "execution_count": null,
      "outputs": []
    },
    {
      "cell_type": "code",
      "source": [
        "#replace all unknowns with 00\n",
        "data['education']= data['education'].replace(\"U\", 00)\n",
        "data['marriage']= data['marriage'].replace(\"U\", 00)\n",
        "data['house_owner']= data['house_owner'].replace(\"U\", 00)"
      ],
      "metadata": {
        "id": "PLcmuWLOuJjP"
      },
      "execution_count": null,
      "outputs": []
    },
    {
      "cell_type": "code",
      "source": [
        "data.isna().any()"
      ],
      "metadata": {
        "colab": {
          "base_uri": "https://localhost:8080/"
        },
        "id": "SzSdPBL3uMK5",
        "outputId": "83aeb6ae-0af9-4d45-befe-6f13f16864dd"
      },
      "execution_count": null,
      "outputs": [
        {
          "output_type": "execute_result",
          "data": {
            "text/plain": [
              "flag           False\n",
              "gender         False\n",
              "education      False\n",
              "house_val      False\n",
              "age            False\n",
              "marriage       False\n",
              "child          False\n",
              "occupation     False\n",
              "mortgage       False\n",
              "house_owner    False\n",
              "region         False\n",
              "fam_income     False\n",
              "dtype: bool"
            ]
          },
          "metadata": {},
          "execution_count": 261
        }
      ]
    },
    {
      "cell_type": "code",
      "source": [
        "data.info()"
      ],
      "metadata": {
        "colab": {
          "base_uri": "https://localhost:8080/"
        },
        "id": "zkmRTh_SuPgI",
        "outputId": "2b2ee6c4-a304-4223-a661-23edb47f3877"
      },
      "execution_count": null,
      "outputs": [
        {
          "output_type": "stream",
          "name": "stdout",
          "text": [
            "<class 'pandas.core.frame.DataFrame'>\n",
            "RangeIndex: 40000 entries, 0 to 39999\n",
            "Data columns (total 12 columns):\n",
            " #   Column       Non-Null Count  Dtype  \n",
            "---  ------       --------------  -----  \n",
            " 0   flag         40000 non-null  int64  \n",
            " 1   gender       40000 non-null  int64  \n",
            " 2   education    40000 non-null  float64\n",
            " 3   house_val    40000 non-null  int64  \n",
            " 4   age          40000 non-null  int64  \n",
            " 5   marriage     40000 non-null  float64\n",
            " 6   child        40000 non-null  int64  \n",
            " 7   occupation   40000 non-null  int64  \n",
            " 8   mortgage     40000 non-null  float64\n",
            " 9   house_owner  40000 non-null  float64\n",
            " 10  region       40000 non-null  int64  \n",
            " 11  fam_income   40000 non-null  float64\n",
            "dtypes: float64(5), int64(7)\n",
            "memory usage: 3.7 MB\n"
          ]
        }
      ]
    },
    {
      "cell_type": "code",
      "source": [
        "#convert floats to integer\n",
        "data['education'] = pd.to_numeric(data['education']).astype('Int64')\n",
        "data['marriage'] = pd.to_numeric(data['marriage']).astype('Int64')\n",
        "data['house_owner'] = pd.to_numeric(data['house_owner']).astype('Int64')\n",
        "data['fam_income'] = pd.to_numeric(data['fam_income']).astype('Int64')\n",
        "data['mortgage'] = pd.to_numeric(data['mortgage']).astype('Int64')\n"
      ],
      "metadata": {
        "id": "0LddXjKiuVMf"
      },
      "execution_count": null,
      "outputs": []
    },
    {
      "cell_type": "code",
      "source": [
        "data.info()"
      ],
      "metadata": {
        "colab": {
          "base_uri": "https://localhost:8080/"
        },
        "id": "_J0r6cebub3x",
        "outputId": "b61cbc23-729c-4224-9e94-9ae8c3b6663e"
      },
      "execution_count": null,
      "outputs": [
        {
          "output_type": "stream",
          "name": "stdout",
          "text": [
            "<class 'pandas.core.frame.DataFrame'>\n",
            "RangeIndex: 40000 entries, 0 to 39999\n",
            "Data columns (total 12 columns):\n",
            " #   Column       Non-Null Count  Dtype\n",
            "---  ------       --------------  -----\n",
            " 0   flag         40000 non-null  int64\n",
            " 1   gender       40000 non-null  int64\n",
            " 2   education    40000 non-null  Int64\n",
            " 3   house_val    40000 non-null  int64\n",
            " 4   age          40000 non-null  int64\n",
            " 5   marriage     40000 non-null  Int64\n",
            " 6   child        40000 non-null  int64\n",
            " 7   occupation   40000 non-null  int64\n",
            " 8   mortgage     40000 non-null  Int64\n",
            " 9   house_owner  40000 non-null  Int64\n",
            " 10  region       40000 non-null  int64\n",
            " 11  fam_income   40000 non-null  Int64\n",
            "dtypes: Int64(5), int64(7)\n",
            "memory usage: 3.9 MB\n"
          ]
        }
      ]
    },
    {
      "cell_type": "code",
      "source": [
        "data.head()"
      ],
      "metadata": {
        "colab": {
          "base_uri": "https://localhost:8080/",
          "height": 206
        },
        "id": "NICJ-AQ-uuth",
        "outputId": "deb89774-320c-4ef7-d272-5ef68f533fcb"
      },
      "execution_count": null,
      "outputs": [
        {
          "output_type": "execute_result",
          "data": {
            "text/plain": [
              "   flag  gender  education  house_val  age  marriage  child  occupation  \\\n",
              "0     1       0          4     756460    1         0      0           4   \n",
              "1     0       1          3     213171    7         0      0           4   \n",
              "2     0       0          2     111147    2         0      1           4   \n",
              "3     1       0          2     354151    2         0      0           3   \n",
              "4     1       1          2     117087    1         1      1           3   \n",
              "\n",
              "   mortgage  house_owner  region  fam_income  \n",
              "0         0            0       2          11  \n",
              "1         0            1       3           6  \n",
              "2         0            1       2           9  \n",
              "3         0            0       1          11  \n",
              "4         0            0       0           7  "
            ],
            "text/html": [
              "\n",
              "  <div id=\"df-65f54018-46eb-4a52-9589-5e9d4089548a\">\n",
              "    <div class=\"colab-df-container\">\n",
              "      <div>\n",
              "<style scoped>\n",
              "    .dataframe tbody tr th:only-of-type {\n",
              "        vertical-align: middle;\n",
              "    }\n",
              "\n",
              "    .dataframe tbody tr th {\n",
              "        vertical-align: top;\n",
              "    }\n",
              "\n",
              "    .dataframe thead th {\n",
              "        text-align: right;\n",
              "    }\n",
              "</style>\n",
              "<table border=\"1\" class=\"dataframe\">\n",
              "  <thead>\n",
              "    <tr style=\"text-align: right;\">\n",
              "      <th></th>\n",
              "      <th>flag</th>\n",
              "      <th>gender</th>\n",
              "      <th>education</th>\n",
              "      <th>house_val</th>\n",
              "      <th>age</th>\n",
              "      <th>marriage</th>\n",
              "      <th>child</th>\n",
              "      <th>occupation</th>\n",
              "      <th>mortgage</th>\n",
              "      <th>house_owner</th>\n",
              "      <th>region</th>\n",
              "      <th>fam_income</th>\n",
              "    </tr>\n",
              "  </thead>\n",
              "  <tbody>\n",
              "    <tr>\n",
              "      <th>0</th>\n",
              "      <td>1</td>\n",
              "      <td>0</td>\n",
              "      <td>4</td>\n",
              "      <td>756460</td>\n",
              "      <td>1</td>\n",
              "      <td>0</td>\n",
              "      <td>0</td>\n",
              "      <td>4</td>\n",
              "      <td>0</td>\n",
              "      <td>0</td>\n",
              "      <td>2</td>\n",
              "      <td>11</td>\n",
              "    </tr>\n",
              "    <tr>\n",
              "      <th>1</th>\n",
              "      <td>0</td>\n",
              "      <td>1</td>\n",
              "      <td>3</td>\n",
              "      <td>213171</td>\n",
              "      <td>7</td>\n",
              "      <td>0</td>\n",
              "      <td>0</td>\n",
              "      <td>4</td>\n",
              "      <td>0</td>\n",
              "      <td>1</td>\n",
              "      <td>3</td>\n",
              "      <td>6</td>\n",
              "    </tr>\n",
              "    <tr>\n",
              "      <th>2</th>\n",
              "      <td>0</td>\n",
              "      <td>0</td>\n",
              "      <td>2</td>\n",
              "      <td>111147</td>\n",
              "      <td>2</td>\n",
              "      <td>0</td>\n",
              "      <td>1</td>\n",
              "      <td>4</td>\n",
              "      <td>0</td>\n",
              "      <td>1</td>\n",
              "      <td>2</td>\n",
              "      <td>9</td>\n",
              "    </tr>\n",
              "    <tr>\n",
              "      <th>3</th>\n",
              "      <td>1</td>\n",
              "      <td>0</td>\n",
              "      <td>2</td>\n",
              "      <td>354151</td>\n",
              "      <td>2</td>\n",
              "      <td>0</td>\n",
              "      <td>0</td>\n",
              "      <td>3</td>\n",
              "      <td>0</td>\n",
              "      <td>0</td>\n",
              "      <td>1</td>\n",
              "      <td>11</td>\n",
              "    </tr>\n",
              "    <tr>\n",
              "      <th>4</th>\n",
              "      <td>1</td>\n",
              "      <td>1</td>\n",
              "      <td>2</td>\n",
              "      <td>117087</td>\n",
              "      <td>1</td>\n",
              "      <td>1</td>\n",
              "      <td>1</td>\n",
              "      <td>3</td>\n",
              "      <td>0</td>\n",
              "      <td>0</td>\n",
              "      <td>0</td>\n",
              "      <td>7</td>\n",
              "    </tr>\n",
              "  </tbody>\n",
              "</table>\n",
              "</div>\n",
              "      <button class=\"colab-df-convert\" onclick=\"convertToInteractive('df-65f54018-46eb-4a52-9589-5e9d4089548a')\"\n",
              "              title=\"Convert this dataframe to an interactive table.\"\n",
              "              style=\"display:none;\">\n",
              "        \n",
              "  <svg xmlns=\"http://www.w3.org/2000/svg\" height=\"24px\"viewBox=\"0 0 24 24\"\n",
              "       width=\"24px\">\n",
              "    <path d=\"M0 0h24v24H0V0z\" fill=\"none\"/>\n",
              "    <path d=\"M18.56 5.44l.94 2.06.94-2.06 2.06-.94-2.06-.94-.94-2.06-.94 2.06-2.06.94zm-11 1L8.5 8.5l.94-2.06 2.06-.94-2.06-.94L8.5 2.5l-.94 2.06-2.06.94zm10 10l.94 2.06.94-2.06 2.06-.94-2.06-.94-.94-2.06-.94 2.06-2.06.94z\"/><path d=\"M17.41 7.96l-1.37-1.37c-.4-.4-.92-.59-1.43-.59-.52 0-1.04.2-1.43.59L10.3 9.45l-7.72 7.72c-.78.78-.78 2.05 0 2.83L4 21.41c.39.39.9.59 1.41.59.51 0 1.02-.2 1.41-.59l7.78-7.78 2.81-2.81c.8-.78.8-2.07 0-2.86zM5.41 20L4 18.59l7.72-7.72 1.47 1.35L5.41 20z\"/>\n",
              "  </svg>\n",
              "      </button>\n",
              "      \n",
              "  <style>\n",
              "    .colab-df-container {\n",
              "      display:flex;\n",
              "      flex-wrap:wrap;\n",
              "      gap: 12px;\n",
              "    }\n",
              "\n",
              "    .colab-df-convert {\n",
              "      background-color: #E8F0FE;\n",
              "      border: none;\n",
              "      border-radius: 50%;\n",
              "      cursor: pointer;\n",
              "      display: none;\n",
              "      fill: #1967D2;\n",
              "      height: 32px;\n",
              "      padding: 0 0 0 0;\n",
              "      width: 32px;\n",
              "    }\n",
              "\n",
              "    .colab-df-convert:hover {\n",
              "      background-color: #E2EBFA;\n",
              "      box-shadow: 0px 1px 2px rgba(60, 64, 67, 0.3), 0px 1px 3px 1px rgba(60, 64, 67, 0.15);\n",
              "      fill: #174EA6;\n",
              "    }\n",
              "\n",
              "    [theme=dark] .colab-df-convert {\n",
              "      background-color: #3B4455;\n",
              "      fill: #D2E3FC;\n",
              "    }\n",
              "\n",
              "    [theme=dark] .colab-df-convert:hover {\n",
              "      background-color: #434B5C;\n",
              "      box-shadow: 0px 1px 3px 1px rgba(0, 0, 0, 0.15);\n",
              "      filter: drop-shadow(0px 1px 2px rgba(0, 0, 0, 0.3));\n",
              "      fill: #FFFFFF;\n",
              "    }\n",
              "  </style>\n",
              "\n",
              "      <script>\n",
              "        const buttonEl =\n",
              "          document.querySelector('#df-65f54018-46eb-4a52-9589-5e9d4089548a button.colab-df-convert');\n",
              "        buttonEl.style.display =\n",
              "          google.colab.kernel.accessAllowed ? 'block' : 'none';\n",
              "\n",
              "        async function convertToInteractive(key) {\n",
              "          const element = document.querySelector('#df-65f54018-46eb-4a52-9589-5e9d4089548a');\n",
              "          const dataTable =\n",
              "            await google.colab.kernel.invokeFunction('convertToInteractive',\n",
              "                                                     [key], {});\n",
              "          if (!dataTable) return;\n",
              "\n",
              "          const docLinkHtml = 'Like what you see? Visit the ' +\n",
              "            '<a target=\"_blank\" href=https://colab.research.google.com/notebooks/data_table.ipynb>data table notebook</a>'\n",
              "            + ' to learn more about interactive tables.';\n",
              "          element.innerHTML = '';\n",
              "          dataTable['output_type'] = 'display_data';\n",
              "          await google.colab.output.renderOutput(dataTable, element);\n",
              "          const docLink = document.createElement('div');\n",
              "          docLink.innerHTML = docLinkHtml;\n",
              "          element.appendChild(docLink);\n",
              "        }\n",
              "      </script>\n",
              "    </div>\n",
              "  </div>\n",
              "  "
            ]
          },
          "metadata": {},
          "execution_count": 265
        }
      ]
    },
    {
      "cell_type": "code",
      "source": [
        "sns.boxplot(x='flag',y='education',data=data ,palette='rainbow')"
      ],
      "metadata": {
        "colab": {
          "base_uri": "https://localhost:8080/",
          "height": 296
        },
        "id": "ZBw0PnbFuy4b",
        "outputId": "89ed8806-a025-4b94-8e13-808e1ed9cc36"
      },
      "execution_count": null,
      "outputs": [
        {
          "output_type": "execute_result",
          "data": {
            "text/plain": [
              "<AxesSubplot:xlabel='flag', ylabel='education'>"
            ]
          },
          "metadata": {},
          "execution_count": 266
        },
        {
          "output_type": "display_data",
          "data": {
            "text/plain": [
              "<Figure size 432x288 with 1 Axes>"
            ],
            "image/png": "[encoded data removed]"
          },
          "metadata": {
            "needs_background": "light"
          }
        }
      ]
    },
    {
      "cell_type": "code",
      "source": [
        "pd.crosstab(data.age,data.flag).plot(kind='bar')\n",
        "plt.title('Frequency')\n",
        "plt.xlabel('Age')\n",
        "plt.ylabel('Frequency')"
      ],
      "metadata": {
        "colab": {
          "base_uri": "https://localhost:8080/",
          "height": 309
        },
        "id": "VSoZl9w-wHO7",
        "outputId": "cbdd0acd-d02b-48dc-a6d3-9ecde42125b6"
      },
      "execution_count": null,
      "outputs": [
        {
          "output_type": "execute_result",
          "data": {
            "text/plain": [
              "Text(0, 0.5, 'Frequency')"
            ]
          },
          "metadata": {},
          "execution_count": 267
        },
        {
          "output_type": "display_data",
          "data": {
            "text/plain": [
              "<Figure size 432x288 with 1 Axes>"
            ],
            "image/png": "[encoded data removed]"
          },
          "metadata": {
            "needs_background": "light"
          }
        }
      ]
    },
    {
      "cell_type": "code",
      "source": [
        "pd.crosstab(data.region, data.flag).plot(kind='bar')\n",
        "plt.title('Region and Flag')\n",
        "plt.xlabel('Region')\n",
        "plt.ylabel('Frequency')"
      ],
      "metadata": {
        "colab": {
          "base_uri": "https://localhost:8080/",
          "height": 309
        },
        "id": "NKBhR_v3wLrN",
        "outputId": "50708622-0335-40f3-ad28-e092426918f8"
      },
      "execution_count": null,
      "outputs": [
        {
          "output_type": "execute_result",
          "data": {
            "text/plain": [
              "Text(0, 0.5, 'Frequency')"
            ]
          },
          "metadata": {},
          "execution_count": 268
        },
        {
          "output_type": "display_data",
          "data": {
            "text/plain": [
              "<Figure size 432x288 with 1 Axes>"
            ],
            "image/png": "[encoded data removed]"
          },
          "metadata": {
            "needs_background": "light"
          }
        }
      ]
    },
    {
      "cell_type": "code",
      "source": [
        "pd.crosstab(data.fam_income, data.flag).plot(kind='bar')\n",
        "plt.title('Family Income and Flag')\n",
        "plt.xlabel('Income')\n",
        "plt.ylabel('Frequency')"
      ],
      "metadata": {
        "colab": {
          "base_uri": "https://localhost:8080/",
          "height": 315
        },
        "id": "ipwtmVcJwyRC",
        "outputId": "cfc170a1-3136-49e4-893a-ee39ea0814b5"
      },
      "execution_count": null,
      "outputs": [
        {
          "output_type": "execute_result",
          "data": {
            "text/plain": [
              "Text(0, 0.5, 'Frequency')"
            ]
          },
          "metadata": {},
          "execution_count": 269
        },
        {
          "output_type": "display_data",
          "data": {
            "text/plain": [
              "<Figure size 432x288 with 1 Axes>"
            ],
            "image/png": "[encoded data removed]"
          },
          "metadata": {
            "needs_background": "light"
          }
        }
      ]
    },
    {
      "cell_type": "code",
      "source": [
        "figure = px.histogram(data, x = \"education\",\n",
        "                      color = \"flag\",\n",
        "                      title= \"Predicting the Purchase by Education\")\n",
        "figure.show()"
      ],
      "metadata": {
        "colab": {
          "base_uri": "https://localhost:8080/",
          "height": 542
        },
        "id": "OLt8y2t-GQfs",
        "outputId": "9a9e0230-bb74-4c5b-f6f7-8f9519f56ef8"
      },
      "execution_count": null,
      "outputs": [
        {
          "output_type": "display_data",
          "data": {
            "text/html": [
              "<html>\n",
              "<head><meta charset=\"utf-8\" /></head>\n",
              "<body>\n",
              "    <div>            <script src=\"https://cdnjs.cloudflare.com/ajax/libs/mathjax/2.7.5/MathJax.js?config=TeX-AMS-MML_SVG\"></script><script type=\"text/javascript\">if (window.MathJax) {MathJax.Hub.Config({SVG: {font: \"STIX-Web\"}});}</script>                <script type=\"text/javascript\">window.PlotlyConfig = {MathJaxConfig: 'local'};</script>\n",
              "        <script src=\"https://cdn.plot.ly/plotly-2.8.3.min.js\"></script>                <div id=\"0b12d2bf-c19d-4141-9ee7-168fddd30bee\" class=\"plotly-graph-div\" style=\"height:525px; width:100%;\"></div>            <script type=\"text/javascript\">                                    window.PLOTLYENV=window.PLOTLYENV || {};                                    if (document.getElementById(\"0b12d2bf-c19d-4141-9ee7-168fddd30bee\")) {                    Plotly.newPlot(                        \"0b12d2bf-c19d-4141-9ee7-168fddd30bee\",                        [{\"alignmentgroup\":\"True\",\"bingroup\":\"x\",\"hovertemplate\":\"flag=1<br>education=%{x}<br>count=%{y}<extra></extra>\",\"legendgroup\":\"1\",\"marker\":{\"color\":\"#636efa\",\"pattern\":{\"shape\":\"\"}},\"name\":\"1\",\"offsetgroup\":\"1\",\"orientation\":\"v\",\"showlegend\":true,\"x\":[4,2,2,3,3,1,3,2,3,0,2,4,3,3,4,2,2,1,2,4,2,3,1,4,2,0,4,3,3,3,4,3,3,1,3,0,4,2,2,3,1,3,2,4,0,1,4,4,3,4,2,3,3,2,3,2,2,1,3,3,0,3,1,2,3,2,3,4,0,3,1,2,3,4,4,4,4,4,3,3,1,1,3,2,4,3,3,4,3,2,2,1,3,3,3,4,1,4,2,4,3,1,1,3,1,4,1,2,2,4,1,0,3,4,0,3,2,3,2,3,1,0,3,4,3,0,1,4,4,2,1,4,1,2,1,4,2,1,4,3,4,3,4,2,4,2,2,0,3,4,3,4,2,3,3,2,4,3,3,3,4,2,2,1,0,3,2,3,2,0,2,3,2,3,0,0,3,4,3,2,1,1,1,1,3,0,2,1,3,1,3,2,3,3,4,3,3,2,1,1,1,3,1,2,2,3,1,4,4,1,2,2,2,4,4,4,3,3,1,1,4,3,2,3,3,2,0,3,4,3,2,2,4,2,2,4,2,2,1,4,3,3,2,2,4,3,3,2,2,3,0,0,1,3,3,3,2,2,2,3,2,2,0,0,2,4,2,3,1,0,2,4,3,3,2,1,4,2,1,4,4,2,2,4,3,2,0,3,0,3,2,3,3,0,2,2,4,1,3,0,4,2,3,3,1,4,2,4,3,2,3,0,2,2,2,2,0,3,4,4,3,3,3,3,3,2,4,4,3,1,2,2,2,0,4,4,3,2,0,2,1,4,1,0,4,2,4,0,1,2,3,2,3,2,3,2,4,3,3,1,2,2,2,2,3,0,1,4,1,3,3,3,0,1,3,0,4,1,4,1,2,3,1,2,1,4,2,4,3,2,3,1,1,2,2,1,3,2,4,3,1,3,0,3,2,2,3,1,2,2,3,3,0,1,1,0,4,4,1,3,3,3,4,2,2,1,3,0,2,3,3,3,3,3,3,3,1,4,2,1,2,2,4,1,2,2,3,0,2,3,3,4,2,4,2,0,3,3,2,4,3,3,4,4,4,4,4,2,1,3,4,4,2,4,4,0,3,3,1,4,1,2,4,3,2,3,2,1,2,1,0,2,4,2,3,3,1,3,4,0,1,2,0,3,2,2,1,3,3,3,3,1,3,2,3,0,1,1,3,1,3,2,4,1,3,4,4,2,4,1,3,1,3,4,1,1,1,1,2,4,3,1,4,2,4,1,4,2,4,3,3,1,4,4,4,3,4,1,2,0,3,4,3,2,0,2,3,4,2,2,2,3,3,3,3,1,2,1,3,1,4,3,3,0,4,2,3,2,1,3,4,0,2,1,2,4,2,0,2,3,4,4,3,2,3,3,2,0,2,1,4,3,1,3,3,3,4,1,3,1,2,4,4,3,4,3,4,4,2,3,4,2,0,2,0,3,3,3,3,2,3,1,0,3,4,3,0,2,3,2,2,3,4,3,0,0,2,1,1,2,4,3,3,2,3,4,2,3,2,4,2,3,3,2,2,2,3,3,3,1,4,3,2,3,1,2,4,3,2,3,3,4,2,3,3,1,4,3,2,3,2,3,3,2,1,3,1,1,1,3,3,3,4,4,1,2,2,0,1,0,2,4,3,1,4,4,0,3,1,1,1,1,3,4,2,4,3,4,3,3,3,2,4,3,3,1,2,0,0,2,4,3,2,0,3,3,4,3,4,3,1,2,2,3,1,2,3,1,1,3,3,3,1,1,3,2,4,4,4,1,3,1,3,3,2,4,4,1,1,2,3,1,3,2,3,3,2,4,3,2,1,1,1,2,4,3,1,4,1,3,0,3,2,0,2,4,1,1,2,4,1,3,4,2,2,3,2,3,2,1,2,3,4,2,3,3,1,3,4,2,3,2,0,3,4,1,1,1,3,2,1,3,4,2,4,4,3,3,0,1,3,0,4,0,3,3,4,3,2,2,4,4,2,4,2,1,3,0,3,2,3,3,2,2,0,1,1,2,1,2,2,3,4,3,2,2,2,3,3,4,2,3,4,1,1,2,1,1,4,4,3,2,3,1,2,1,1,1,4,2,1,3,0,2,2,3,2,3,4,0,1,0,2,1,2,4,3,1,3,1,3,3,2,3,1,2,1,2,2,2,4,2,4,4,4,1,3,3,3,3,4,3,3,3,1,0,2,1,4,0,2,3,2,3,1,2,3,2,0,3,1,4,4,4,3,3,1,2,0,3,0,2,2,2,3,4,4,1,2,3,2,1,3,2,2,2,2,1,4,3,4,1,2,0,4,1,3,2,3,4,0,0,3,3,4,2,3,3,4,2,2,2,0,3,3,4,1,1,1,1,2,1,3,4,2,4,3,4,3,1,2,3,3,2,4,1,2,1,4,3,2,2,4,1,1,2,3,0,2,1,2,2,0,4,4,3,2,3,3,3,1,2,4,3,3,4,2,3,3,1,2,3,2,2,2,2,2,3,3,0,4,4,3,2,3,1,0,2,2,4,3,2,4,2,3,2,2,3,2,0,1,3,3,4,3,4,3,4,2,1,3,0,2,4,2,3,4,3,1,2,3,2,3,1,4,1,3,1,2,2,3,4,1,1,0,2,3,2,1,4,2,0,4,3,3,0,3,0,0,2,2,0,3,0,3,2,3,1,3,1,4,2,4,1,3,3,2,1,3,1,1,3,4,4,2,3,1,2,2,1,3,1,1,4,1,1,2,2,4,1,2,1,3,2,4,1,3,1,3,3,4,2,2,2,2,2,2,1,3,4,2,3,1,1,3,2,2,3,3,1,1,4,2,3,3,4,3,3,2,3,4,4,1,0,2,4,1,4,2,2,2,3,2,3,2,1,3,1,3,1,1,3,2,4,4,3,4,2,3,4,4,1,2,1,3,3,4,3,2,2,4,3,4,3,3,4,2,4,3,1,1,2,4,2,1,0,2,0,0,1,2,4,3,2,3,2,3,2,4,3,2,2,4,1,2,4,3,4,3,3,4,4,3,4,4,3,3,2,2,1,1,2,2,3,4,4,2,2,1,0,4,3,1,2,2,2,3,3,0,4,1,1,2,2,2,3,2,2,4,4,4,0,3,0,2,2,1,1,1,3,3,0,1,1,4,3,3,2,3,4,3,2,2,4,4,3,2,4,4,3,2,3,2,1,2,4,2,1,2,2,3,1,3,1,2,1,3,2,3,3,3,2,3,3,3,2,4,2,1,3,1,3,2,3,2,3,2,4,4,3,2,2,3,4,3,3,3,4,2,2,1,2,3,4,4,3,4,2,4,3,3,2,3,0,3,1,3,1,2,2,1,2,4,3,3,3,2,0,2,4,3,4,1,4,4,3,2,2,3,3,4,3,0,2,2,1,1,4,1,4,4,4,4,1,3,4,3,3,3,2,2,3,0,4,2,2,4,3,2,3,3,1,3,4,0,2,0,2,4,2,1,3,3,3,3,3,2,1,3,4,2,2,2,2,1,3,3,2,4,1,1,4,4,2,2,2,2,1,1,3,2,4,4,3,2,2,1,1,1,4,3,3,3,2,1,4,3,3,1,4,3,3,1,3,1,2,1,2,1,3,1,3,0,2,3,3,3,4,3,1,3,2,4,4,0,3,3,2,2,4,3,4,3,1,2,4,1,0,1,1,4,2,0,4,3,4,1,1,2,1,4,1,3,3,2,3,1,3,2,2,1,1,4,3,4,2,3,2,3,3,2,4,1,0,3,4,1,2,2,3,2,2,3,0,1,4,4,3,4,4,4,4,3,3,3,1,1,3,0,3,3,1,3,2,4,1,3,0,2,1,0,0,3,3,4,2,2,3,1,4,3,4,2,2,2,0,1,0,2,3,2,3,2,2,3,1,3,2,4,1,0,1,4,2,4,4,4,2,4,3,4,3,4,3,4,1,1,1,4,3,1,4,2,2,3,3,2,4,4,4,0,3,3,3,4,0,2,2,1,2,0,2,0,2,0,1,2,4,0,2,4,3,3,4,4,1,0,3,1,3,1,3,4,3,3,3,2,4,3,2,3,2,3,3,1,4,2,4,3,3,2,4,2,2,4,1,2,2,2,4,3,1,3,2,2,2,2,1,3,0,4,2,1,4,3,3,2,0,4,2,1,2,0,4,4,0,2,4,4,1,1,3,0,3,4,4,1,4,4,2,4,4,3,2,3,0,2,4,4,2,3,2,4,1,3,2,4,4,2,3,2,2,3,2,1,0,2,1,3,2,1,0,3,4,1,0,1,4,2,2,3,2,4,3,4,3,4,3,3,3,4,3,2,3,2,0,3,2,1,4,0,3,2,2,1,4,2,3,3,1,2,0,2,1,2,2,1,0,3,4,2,3,3,2,2,3,2,4,2,3,0,1,3,3,2,2,4,2,4,2,3,3,1,3,2,2,2,4,3,4,3,2,1,3,2,4,2,2,1,4,3,3,1,1,4,1,2,4,3,2,1,4,0,2,2,2,2,1,2,2,1,3,3,4,2,1,2,3,3,4,4,3,3,4,3,4,2,3,4,2,3,2,4,2,2,0,2,4,2,3,3,4,3,4,2,4,4,4,3,4,0,1,2,2,2,2,1,4,3,3,1,4,3,2,0,2,2,1,4,2,2,4,1,1,0,1,4,0,2,3,4,3,3,2,2,3,1,1,3,2,4,4,3,1,1,2,4,2,2,2,2,3,3,4,1,3,4,2,3,2,2,1,3,2,2,2,0,2,1,2,3,4,2,4,2,2,2,2,4,2,2,4,4,4,3,4,4,0,3,4,3,0,3,2,3,4,2,2,1,0,2,4,2,1,1,1,4,3,3,3,2,2,3,2,3,2,2,4,1,2,4,3,4,1,2,4,1,3,1,4,3,1,2,3,4,2,4,4,1,2,2,1,0,3,3,2,3,2,1,3,2,0,4,2,2,1,2,2,3,2,4,2,1,2,2,3,4,0,2,1,3,2,3,3,2,2,4,3,0,2,3,2,3,0,2,2,2,4,3,2,3,4,2,1,2,1,4,2,3,2,1,0,2,1,2,3,2,2,2,4,3,3,2,2,3,4,3,1,1,2,1,2,0,3,0,1,2,3,4,1,3,2,3,3,3,4,1,0,3,4,4,3,0,0,3,4,3,0,4,3,4,1,3,2,2,3,3,4,4,2,1,1,2,3,2,2,1,3,0,2,3,2,1,2,4,2,4,4,3,3,3,4,4,3,1,3,1,3,4,2,3,3,1,3,2,4,4,1,3,3,1,2,0,1,3,0,2,1,2,3,0,3,4,1,2,0,3,3,2,3,4,0,3,2,1,2,2,3,3,3,2,3,4,3,1,1,3,3,3,3,2,2,1,3,1,2,1,4,2,2,2,1,3,3,3,3,2,2,3,4,1,3,2,1,4,3,2,3,2,2,4,2,1,4,3,2,3,2,1,3,3,3,2,2,3,1,2,3,4,3,3,2,4,4,4,2,0,1,3,2,3,1,2,4,3,3,3,2,3,4,4,3,2,0,3,1,4,2,3,3,4,3,1,0,4,2,3,4,1,2,3,3,4,3,4,4,1,3,3,3,3,3,4,3,3,1,1,4,1,4,1,2,4,4,2,1,3,2,3,1,2,3,3,4,2,3,3,3,4,2,3,3,2,4,2,4,4,4,2,2,4,2,3,1,1,4,0,0,1,1,4,4,4,1,1,2,3,1,2,2,4,4,4,3,2,3,3,2,3,3,2,4,3,2,3,2,2,4,3,0,1,2,4,3,3,3,1,2,1,4,1,1,3,3,0,4,2,4,3,4,2,4,3,3,3,3,1,3,3,2,2,0,3,3,3,1,4,1,2,0,4,1,2,3,2,3,2,3,4,4,2,3,1,3,4,4,1,3,4,4,3,2,2,3,3,2,2,4,2,2,2,4,2,3,3,1,2,3,3,4,2,2,4,0,2,1,2,4,4,2,4,4,3,3,4,4,4,3,2,3,3,2,2,0,3,4,3,3,1,1,1,3,3,0,2,2,4,4,1,2,1,0,2,4,1,2,4,4,2,3,4,3,2,1,4,3,1,3,1,0,1,3,2,3,1,2,4,4,2,2,3,0,2,3,3,4,4,4,0,1,2,0,4,4,2,1,3,4,0,3,1,3,0,1,4,2,1,1,2,0,4,1,1,0,4,4,4,3,3,2,4,2,1,3,0,4,2,2,3,2,3,2,1,1,0,4,1,0,4,3,2,4,1,3,3,3,4,4,4,4,2,2,2,3,2,3,2,4,3,4,2,1,4,3,4,2,2,2,1,2,2,4,3,4,0,3,2,3,4,3,0,3,4,2,3,3,4,1,3,4,3,3,3,3,3,4,4,1,3,4,2,2,4,3,4,1,2,4,2,0,1,2,2,1,3,1,2,3,4,2,1,4,4,3,3,2,2,1,1,3,4,4,1,2,3,3,3,1,1,4,4,1,0,2,4,2,3,3,1,4,0,4,1,3,3,1,3,1,4,3,0,2,3,3,2,4,2,3,3,4,2,1,4,4,2,4,3,1,0,4,1,2,1,2,2,4,0,2,2,2,3,2,4,3,3,3,1,1,2,4,3,3,3,0,4,1,2,3,2,2,3,2,2,2,0,0,2,4,1,3,4,2,3,0,1,3,2,1,2,2,4,4,2,1,1,1,3,2,2,3,2,4,4,4,2,3,3,0,2,2,4,2,1,2,4,0,2,3,2,3,2,4,2,2,3,4,2,2,4,2,2,2,3,1,3,4,1,4,2,4,1,1,3,4,3,2,2,3,1,4,3,2,4,1,4,4,3,1,4,3,4,3,3,2,3,3,3,1,0,2,2,4,1,2,1,1,1,3,3,1,3,1,2,4,2,0,0,0,2,2,4,3,2,2,2,2,2,4,1,4,1,4,3,4,3,1,3,3,1,1,0,3,4,4,2,2,4,3,3,3,4,3,4,3,0,4,2,4,2,4,3,3,2,3,3,3,3,1,2,1,4,2,2,3,4,4,3,3,1,1,1,1,0,4,2,3,3,4,1,2,3,3,3,1,1,1,3,4,4,1,3,4,4,4,4,2,2,3,3,3,4,2,4,2,2,1,3,2,2,3,2,0,3,1,1,2,4,1,3,3,3,2,2,3,2,3,4,4,4,2,1,2,4,3,2,0,3,1,0,2,4,4,2,4,3,1,4,2,1,2,2,3,3,4,3,4,2,1,3,3,2,2,4,2,2,2,4,1,4,4,4,2,3,3,4,3,4,1,2,3,3,1,2,2,1,1,0,1,2,4,3,3,4,2,3,4,4,4,2,4,2,0,4,0,4,1,4,4,2,4,2,2,4,3,4,2,1,2,0,2,2,2,2,2,2,4,3,4,2,4,3,3,4,4,4,1,4,0,2,4,1,3,2,1,4,3,1,2,4,3,4,1,3,4,1,2,4,2,2,3,3,1,3,1,3,4,3,1,4,4,4,3,2,4,4,2,4,4,1,1,3,3,3,1,3,0,1,3,1,3,2,4,2,3,3,2,1,2,3,1,2,4,4,2,3,1,2,3,3,4,1,2,3,2,3,0,3,4,2,3,2,3,1,4,4,3,3,3,1,4,1,3,3,3,4,2,3,3,1,4,2,1,4,3,3,4,3,4,2,4,3,1,2,3,0,1,4,3,2,0,3,4,2,3,1,1,2,3,3,3,2,3,1,4,3,4,3,1,1,2,0,3,2,3,0,3,3,3,1,0,3,3,1,2,1,2,0,2,3,1,2,3,3,2,1,2,3,0,2,1,3,3,4,3,2,3,3,1,2,1,2,4,4,2,1,0,3,3,3,1,2,1,2,2,4,3,4,4,3,2,0,3,3,1,4,4,3,1,3,3,3,1,2,0,4,4,1,0,3,1,3,2,3,2,3,2,3,2,1,4,3,2,4,3,0,3,0,3,2,2,2,3,3,1,3,2,3,4,3,4,1,0,4,2,2,2,1,1,4,3,3,3,1,4,2,0,4,0,1,1,3,1,0,2,1,4,3,2,2,3,2,4,3,2,3,4,3,4,2,3,2,3,0,1,1,3,2,1,3,2,1,4,2,2,4,4,4,3,1,2,3,1,3,4,2,3,3,3,4,3,1,2,3,1,3,2,3,0,2,3,1,3,3,1,3,2,2,1,2,1,4,1,3,2,2,3,1,1,3,3,1,1,3,3,3,2,2,4,4,1,3,0,4,1,4,0,4,4,1,3,3,3,1,4,3,2,4,2,2,0,2,0,2,3,2,2,4,3,3,2,1,4,3,2,1,1,3,2,0,2,1,3,2,3,4,3,3,4,1,3,3,1,2,0,2,3,1,4,2,4,4,4,3,2,2,3,3,2,4,1,3,3,2,2,4,3,2,1,2,3,3,2,0,0,3,3,2,3,4,3,3,4,3,0,2,3,2,2,4,3,2,2,3,1,4,1,4,0,3,1,4,4,2,2,2,2,1,3,2,1,2,0,2,2,2,1,1,3,0,2,3,4,2,3,0,1,1,1,3,3,2,2,2,4,4,4,1,2,2,1,1,3,1,2,3,2,3,4,3,3,1,4,3,2,1,4,0,3,3,3,0,4,3,3,1,3,1,2,1,3,0,2,2,3,1,4,2,2,3,3,1,2,2,2,1,3,2,3,4,1,3,3,2,2,0,2,1,2,2,4,3,3,4,2,4,4,2,1,0,4,2,3,1,0,2,4,3,4,2,4,4,1,3,1,0,4,0,1,1,3,2,2,2,3,3,3,2,3,3,3,1,2,1,4,1,4,1,4,2,4,1,2,2,0,3,2,3,3,3,1,2,1,3,1,4,3,3,2,4,4,0,2,0,2,0,4,4,3,2,3,2,4,0,1,2,3,3,2,2,2,2,2,2,2,3,1,2,3,3,1,3,1,3,0,2,2,4,1,4,4,2,3,0,3,4,2,1,1,3,3,4,0,4,2,2,2,0,2,3,0,3,2,4,3,2,4,0,3,3,2,4,1,3,3,2,2,4,2,3,3,3,0,3,3,1,1,4,2,3,3,3,3,2,4,3,2,1,3,2,2,4,0,2,3,3,4,2,2,2,3,2,0,3,3,2,1,3,3,3,4,3,2,4,0,1,0,2,2,4,0,2,2,2,3,3,3,3,0,3,3,4,1,0,4,2,4,0,3,3,0,1,2,1,2,2,1,2,3,3,0,1,4,4,2,4,0,3,0,1,3,2,1,2,2,2,2,2,1,3,4,1,3,4,3,1,2,4,1,3,4,0,3,4,3,3,1,3,4,1,3,3,3,1,1,4,2,2,1,0,1,2,3,2,4,1,2,2,3,3,4,0,2,4,1,2,0,1,1,4,3,2,4,4,0,3,2,4,4,2,2,0,2,4,1,3,0,3,2,2,2,3,2,2,4,3,4,0,3,3,3,0,3,1,2,3,1,4,3,3,4,0,2,4,2,2,4,2,3,1,1,4,1,4,2,2,4,3,4,3,2,4,3,4,4,3,1,2,1,4,4,4,1,4,1,1,4,1,3,4,1,2,0,4,1,3,3,2,4,1,0,2,4,0,1,3,4,3,2,2,2,1,4,3,2,3,3,3,1,2,2,1,0,4,1,2,2,1,4,3,2,4,0,2,2,3,0,1,0,3,4,0,4,2,2,1,4,2,1,3,3,1,2,0,3,3,4,3,2,1,2,4,1,3,0,2,2,3,2,3,4,1,2,2,2,4,4,4,2,2,0,1,2,3,4,3,3,2,3,4,4,1,4,3,2,2,3,4,3,0,4,2,4,4,4,4,2,3,1,2,3,1,3,2,0,1,3,3,3,1,2,2,0,1,1,2,1,1,3,4,4,0,2,4,0,4,1,3,4,3,3,4,0,0,2,2,1,2,3,4,4,4,1,0,0,0,3,4,2,3,4,1,4,3,3,2,2,3,3,2,2,2,3,4,2,0,4,2,1,3,4,3,3,4,2,2,4,2,2,4,1,0,1,3,1,4,2,1,2,1,1,1,4,3,3,2,2,4,0,3,4,2,4,3,2,1,2,3,4,2,3,2,0,2,3,3,3,3,0,4,1,0,2,1,3,2,4,2,3,3,4,2,3,2,3,1,4,4,3,2,3,0,1,2,2,1,3,1,2,4,2,2,4,2,3,1,2,2,2,1,1,2,2,4,1,2,3,3,4,3,3,3,1,1,3,4,2,2,2,3,4,1,4,2,2,2,4,2,1,1,2,4,3,2,1,4,2,3,2,4,4,1,2,3,4,4,3,3,4,2,4,1,3,4,3,4,2,4,1,3,4,4,3,4,2,4,4,1,0,4,2,0,1,2,0,4,3,1,2,2,1,4,1,4,2,0,3,4,3,2,4,3,0,3,4,3,3,3,3,3,2,1,2,3,0,3,2,3,1,1,2,1,0,2,4,2,2,3,3,2,1,2,2,3,1,4,3,2,4,4,2,3,2,3,3,2,4,0,2,3,3,0,2,3,1,1,3,4,2,2,1,2,4,0,3,2,3,2,2,3,2,0,2,2,2,2,2,2,0,2,0,3,2,1,2,2,3,3,3,2,1,2,3,2,4,0,3,3,3,2,3,2,2,2,0,3,1,2,3,2,1,2,0,4,2,3,2,3,3,2,1,3,1,2,2,0,2,3,3,2,2,4,4,3,3,1,2,1,4,3,3,2,4,4,3,1,1,1,4,1,3,2,3,0,1,3,3,4,4,1,3,0,3,4,4,4,1,3,4,4,2,3,1,0,2,3,3,2,3,3,1,3,3,3,2,3,4,3,2,2,3,3,1,3,2,1,1,3,4,2,3,2,4,3,3,1,4,4,3,3,0,4,4,4,2,1,2,2,0,1,0,2,1,4,2,3,1,3,3,2,2,4,2,3,4,4,3,3,3,1,2,2,2,3,1,4,4,3,2,2,4,4,2,3,3,4,2,4,4,2,3,2,1,2,2,4,3,4,3,1,2,1,2,4,3,1,4,2,3,2,2,3,4,2,2,1,4,2,0,1,2,2,2,2,1,4,4,3,3,2,2,4,3,2,1,4,3,2,1,3,1,2,4,3,1,1,4,3,3,3,4,3,2,2,2,4,3,3,1,2,3,4,1,1,1,4,3,2,2,0,2,3,3,1,3,3,4,1,3,4,2,1,3,1,2,1,0,3,1,3,4,1,1,2,3,1,2,2,3,3,2,4,0,4,4,3,2,2,4,1,2,0,2,4,4,2,0,4,1,2,1,4,3,4,0,1,3,2,4,4,3,4,0,4,4,1,3,3,4,3,1,3,2,1,1,4,4,2,3,0,3,1,4,4,2,3,2,2,3,2,2,3,4,2,4,3,2,3,4,4,3,2,2,2,2,2,4,4,3,3,3,0,2,0,2,3,2,2,2,2,4,2,1,1,2,3,3,2,1,3,3,1,1,4,2,4,1,2,4,1,4,4,1,4,2,2,3,1,3,2,3,2,4,0,3,1,3,2,0,3,4,3,3,2,4,2,2,1,0,4,2,0,2,4,2,3,3,2,2,3,2,4,0,3,1,4,3,3,3,3,4,2,2,2,2,4,4,3,2,4,4,3,3,3,3,3,2,1,3,3,3,3,1,1,2,2,2,3,3,2,1,1,4,1,4,4,3,2,1,1,2,4,2,1,1,3,3,1,3,3,3,1,1,4,3,3,4,4,3,2,4,1,4,0,2,3,2,4,2,2,2,3,3,4,4,3,2,2,2,3,2,3,4,1,1,2,2,2,2,4,4,3,3,2,3,3,4,3,1,3,4,2,4,4,3,2,0,1,1,2,2,3,3,2,4,3,4,4,4,2,4,4,1,4,2,3,2,4,2,3,3,2,2,1,0,4,1,3,4,4,3,4,2,1,4,2,2,2,3,2,2,1,2,2,2,3,2,2,3,3,2,2,4,3,3,1,1,3,4,3,3,4,1,0,3,4,3,4,2,3,2,1,3,2,3,3,2,4,1,1,2,3,4,1,3,3,3,2,2,2,3,3,2,3,1,3,2,2,0,3,2,4,1,3,3,1,4,1,3,4,2,3,4,2,3,1,1,3,2,1,1,1,0,4,2,3,3,4,4,1,4,2,0,3,2,3,4,1,3,0,1,1,1,2,0,4,3,4,2,2,4,4,4,3,4,0,4,0,0,4,3,2,1,1,3,1,3,1,3,2,2,1,0,3,3,4,0,4,3,3,2,2,3,2,4,2,3,0,2,2,4,1,2,2,3,4,3,2,2,4,0,3,2,1,3,2,4,2,3,3,4,2,3,3,2,1,2,4,0,3,4,3,4,2,3,2,3,4,0,2,2,3,2,3,4,3,3,3,4,2,4,3,3,3,2,1,0,3,3,0,3,1,4,2,4,2,1,0,2,3,4,2,3,4,2,2,0,3,4,2,2,1,3,3,3,1,4,2,3,2,4,3,4,2,2,2,4,4,1,4,1,4,0,1,3,3,3,4,3,2,3,1,1,3,2,2,1,2,3,3,2,4,2,2,1,4,4,2,3,1,2,4,2,4,0,2,4,3,4,3,2,3,1,3,3,1,1,3,3,4,3,1,4,3,2,4,4,4,0,3,0,1,4,3,4,3,1,2,2,4,3,2,2,2,3,0,2,3,3,4,0,1,3,3,1,4,3,4,4,1,4,1,2,2,4,3,1,2,4,3,2,3,3,4,3,4,4,3,3,0,1,2,4,2,2,1,3,1,3,2,4,4,0,4,3,2,4,2,4,3,2,1,4,3,3,1,0,3,1,3,2,3,2,3,3,3,3,3,3,2,3,2,3,3,3,2,1,2,4,4,4,2,2,4,2,3,1,2,3,3,2,1,2,2,3,3,3,2,3,1,2,4,4,2,4,2,3,1,4,2,2,1,1,2,4,4,2,3,0,2,3,4,0,3,4,1,0,1,2,4,2,4,1,2,3,3,1,1,4,3,1,2,2,3,2,3,3,2,1,2,1,1,3,1,4,3,1,2,2,1,2,2,0,1,3,2,2,1,0,4,0,2,4,1,1,3,4,2,2,3,4,4,3,2,0,2,3,1,1,2,1,1,0,3,3,2,2,2,3,3,4,1,2,0,4,0,3,4,3,0,1,3,4,2,2,4,3,1,0,4,1,2,2,4,2,0,2,3,2,2,2,2,0,1,3,0,3,3,4,2,4,1,2,1,1,3,4,3,3,0,4,3,4,3,3,4,1,1,3,4,3,1,3,3,2,3,1,1,3,2,2,3,2,3,2,4,4,1,1,4,2,2,2,2,1,3,3,2,3,2,3,1,2,3,2,1,2,1,0,1,3,1,3,3,3,3,4,2,3,4,3,0,3,2,3,1,4,2,4,4,3,3,3,0,2,0,3,3,2,2,0,0,2,4,3,3,3,4,4,0,0,1,1,4,2,4,4,3,3,4,3,3,4,2,1,2,3,2,4,2,4,2,3,3,0,3,3,2,3,2,4,3,4,4,3,4,2,4,2,4,1,0,4,3,2,1,2,4,2,3,4,1,4,4,1,2,2,4,0,2,2,4,4,1,4,3,1,4,3,3,3,2,2,1,3,0,3,4,2,2,1,2,2,4,4,2,3,4,1,3,4,2,4,2,1,1,4,3,2,2,0,3,2,2,3,3,4,3,1,2,1,2,4,3,2,4,3,3,0,1,4,3,1,4,4,2,1,4,2,3,2,3,4,3,2,2,2,1,3,2,4,0,4,3,3,2,3,3,4,2,4,2,2,2,4,2,2,1,4,3,0,3,1,4,3,0,2,4,1,4,3,3,3,1,2,4,2,3,4,2,3,3,2,3,3,0,2,0,3,4,0,1,2,4,3,2,2,3,2,4,1,3,3,4,3,2,3,3,1,2,3,2,1,2,2,2,3,3,3,3,3,2,3,2,1,2,3,4,2,3,0,4,0,2,3,2,0,3,2,3,3,3,2,0,1,2,2,2,3,2,4,3,2,4,4,0,1,4,2,2,1,0,2,4,2,3,4,1,4,2,4,3,3,4,4,1,2,4,4,3,0,3,3,2,1,3,2,4,1,3,2,2,3,2,3,2,2,4,0,1,3,1,2,3,2,1,2,2,3,3,2,1,4,2,4,3,0,3,2,0,4,2,3,0,3,2,3,1,3,3,2,2,4,1,3,4,0,2,3,2,4,2,1,4,1,4,3,3,1,3,2,3,2,1,2,1,0,3,0,3,3,1,4,2,2,1,2,2,4,3,0,2,2,2,2,2,2,4,4,4,3,2,3,1,2,3,1,3,3,2,4,1,2,4,3,2,2,1,2,3,2,2,4,2,2,2,2,1,2,2,1,3,2,4,1,3,3,4,4,3,4,2,2,1,1,2,3,3,2,1,3,3,2,3,0,4,1,1,3,4,3,2,1,0,2,3,3,1,2,3,3,3,2,4,2,1,2,3,1,0,4,3,1,3,0,3,3,3,2,4,3,1,4,0,0,0,0,3,2,2,2,4,2,4,3,2,4,4,3,2,3,2,3,1,3,4,4,3,2,3,2,2,2,2,1,2,3,2,2,2,3,3,3,1,4,3,0,4,4,2,3,4,2,2,3,1,3,3,3,1,3,4,3,3,4,1,4,3,2,2,3,3,2,3,0,1,1,4,2,3,2,4,3,2,4,1,3,1,3,1,4,1,2,2,4,2,2,1,2,2,1,4,2,2,1,0,1,3,4,4,4,2,1,1,3,2,0,4,0,0,2,3,0,4,4,1,3,3,3,2,2,0,3,2,2,4,3,0,2,1,3,3,0,4,3,2,4,1,3,3,4,4,3,1,1,3,2,0,3,3,3,1,4,4,2,1,3,2,1,2,3,3,0,1,3,3,2,3,0,3,3,2,3,3,3,1,3,2,2,3,3,3,3,2,4,3,3,0,3,3,2,2,0,2,1,3,2,0,2,1,2,0,1,1,3,0,0,4,2,1,0,3,1,3,1,3,4,1,2,3,1,3,4,1,1,0,3,3,2,0,2,2,3,4,1,3,1,2,3,4,4,3,4,0,3,0,2,2,2,3,2,4,2,3,3,2,3,4,4,1,3,0,0,3,2,3,4,4,4,0,2,1,1,1,0,2,3,1,1,3,0,3,2,2,2,2,2,2,4,0,3,4,4,4,3,3,1,1,2,2,2,1,4,3,2,4,3,4,4,3,4,2,3,2,4,4,2,2,4,4,2,4,3,2,2,2,4,3,3,3,1,4,2,2,2,3,2,2,3,0,3,2,3,2,2,1,4,2,3,4,3,2,0,3,3,1,3,1,3,2,4,2,3,2,0,3,2,2,4,1,1,2,2,2,3,2,3,4,3,2,3,1,2,3,2,1,4,3,1,0,3,2,4,4,1,2,3,0,3,2,0,2,4,3,2,0,0,2,2,3,2,2,4,2,2,4,3,2,4,2,4,3,4,4,4,2,3,4,4,2,3,2,3,2,2,2,2,3,3,1,3,0,2,2,2,4,3,1,2,4,1,2,3,0,1,2,3,3,2,4,1,3,4,2,1,0,2,4,3,3,1,2,0,3,1,2,4,2,1,1,2,3,4,2,3,4,4,4,2,0,1,2,4,3,3,3,0,3,1,3,2,3,4,3,4,3,4,0,1,3,3,4,2,0,3,3,4,0,0,1,2,2,2,3,0,4,2,2,3,0,4,3,4,2,2,4,1,2,3,1,3,2,2,3,2,1,3,2,3,1,1,1,1,1,3,3,2,4,3,2,4,2,3,3,3,2,3,4,2,3,4,4,2,0,3,2,3,2,1,2,2,0,4,4,3,1,4,4,3,3,4,1,2,3,3,3,3,2,4,4,3,1,2,2,3,3,2,4,4,3,1,1,3,3,2,1,3,0,1,2,2,3,3,0,2,1,3,3,2,2,2,3,4,3,2,1,4,1,3,3,2,3,2,1,1,0,3,2,1,4,2,2,3,1,2,2,1,3,3,1,4,4,3,2,3,2,3,1,2,4,2,4,2,2,3,2,3,4,2,4,4,3,2,2,4,2,3,1,3,1,4,2,2,3,0,2,2,4,2,4,3,2,1,3,4,2,0,2,2,1,2,4,2,3,3,0,2,4,4,3,3,1,4,2,2,0,3,4,1,3,2,4,3,1,4,4,1,3,1,3,1,3,0,2,1,4,1,2,2,4,3,3,2,4,2,4,3,3,4,2,0,3,3,2,2,0,3,2,3,0,2,2,4,4,2,1,3,2,4,4,3,2,2,1,1,3,3,3,4,1,4,2,1,0,2,3,2,1,2,3,3,3,1,3,3,0,3,3,3,2,1,2,2,2,4,3,3,1,1,2,2,2,3,2,3,0,4,2,2,4,0,2,2,2,0,2,4,1,0,2,4,4,4,4,4,0,2,1,4,2,2,3,0,1,4,3,3,2,1,0,3,3,1,2,0,4,2,3,2,4,4,4,2,3,2,1,2,0,4,4,4,3,3,2,0,2,4,2,2,2,4,3,1,1,1,3,0,3,4,1,3,1,3,0,4,1,4,4,1,0,1,2,4,3,2,3,3,4,4,2,3,2,1,2,0,0,2,3,1,3,2,2,4,3,1,2,4,3,2,4,4,1,0,1,2,3,3,3,2,2,2,2,2,1,0,2,4,2,2,2,1,3,2,2,4,0,1,4,1,0,2,3,4,1,4,3,1,2,4,3,3,2,4,3,3,3,3,2,2,3,3,3,2,1,4,2,2,3,4,4,3,2,2,3,0,2,3,3,2,4,2,4,1,3,1,1,3,3,4,3,2,3,2,4,3,0,1,4,3,4,1,3,3,2,3,3,3,2,2,3,1,2,3,2,3,1,1,2,1,2,0,1,3,1,3,2,3,4,2,4,3,1,1,2,4,4,3,4,3,3,2,3,2,1,2,2,1,3,2,3,3,2,3,3,4,2,2,2,3,2,1,4,2,4,1,2,2,2,2,2,2,1,3,4,2,3,2,3,0,3,0,2,2,3,3,2,4,1,4,1,4,4,3,3,1,4,3,4,4,4,3,1,0,3,2,4,4,1,1,1,3,2,2,4,3,1,2,2,3,2,0,1,2,4,3,0,3,4,1,4,4,2,3,4,2,1,4,3,3,3,2,2,3,3,0,3,1,2,2,3,3,1,2,3,4,1,2,1,2,3,2,3,1,2,2,2,1,2,3,2,3,3,0,2,4,3,3,1,4,2,3,3,2,2,4,2,0,4,3,3,4,0,4,0,3,2,1,2,1,0,2,3,3,4,3,1,4,2,3,1,4,2,1,3,1,2,3,2,1,3,2,3,2,3,1,3,2,0,2,2,4,4,0,1,0,3,3,4,3,4,4,1,3,4,0,1,1,3,3,3,4,2,4,3,2,4,0,0,3,3,3,1,4,2,3,4,3,4,3,1,4,1,3,2,2,4,1,2,2,3,2,2,1,3,2,3,3,2,3,0,2,4,3,3,3,2,4,3,2,4,2,3,2,0,4,4,2,3,3,2,4,2,4,2,4,3,1,4,2,1,3,4,3,2,4,2,2,4,3,3,3,4,4,1,2,3,1,0,3,1,3,4,4,2,3,2,3,1,1,3,2,3,3,3,3,2,0,2,1,2,2,4,1,0,2,3,4,4,2,3,0,3,2,3,2,1,2,3,3,3,1,2,0,2,1,4,4,3,4,3,4,3,1,1,2,0,1,2,1,3,1,3,4,3,3,4,1,3,4,4,3,1,4,2,4,2,2,4,1,4,3,2,1,0,3,3,3,3,2,1,2,4,4,2,3,3,0,3,4,0,0,2,4,2,1,2,3,3,3,1,2,4,3,3,2,4,2,3,0,2,3,1,2,4,2,1,1,3,4,1,1,2,1,2,3,4,0,3,3,3,3,2,2,3,4,4,4,3,2,1,3,2,3,4,4,2,4,2,2,3,3,3,4,2,4,2,3,4,4,1,0,2,1,4,3,2,4,2,3,3,2,1,2,4,4,2,1,2,0,4,2,3,3,2,3,1,4,3,4,3,2,2,2,2,3,4,3,3,3,2,3,1,3,2,2,4,3,2,4,2,0,2,1,0,2,1,0,3,3,2,2,2,4,2,4,1,3,4,3,1,2,2,2,2,2,0,4,0,2,1,2,2,4,0,3,1,3,1,4,2,2,1,1,3,0,2,3,3,4,2,3,3,3,2,2,2,2,4,0,1,2,2,1,0,1,2,1,1,2,4,0,1,3,4,3,3,3,2,4,2,4,2,1,2,3,2,3,4,1,4,3,4,4,4,3,3,0,3,2,2,1,4,0,4,2,2,2,2,4,1,2,2,1,3,2,4,2,2,1,1,1,2,3,4,3,2,2,4,3,4,2,3,3,3,1,2,3,3,3,4,3,1,1,3,1,3,3,4,2,0,4,4,3,0,2,2,2,0,4,3,3,3,2,2,3,4,2,3,3,2,2,1,4,0,3,0,2,2,1,4,3,3,3,3,4,4,4,3,2,3,2,3,3,1,2,3,2,2,4,3,2,4,2,2,2,3,2,2,0,2,3,2,0,1,3,3,3,0,0,1,4,1,3,2,1,4,3,2,2,4,1,4,2,4,3,1,1,4,2,4,2,3,4,2,2,3,3,1,1,2,4,4,3,3,2,2,1,2,2,4,3,2,0,0,2,2,2,4,0,4,3,1,0,2,2,1,3,4,4,4,3,2,2,3,1,2,3,2,0,2,2,4,4,3,4,2,1,1,3,1,2,0,3,3,0,4,3,4,4,4,2,2,2,2,3,1,2,3,2,1,4,3,3,3,1,1,2,3,1,3,3,2,1,1,3,3,4,1,2,4,2,1,4,3,2,0,2,2,3,3,2,1,0,1,4,3,3,2,4,3,0,2,2,1,4,2,3,1,0,3,2,4,2,3,1,4,1,2,4,0,4,3,1,3,4,3,4,1,0,3,2,1,0,3,3,3,1,3,2,4,0,1,3,1,3,4,4,1,3,1,3,3,2,1,4,3,3,0,3,0,0,3,2,1,3,3,3,2,1,3,2,4,2,4,2,3,3,2,3,2,2,1,2,3,3,3,2,3,4,0,2,1,4,2,3,3,2,3,4,3,3,2,4,1,2,3,3,3,3,4,2,1,3,3,3,1,0,1,3,0,3,3,4,2,4,1,4,1,3,3,4,1,2,3,3,4,4,3,4,2,2,2,3,3,3,0,2,1,3,3,3,2,3,2,0,3,4,1,4,4,2,3,3,2,3,3,2,3,3,1,4,2,2,4,0,2,3,2,3,2,4,1,2,1,3,1,2,4,1,1,2,3,3,1,2,3,2,2,4,4,0,2,0,1,4,2,1,4,2,4,3,4,2,3,4,3,3,3,2,1,2,3,4,1,2,3,1,1,1,2,3,2,2,4,2,0,3,4,3,1,4,2,3,3,2,3,4,3,3,1,2,2,0,3,2,2,0,4,3,4,2,1,3,1,1,1,4,2,3,2,2,2,4,3,4,4,2,2,4,0,4,3,1,1,0,3,4,3,4,3,3,2,2,3,3,4,2,3,4,3,3,4,4,3,3,2,3,2,0,0,3,2,2,2,2,2,3,1,2,3,2,3,4,4,2,3,2,3,3,0,1,0,0,3,1,4,1,2,4,3,4,0,4,0,2,4,4,4,1,2,1,3,2,3,0,1,1,4,3,4,4,3,2,3,4,2,1,2,4,2,0,3,2,3,3,3,4,2,1,3,3,0,0,4,3,1,2,3,3,3,2,3,4,1,2,2,2,2,3,3,3,2,4,3,3,0,2,1,3,1,1,2,4,3,1,2,3,1,3,2,2,2,4,1,4,1,2,3,3,1,2,3,1,1,3,1,3,3,3,2,4,2,2,2,2,2,3,1,4,0,2,4,2,0,3,2,3,1,2,3,4,2,4,4,3,3,3,4,3,2,4,0,3,0,1,0,3,0,0,2,2,1,2,0,3,3,2,1,3,2,4,4,2,0,1,4,4,2,0,2,1,2,2,2,2,3,0,3,3,3,2,2,2,0,2,4,4,2,3,3,4,4,1,4,2,2,0,2,2,3,3,4,1,2,1,4,1,4,3,0,4,3,1,4,1,0,1,1,3,3,0,3,2,4,2,2,3,2,3,1,3,3,4,2,2,2,3,3,3,3,4,1,3,1,1,1,1,3,2,1,3,2,4,3,1,2,4,1,3,2,2,2,0,0,2,4,2,3,3,2,1,4,1,2,2,3,3,2,4,3,2,2,1,2,4,2,2,3,3,1,2,2,2,3,3,3,3,4,2,3,2,4,4,3,2,2,2,3,4,2,2,2,2,2,3,2,3,2,2,3,0,2,0,3,4,2,2,4,3,1,3,2,0,3,2,3,4,4,4,3,3,2,4,3,0,1,0,3,4,2,4,4,4,3,2,2,3,3,4,2,2,4,1,3,2,2,0,1,2,1,3,4,3,2,3,2,0,4,2,4,2,4,1,2,3,4,3,4,3,3,3,2,1,4,3,3,2,3,2,2,3,1,1,4,2,3,1,3,1,0,2,2,1,3,0,2,1,2,4,2,4,3,1,3,1,4,4,1,3,2,3,0,2,2,4,0,0,2,4,2,3,4,2,2,1,2,4,1,1,2,3,3,3,3,2,2,1,3,3,1,1,1,0,3,3,2,2,2,1,4,1,2,1,2,3,2,1,4,3,2,1,3,3,3,3,3,4,1,1,4,1,2,2,4,2,0,3,3,1,1,2,3,0,1,4,2,4,2,1,0,1,4,3,1,2,3,2,3,3,3,3,4,4,3,1,3,1,0,4,3,3,4,1,3,2,2,4,2,2,1,4,4,3,0,3,3,2,2,1,4,3,2,4,2,3,2,2,2,1,3,2,2,2,4,2,4,1,2,4,4,3,2,3,3,3,3,0,3,1,2,3,4,3,2,3,4,2,2,0,1,2,2,3,3,3,4,1,3,2,4,4,2,4,3,1,2,3,1,2,4,3,4,3,2,3,2,2,2,0,3,4,4,2,2,2,4,2,3,1,2,4,2,4,3,4,3,2,2,2,0,2,1,1,3,3,0,4,3,1,4,3,3,2,3,3,3,3,2,3,1,2,2,3,3,4,2,3,2,3,2,4,2,1,2,4,4,3,2,4,2,1,0,2,2,3,4,3,4,3,4,1,4,3,3,2,3,4,0,4,3,2,2,0,4,4,1,1,2,3,2,4,0,4,1,1,3,3,1,3,3,3,3,2,1,3,2,0,1,2,2,3,4,1,1,4,4,3,2,1,4,4,3,2,3,3,1,2,3,2,3,4,2,3,3,4,1,2,4,3,4,3,2,1,1,2,2,0,2,2,3,0,3,4,4,4,2,4,1,4,2,1,1,1,4,1,2,4,4,0,1,0,2,4,1,1,2,1,3,3,3,3,1,4,0,3,1,2,4,2,3,1,4,1,3,1,2,3,3,3,3,3,2,2,4,3,1,4,2,1,0,2,3,1,0,1,3,3,1,2,1,3,1,3,2,3,0,2,2,4,3,3,3,1,2,4,4,2,1,2,3,4,4,4,4,2,1,1,3,3,3,4,1,4,2,3,1,3,1,1,4,4,1,1,3,3,4,4,4,4,2,2,4,3,3,4,1,3,2,1,1,1,3,3,1,4,4,1,1,4,1,2,3,4,2,3,2,2,0,4,4,2,3,1,2,0,3,2,4,3,3,4,4,1,2,2,4,4,2,0,2,2,4,4,4,2,3,2,3,2,4,2,0,2,1,3,2,3,4,3,4,3,4,0,4,2,2,1,3,3,3,2,0,0,2,3,4,4,3,2,3,3,4,2,2,2,3,3,1,0,3,3,3,2,2,2,2,2,1,2,1,4,2,2,4,4,1,3,1,1,2,4,2,2,2,3,3,3,3,3,2,2,2,2,4,2,4,4,2,2,2,3,1,4,4,4,4,4,3,4,3,3,2,3,0,4,3,2,1,2,3,3,2,3,3,2,4,1,4,4,1,3,2,1,3,4,3,2,4,2,1,3,2,2,2,1,4,1,2,4,4,3,3,2,3,3,4,1,2,3,1,1,1,3,3,2,1,4,4,3,3,3,4,4,3,2,3,1,1,2,4,4,1,2,3,4,2,2,3,1,3,2,1,4,4,0,3,2,0,3,1,3,4,2,4,3,4,3,3,3,3,3,1,2,2,3,3,0,3,3,2,4,4,0,2,1,4,3,4,4,4,2,4,0,4,2,2,2,2,4,4,1,2,3,4,3,3,3,3,4,2,2,1,3,3,3,0,3,1,0,2,3,2,3,3,2,2,3,3,3,1,2,3,2,3,3,0,1,2,2,2,3,0,0,2,4,4,4,2,3,3,2,2,4,2,3,2,0,2,2,1,2,1,2,1,3,2,2,3,3,2,1,3,2,3,3,1,2,1,4,0,4,1,2,4,2,2,3,2,2,4,2,3,2,2,3,2,2,1,2,4,2,3,1,2,4,1,4,2,0,1,1,2,3,1,3,2,3,4,2,4,4,1,2,3,1,3,1,4,1,3,1,2,1,4,0,2,4,2,2,3,0,3,2,1,4,1,2,2,3,1,4,4,0,1,1,2,2,2,3,4,2,4,3,3,3,2,0,4,4,1,2,4,3,3,1,4,1,4,2,4,3,3,3,3,3,3,2,1,4,2,3,2,1,2,0,3,1,4,2,4,3,4,2,3,4,3,4,2,3,4,2,2,2,3,3,4,1,3,2,3,2,1,2,3,4,4,2,3,1,2,2,3,0,1,4,3,1,0,3,1,3,3,2,1,3,0,4,1,2,4,3,3,4,1,4,2,2,2,3,3,2,3,2,3,2,1,2,1,2,3,2,1,1,2,3,3,1,3,2,3,3,1,0,2,0,1,3,2,4,2,3,2,4,4,2,3,2,0,3,1,1,2,0,1,3,2,2,2,1,3,2,3,2,4,3,2,3,3,3,3,2,1,4,0,2,2,2,3,3,3,3,3,3,4,1,1,0,1,4,1,0,2,2,2,2,4,3,3,1,4,3,3,2,1,2,3,1,4,3,3,2,4,4,1,1,2,4,2,3,2,2,4,2,4,2,3,1,3,3,3,2,1,0,3,4,3,4,2,1,3,2,1,4,3,4,4,3,4,4,3,0,0,1,0,2,2,1,4,2,3,2,4,0,3,1,3,3,2,3,1,2,1,0,2,4,4,1,4,3,4,2,0,3,2,0,2,4,0,1,3,1,3,3,1,3,1,4,3,3,4,3,4,4,4,3,3,0,1,2,0,2,1,3,3,1,2,3,2,1,3,3,3,3,3,3,3,2,3,3,2,3,3,0,1,1,3,2,3,4,2,3,0,3,1,4,3,4,3,4,2,3,3,3,4,2,2,1,1,2,3,1,0,1,2,3,2,3,0,3,3,3,4,2,2,2,0,2,2,2,1,3,3,2,3,4,2,3,4,4,3,1,4,4,2,0,3,4,2,2,4,0,2,4,3,2,2,3,4,4,4,1,1,4,3,2,2,2,2,3,4,4,3,4,1,4,2,1,4,2,0,3,2,1,3,1,3,2,2,1,3,1,4,3,3,2,2,3,2,1,4,1,2,3,2,2,2,2,3,4,2,2,3,1,2,3,4,4,4,1,1,4,2,3,3,1,2,3,2,4,2,2,2,3,2,4,2,2,2,1,4,3,1,3,3,4,1,4,0,3,4,4,2,2,0,1,2,4,4,3,4,2,2,2,4,3,3,4,1,4,3,3,4,2,3,3,4,3,1,2,2,3,2,2,2,2,1,2,1,3,2,4,0,2,3,0,0,2,2,2,0,3,4,2,3,4,2,3,4,3,3,2,1,4,3,2,2,3,2,3,4,3,0,2,4,1,1,2,4,2,3,0,3,2,2,4,2,3,3,2,0,4,2,2,1,2,1,4,2,3,4,1,4,0,3,4,3,1,2,1,2,4,3,0,1,2,3,4,0,4,2,0,3,2,1,1,3,4,3,3,1,2,0,2,3,3,3,2,2,1,3,2,0,1,4,1,2,3,4,2,3,1,1,4,4,4,2,2,3,4,3,3,4,2,2,3,3,2,4,4,2,3,1,2,2,1,3,3,3,2,3,4,2,2,3,0,1,1,2,2,1,4,2,3,4,2,1,3,2,2,3,2,0,2,3,3,3,4,2,3,3,2,3,4,4,3,2,2,0,4,2,4,4,0,2,3,2,4,1,1,3,0,0,4,4,3,2,2,1,4,4,3,4,3,1,2,2,2,3,1,1,2,1,2,3,1,4,2,3,2,0,4,4,1,2,1,0,1,2,3,2,3,3,4,3,3,3,1,1,4,3,2,4,2,3,2,3,4,1,0,1,2,4,0,3,0,4,2,2,3,2,3,2,1,4,0,2,4,4,3,1,3,1,1,2,3,0,1,2,3,0,4,2,4,2,3,3,1,2,0,3,3,2,2,4,3,3,1,3,2,3,3,1,1,1,4,2,2,3,2,2,1,3,4,3,2,2,2,2,4,3,2,0,1,3,3,2,0,3,2,2,3,4,2,2,4,2,1,4,2,2,1,1,0,2,1,0,2,3,3,3,2,3,3,1,1,3,4,1,2,3,3,3,2,2,3,1,2,2,3,1,1,2,3,4,2,4,2,3,0,4,4,1,2,3,1,4,2,0,0,3,3,3,2,3,3,1,1,3,1,3,4,1,2,2,2,3,3,3,3,3,1,0,2,1,2,4,1,3,3,4,3,4,2,2,2,4,3,3,2,0,2,3,1,3,4,2,3,3,0,3,2,1,4,4,4,2,0,2,3,1,1,1,2,1,1,1,2,1,3,0,2,1,2,1,0,1,4,4,3,4,1,2,2,2,2,4,1,1,2,2,3,1,3,2,2,3,3,0,1,2,3,4,2,2,4,2,1,3,2,3,1,2,3,1,1,2,4,4,3,3,4,1,3,3,4,1,4,3,2,2,4,1,3,3,0,3,2,0,2,2,1,4,2,2,4,4,0,1,4,2,4,3,4,1,4,4,2,3,4,1,1,2,0,2,1,2,4,1,3,4,2,4,2,2,2,3,3,3,3,2,0,4,3,1,0,3,4,2,3,2,4,3,2,3,1,2,0,2,2,0,3,1,2,2,3,3,4,4,4,1,2,3,2,2,4,2,0,3,4,4,1,4,4,1,3,1,2,2,3,2,3,2,3,4,1,3,3,1,1,4,0,3,3,3,4,1,1,4,2,1,3,3,4,1,3,4,3,4,3,0,2,3,2,1,3,1,0,3,0,1,2,3,1,2,3,0,1,2,2,4,2,2,1,4,0,1,2,3,4,0,4,3,3,4,4,4,2,3,4,4,3,1,2,0,3,3,3,3,2,3,0,1,3,4,4,1,3,0,4,4,0,3,2,2,0,2,0,4,0,2,1,1,3,3,1,2,1,1,2,3,3,1,4,2,3,2,0,1,3,1,3,2,4,4,2,3,2,0,3,2,1,3,3,4,4,2,0,2,2,4,3,4,0,2,2,2,1,2,3,0,4,3,0,2,3,4,2,2,2,3,1,3,0,1,2,3,3,2,1,2,1,2,2,3,3,3,4,3,3,3,4,4,3,2,3,2,3,2,1,4,2,2,4,1,3,1,2,0,1,1,2,0,2,4,2,4,3,2,0,3,1,2,3,4,3,2,2,4,4,1,2,2,4,3,1,3,0,2,3,3,2,0,1,1,2,2,4,2,2,0,3,4,4,3,1,3,4,2,3,2,2,2,3,4,2,3,2,1,3,3,4,4,2,2,3,1,1,2,3,4,4,2,3,3,1,1,2,2,0,2,2,0,4,3,0,1,0,3,3,1,4,1,3,4,4,4,3,3,1,3,3,3,2,2,1,1,3,4,4,4,0,4,4,2,3,4,3,1,3,1,0,2,0,1,4,4,2,0,2,2,2,1,3,3,3,1,2,3,1,1,2,2,3,1,2,2,3,3,4,2,0,3,3,2,0,2,4,4,1,1,3,1,1,1,1,4,3,0,2,4,0,4,4,2,2,0,2,4,3,3,2,1,2,2,0,3,2,2,3,3,1,4,3,4,3,4,4,4,3,3,4,3,3,2,3,3,2,2,2,0,3,4,4,2,3,2,1,2,0,2,1,2,2,3,2,3,0,2,1,2,3,3,1,1,2,1,2,4,4,1,4,3,1,2,4,2,3,3,3,3,2,4,1,3,2,2,3,1,3,2,1,2,1,1,3,2,3,4,1,2,2,3,2,3,2,3,1,2,3,4,2,4,2,4,2,2,3,3,4,4,3,3,3,0,3,4,2,4,4,2,3,3,2,2,2,4,0,1,3,3,4,3,2,0,3,2,3,2,2,3,3,2,1,2,2,3,2,1,3,3,2,1,2,2,1,3,3,3,3,3,4,1,4,0,0,4,2,4,3,3,2,1,2,1,1,3,2,3,2,3,4,4,3,4,3,4,3,3,2,1,2,1,3,1,2,3,3,3,2,0,4,3,4,3,3,2,3,3,4,3,2,2,2,0,3,3,1,2,1,3,1,2,1,4,2,3,4,4,2,4,3,3,1,2,2,0,3,3,2,3,3,2,3,4,4,4,3,4,2,2,3,4,4,2,1,1,3,3,2,2,1,3,2,3,2,2,2,4,2,1,2,3,2,1,3,4,2,2,4,2,2,1,3,4,4,2,4,2,3,1,3,2,3,4,2,4,0,4,1,1,1,0,1,4,2,0,1,4,4,4,2,0,2,1,0,4,4,1,2,4,2,4,2,2,3,1,2,2,3,2,4,3,3,3,4,2,2,1,2,2,0,3,2,1,4,3,4,2,0,1,1,3,3,3,2,3,3,4,1,2,3,3,3,3,2,2,1,2,2,4,3,3,3,0,4,3,1,0,3,1,3,2,4,4,2,0,2,1,2,2,2,3,2,3,2,1,2,3,3,4,2,3,2,4,0,1,2,1,3,3,3,2,3,1,0,1,4,3,2,4,3,2,0,4,4,1,4,1,2,4,4,4,3,2,4,2,4,0,0,3,2,3,2,3,3,1,4,2,2,1,0,3,2,4,3,1,3,3,4,4,2,1,3,3,4,4,4,2,3,3,4,3,0,1,2,3,2,0,4,2,4,1,3,0,3,4,0,3,1,3,3,4,2,3,3,2,2,2,2,2,2,4,1,2,1,1,2,0,2,2,3,3,2,2,3,2,3,3,2,0,4,3,2,0,1,0,1,4,2,3,1,4,2,2,3,1,1,3,1,4,2,2,3,4,2,1,3,2,2,2,2,4,2,3,3,3,1,1,4,2,2,3,4,1,4,3,4,1,0,2,4,4,3,4,1,2,4,3,4,3,0,3,4,3,3,4,3,3,3,2,3,3,4,3,0,1,4,4,2,4,0,1,3,3,2,1,0,0,3,3,2,4,1,2,2,2,2,3,4,1,1,2,2,2,4,2,2,1,4,3,4,0,2,3,4,3,0,1,3,3,1,3,0,3,3,2,3,0,2,4,4,2,4,0,1,4,4,1,2,3,3,1,0,4,1,2,2,1,0,2,2,3,2,4,3,1,3,1,2,1,3,2,1,0,3,1,2,4,2,4,3,4,4,4,3,4,2,2,3,2,3,3,4,3,1,2,2,4,0,4,2,0,3,2,2,2,0,3,2,2,3,3,1,4,4,2,2,3,2,2,2,4,1,3,2,4,2,2,4,1,3,1,1,2,4,3,3,3,2,3,2,3,2,2,3,1,3,4,1,3,2,2,3,2,0,1,1,2,4,3,2,4,3,4,2,4,2,2,4,1,3,2,3,3,3,1,0,3,3,3,4,1,3,3,4,3,3,3,2,1,2,3,3,3,2,2,2,2,2,2,4,0,4,4,2,1,3,2,2,2,4,4,3,1,2,1,3,4,1,1,4,1,4,2,2,4,0,3,3,2,3,4,2,0,2,2,4,2,3,0,3,2,2,2,0,4,3,3,4,0,4,4,3,3,0,4,4,3,3,2,4,2,3,1,3,3,1,4,1,2,3,3,4,2,4,3,3,4,3,2,2,4,2,2,3,2,4,3,4,2,2,3,3,2,3,0,4,2,1,2,1,2,2,1,3,4,3,4,4,2,3,4,4,3,2,3,3,0,3,2,1,0,3,2,2,3,3,4,4,0,4,1,3,0,4,1,1,2,4,4,4,3,3,1,4,4,3,4,1,0,1,3,3,3,2,0,1,1,3,2,1,2,3,3,3,2,2,4,2,4,2,3,3,3,1,0,0,4,2,1,2,2,2,3,3,0,3,4,3,4,2,2,3,4,2,2,4,3,2,1,3,4,4,0,2,3,3,3,3,1,3,0,0,2,2,4,2,3,4,4,2,4,4,1,4,4,2,3,2,1,3,3,1,0,2,3,2,3,1,4,3,2,1,1,2,1,3,4,4,0,1,1,1,2,1,2,1,2,3,3,4,4,3,3,2,0,2,3,2,1,3,2,0,3,0,3,3,2,1,4,3,4,3,1,2,2,4,2,4,3,4,2,1,1,4,2,2,3,2,3,3,2,2,0,3,1,2,3,3,3,2,4,2,0,2,0,2,3,4,3,4,2,2,2,1,1,2,2,3,2,4,3,2,2,4,1,3,3,4,2,0,4,3,4,2,3,3,4,1,2,3,4,1,3,3,2,4,3,4,2,2,2,4,1,0,1,3,2,3,3,1,3,3,3,4,3,1,3,2,1,2,4,1,2,3,3,3,2,2,0,4,1,3,2,4,4,1,2,3,3,3,2,1,1,0,3,3,2,3,4,0,1,3,3,3,4,0,0,4,4,3,4,2,4,3,3,3,4,1,4,4,1,3,2,3,3,3,3,0,2,3,3,3,1,4,0,3,3,4,1,2,3,4,1,3,2,4,1,2,3,2,1,4,3,2,2,3,2,4,2,3,2,0,2,3,2,3,2,3,3,3,3,3,2,2,3,4,1,2,3,3,1,1,3,4,3,4,2,4,2,3,2,4,1,1,3,3,3,3,4,3,4,1,4,4,3,3,2,4,2,4,2,2,2,3,3,4,3,3,2,3,0,1,2,1,4,4,4,2,2,3,4,3,4,3,0,0,3,4,3,2,2,3,4,3,2,0,2,1,4,2,2,2,1,0,3,1,4,2,3,3,2,3,2,3,2,3,3,4,2,0,4,4,2,3,3,2,0,3,1,1,1,3,2,3,4,2,2,2,0,3,3,2,3,3,4,2,0,2,1,2,3,2,1,3,2,0,4,2,1,2,2,4,2,3,3,4,2,2,2,2,2,2,3,3,2,4,4,4,2,0,1,1,3,3,1,3,3,4,2,3,3,2,3,2,2,4,2,2,2,1,4,2,2,3,2,1,3,1,2,2,4,3,3,3,4,0,2,1,3,3,2,2,2,2,4,3,3,4,3,3,2,2,3,2,3,1,2,3,4,4,3,3,0,1,2,3,4,2,1,4,4,1,1,3,4,1,4,3,1,2,1,2,3,3,2,3,1,2,0,0,1,1,4,2,2,2,3,3,0,3,2,4,3,0,2,1,3,4,2,3,4,4,2,2,2,3,0,4,3,2,2,2,2,2,1,1,4,4,2,0,1,4,2,4,4,3,2,2,4,2,3,2,2,1,3,0,3,3,0,4,3,1,2,0,3,1,3,1,2,4,4,3,3,4,0,0,1,3,3,3,3,2,2,4,3,1,3,0,4,0,4,4,2,4,4,4,2,4,1,3,3,2,2,4,3,4,2,4,1,4,1,1,4,3,1,3,0,2,4,3,2,0,2,1,3,0,4,3,2,3,2,4,3,2,3,4,4,2,1,1,2,2,1,2,1,1,3,2,3,1,1,2,1,2,1,3,2,2,0,2,1,3,3,4,4,1,4,4,4,3,3,3,2,2,0,1,2,2,0,2,3,0,4,2,0,3,1,2,2,4,3,3,4,3,2,2,1,4,2,2,0,2,2,3,2,2,1,1,1,0,2,3,3,2,3,3,4,4,2,3,0,3,3,3,1,0,1,3,2,2,2,3,2,2,4,3,1,4,2,2,4,0,4,2,3,1,0,1,1,3,2,4,3,3,3,4,4,2,3,3,2,3,3,2,0,3,3,2,2,1,2,3,1,4,3,4,1,2,3,4,2,2,2,2,2,1,4,4,3,4,1,2,4,1,2,1,2,1,2,1,2,1,4,0,3,2,4,1,3,3,2,0,2,3,2,2,2,4,3,2,2,1,4,2,4,2,4,3,0,3,4,2,3,1,4,3,3,3,3,3,4,4,4,3,3,1,2,2,0,2,1,2,3,1,3,1,2,3,2,2,3,2,3,3,3,0,4,3,2,2,2,3,2,1,4,2,0,4,3,1,1,0,4,3,4,3,2,4,3,0,0,1,2,3,2,0,4,2,3,1,1,4,2,0,1,1,2,3,4,3,3,4,2,4,0,3,2,4,4,2,3,2,2,1,1,2,1,4,3,2,2,2,3,3,2,2,3,1,1,3,3,3,3,1,3,2,2,2,2,3,3,0,2,4,1,0,3,2,3,3,4,3,3,4,2,2,2,3,1,2,2,3,0,2,2,1,1,1,4,3,1,3,2,1,2,3,3,2,3,0,0,2,3,2,0,3,1,2,4,2,1,1,0,3,4,2,1,2,3,3,2,4,2,4,4,2,0,1,2,1,0,2,1,0,0,3,4,1,3,4,4,4,3,4,2,2,1,3,2,0,2,2,3,2,2,3,1,3,3,3,1,3,3,4,3,4,3,1,4,2,4,1,2,3,4,2,3,4,3,0,4,1,4,4,2,0,2,2,3,0,2,3,0,1,4,3,3,3,3,1,3,2,4,3,4,1,3,0,4,2,3,3,4,2,4,1,4,0,4,3,0,3,4,3,0,3,1,3,3,3,3,4,0,4,3,3,2,2,3,3,3,3,4,2,3,2,3,3,2,3,2,2,2,3,3,4,2,1,2,3,2,3,2,4,2,1,1,2,3,1,1,4,1,3,0,3,0,4,3,1,3,4,3,1,4,1,2,2,4,4,2,2,0,3,2,3,0,1,3,0,4,4,2,2,3,3,4,1,1,1,2,2,4,4,4,3,1,2,1,3,2,1,2,3,4,1,4,2,2,3,1,2,3,2,1,3,3,4,1,4,3,2,2,3,2,2,2,2,2,4,1,4,4,3,2,3,3,1,4,2,3,1,2,3,3,2,3,3,1,1,3,1,4,1,2,4,3,3,4,3,4,3,3,0,0,4,4,2,2,2,0,2,1,4,2,1,2,2,2,3,3,0,3,3,1,2,1,2,2,3,0,2,2,4,3,3,3,4,0,0,3,2,3,3,2,4,3,4,2,1,2,4,4,0,3,0,2,3,2,3,2,2,1,4,2,3,3,4,4,1,3,4,2,2,2,4,3,3,3,3,4,3,4,2,3,3,3,4,2,2,3,3,1,4,2,0,3,3,2,3,2,4,1,3,2,3,2,2,0,2,3,3,3,2,2,1,1,3,2,4,2,2,2,4,4,4,3,1,3,3,4,1,2,2,1,4,1,1,3,1,2,1,4,3,2,2,3,2,4,1,3,2,3,2,4,1,0,4,4,4,0,3,0,3,1,2,3,2,2,1,3,4,1,4,4,1,3,2,3,2,4,2,4,3,1,4,3,2,0,2,2,3,2,0,4,4,4,0,4,2,4,1,4,2,3,3,2,0,0,3,2,4,3,3,1,2,2,2,0,2,2,3,4,3,2,4,3,0,3,1,0,0,4,2,2,0,2,2,2,2,3,1,3,3,4,1,4,3,4,2,1,2,3,3,1,3,1,3,2,4,3,2,3,3,4,3,4,4,2,1,0,2,2,2,3,0,3,4,1,4,2,2,2,3,3,4,2,0,4,1,2,2,4,0,4,2,2,3,2,1,1,2,4,2,4,1,0,3,3,4,3,4,2,2,0,3,0,4,4,1,4,3,3,1,3,3,3,2,1,3,2,2,0,2,3,4,4,4,3,0,3,4,3,1,1,4,1,3,1,2,4,2,2,2,3,2,2,3,3,4,3,3,2,0,1,0,4,4,3,4,0,2,2,3,2,0,3,1,3,3,3,1,2,3,2,2,0,3,3,3,2,3,4,3,2,1,3,4,4,1,4,4,3,3,4,4,4,0,3,4,2,2,3,4,3,2,4,2,4,3,2,2,2,4,4,1,4,2,2,3,1,0,1,3,1,2,2,3,1,3,4,4,3,2,4,3,4,3,1,3,3,3,4,1,2,3,0,3,1,1,2,2,3,1,3,3,1,3,4,2,3,4,4,0,4,1,3,3,1,3,1,3,2,1,2,2,2,3,3,4,3,2,2,1,3,3,2,2,2,2,2,3,3,2,2,3,3,4,4,2,2,4,4,3,4,3,3,4,2,2,0,0,1,2,2,0,3,2,3,3,2,4,0,3,2,2,3,1,2,4,4,1,2,2,3,2,2,0,2,1,4,2,0,3,2,4,2,3,1,2,0,2,2,1,1,2,1,0,2,1,1,2,2,2,1,3,2,1,3,2,3,1,2,3,4,1,1,3,4,2,1,2,4,1,0,2,1,1,4,2,3,0,2,2,3,1,3,3,1,2,2,2,1,2,2,2,3,3,4,3,3,4,2,3,3,2,4,3,3,1,3,1,2,4,2,3,1,3,0,2,3,3,2,3,3,2,3,2,3,3,2,1,3,1,2,1,2,2,1,4,0,1,4,1,3,3,3,2,3,3,2,4,0,2,4,2,2,1,2,2,0,0,3,1,1,2,4,0,0,1,4,1,3,2,3,4,2,2,0,2,4,3,2,1,0,2,1,3,3,2,2,3,4,3,4,4,2,4,1,3,4,4,3,3,1,2,3,3,2,3,0,3,2,4,4,1,1,2,2,2,1,4,2,2,4,1,3,2,3,3,1,1,3,3,4,2,3,2,2,3,3,4,3,2,3,3,3,2,3,0,0,2,3,3,2,2,4,4,3,4,3,4,3,2,2,2,2,1,3,1,3,3,2,2,3,2,1,2,1,4,2,2,1,2,3,1,4,3,1,4,2,2,4,3,3,2,2,2,3,2,1,2,4,2,2,4,3,0,1,3,2,1,4,4,4,2,3,4,2,1,4,3,4,1,4,2,3,0,4,3,1,1,0,3,4,1,4,3,2,2,1,3,3,3,3,3,2,3,4,1,2,2,3,2,3,3,4,3,2,4,0,4,0,4,3,0,3,2,2,2,1,3,4,3,2,0,3,2,3,3,0,1,3,3,4,3,1,3,1,4,2,4,2,2,0,3,4,2,1,1,3,2,3,3,3,4,1,0,2,4,0,1,4,1,3,3,2,4,2,4,2,1,2,4,3,1,4,3,2,3,4,2,2,3,2,0,3,3,3,0,4,3,3,1,2,4,2,4,2,3,3,3,3,1,2,3,2,1,2,2,2,3,4,3,1,2,3,2,3,0,2,2,2,2,3,3,0,4,0,2,4,1,0,2,1,2,2,1,1,1,4,0,1,1,2,4,0,4,3,2,3,4,2,3,0,1,2,4,1,3,1,3,4,3,2,2,2,3,1,3,4,0,0,2,2,2,4,3,1,1,4,1,0,3,1,1,3,4,1,2,3,3,1,1,3,2,0,2,1,3,1,2,3,3,1,3,1,1,3,3,2,2,4,4,3,4,1,2,4,3,4,3,2,0,2,3,2,0,3,1,2,3,2,4,3,1,4,3,2,3,3,2,2,3,2,1,2,2,2,0,2,3,2,2,4,2,3,1,3,2,1,4,3,1,1,2,2,3,2,0,2,4,3,4,4,4,3,1,4,2,3,0,2,1,1,2,1,2,3,4,4,4,2,3,3,3,2,3,0,3,1,2,1,0,4,3,3,4,3,2,2,1,3,2,2,3,0,2,2,2,1,3,1,4,4,2,4,1,1,2,1,3,3,2,4,4,4,4,4,3,3,2,2,3,2,3,2,4,4,2,0,2,3,3,2,3,2,4,0,2,2,1,0,4,3,3,2,3,2,4,4,2,3,1,2,2,4,3,1,3,0,4,4,1,0,2,4,4,2,3,4,4,2,2,2,3,0,3,0,4,2,3,0,1,2,2,0,3,4,3,0,2,1,4,1,0,3,0,2,1,3,2,3,3,2,3,4,3,4,4,1,2,3,3,1,2,3,2,2,3,2,2,1,2,2,3,2,1,2,0,4,3,4,2,3,3,1,3,3,4,4,1,3,2,1,4,2,1,1,3,2,4,4,1,2,3,1,1,3,3,4,2,2,2,1,1,3,2,3,3,3,1,2,3,2,1,3,1,2,2,3,4,2,0,2,4,0,3,0,0,3,1,1,2,3,2,3,2,3,3,4,2,3,2,2,2,0,1,4,1,3,3,2,3,3,4,4,2,0,2,2,0,2,2,1,3,2,2,4,2,2,3,0,4,1,3,3,2,2,3,2,1,4,2,1,4,4,3,3,1,4,1,4,4,3,4,4,4,0,3,3,3,3,1,1,3,2,3,2,3,2,2,1,0,3,4,1,1,4,0,4,3,4,4,1,2,2,4,2,1,4,3,2,2,2,2,4,1,1,3,4,1,0,1,2,4,3,3,2,4,3,2,0,1,4,1,2,3,0,4,4,4,4,3,3,2,3,4,2,0,3,4,2,1,0,0,0,3,2,4,4,2,2,2,2,4,2,4,3,3,3,3,3,2,2,2,1,1,2,3,4,1,1,3,2,0,2,2,4,4,3,2,2,2,1,0,3,3,3,3,2,3,2,2,3,2,3,1,1,4,2,3,3,3,3,2,2,2,4,3,3,3,2,4,3,2,0,3,3,1,0,0,3,4,1,2,2,1,2,2,3,4,1,4,4,4,2,1,2,3,1,2,3,2,2,3,2,2,2,0,2,3,3,2,1,3,3,2,2,3,1,1,4,2,4,2,4,2,4,2,1,2,4,0,0,1,4,1,2,4,2,3,3,3,4,1,2,3,2,0,4,3,3,3,3,3,3,4,1,4,1,4,2,0,3,2,1,3,1,3,1,2,3,3,1,4,4,3,4,2,4,2,2,3,2,2,2,4,2,0,2,3,4,1,0,2,1,4,2,3,4,2,1,2,3,1,1,4,2,1,4,4,4,2,3,2,3,3,4,2,3,3,2,3,2,3,3,1,3,1,3,2,2,3,1,4,2,3,4,4,2,2,1,4,3,2,0,2,3,1,4,0,4,3,2,2,4,3,4,4,1,3,3,4,0,2,3,2,2,3,3,2,1,0,2,1,0,3,1,1,4,4,2,4,1,0,3,2,3,1,1,4,1,4,3,3,1,1,3,1,3,0,1,0,1,4,3,2,1,4,1,2,3,3,3,3,3,4,0,2,3,4,1,3,2,2,4,3,4,2,3,4,2,1,2,2,0,3,4,2,3,2,4,4,3,3,0,0,3,1,2,4,4,4,3,3,3,2,2,4,2,0,3,2,1,2,3,0,3,1,4,4,3,4,1,2,3,1,1,4,4,2,4,2,1,4,3,2,3,2,4,3,2,3,4,3,3,2,2,2,4,3,4,2,2,3,4,3,4,4,1,2,2,3,1,2,0,3,3,2,2,1,3,2,3,2,2,1,0,4,3,0,0,4,4,3,2,0,3,3,2,0,4,2,4,3,3,2,1,1,2,2,1,3,1,0,1,3,3,3,1,1,1,1,4,3,2,2,4,4,0,4,3,3,1,2,3,2,2,2,4,3,3,0,3,2,1,1,2,2,4,2,1,4,3,3,3,4,1,4,4,1,3,2,2,2,2,4,3,2,2,2,0,3,1,3,2,3,0,3,2,4,3,2,3,1,2,3,2,2,2,3,3,3,3,1,1,4,2,4,3,1,2,4,3,2,3,4,1,3,2,2,3,1,4,3,2,4,2,1,3,3,2,3,4,4,2,1,2,3,3,2,2,2,2,3,0,4,4,0,3,4,3,3,4,1,1,3,2,4,1,0,3,3,4,4,2,2,0,2,4,0,3,4,3,4,3,4,4,4,2,4,1,3,1,4,3,2,1,2,4,3,1,4,1,4,4,2,2,4,0,1,2,3,0,2,3,2,2,0,2,1,2,2,2,4,4,3,3,2,4,0,2,3,1,3,2,2,3,1,1,3,0,2,3,4,2,4,3,1,2,1,3,4,3,3,3,1,2,1,0,1,1,1,4,2,1,2,1,0,1,4,3,1,2,1,2,2,2,2,3,2,1,2,4,3,3,3,4,0,1,2,3,2,1,3,3,4,4,4,2,4,4,3,2,3,0,3,1,0,1,3,3,1,4,2,4,3,3,1,0,4,4,3,3,3,0,3,4,4,1,3,2,2,4,4,2,3,2,4,2,3,2,1,2,3,2,3,1,3,3,2,0,3,3,2,2,1,0,3,3,2,0,3,3,4,2,2,1,3,1,2,0,1,3,0,4,2,2,2,4,3,1,2,3,3,3,3,1,2,4,4,3,1,3,2,0,1,2,0,2,1,3,4,4,4,2,1,1,2,3,2,2,3,4,4,1,1,1,3,1,1,2,1,2,4,1,1,1,4,2,3,3,4,2,3,2,1,3,4,3,0,2,1,3,3,2,2,2,1,1,2,1,1,0,4,3,2,3,3,3,4,3,2,3,3,1,2,2,2,0,2,1,3,2,4,1,0,2,4,1,2,2,0,3,3,1,2,3,2,1,2,2,4,2,2,0,2,4,4,4,3,1,2,3,2,2,3,4,1,2,1,3,0,3,2,2,2,2,3,4,2,4,0,4,3,3,3,4,1,2,2,4,4,0,3,4,4,0,2,1,2,2,2,4,4,3,1,3,3,1,1,2,0,2,3,0,4,3,1,3,1,3,0,1,1,2,0,0,2,3,4,4,3,2,3,0,2,2,2,3,3,2,3,1,1,3,2,1,3,2,2,3,2,0,0,4,2,2,3,4,4,3,1,3,1,1,3,4,2,2,1,3,1,2,2,4,2,3,4,3,3,3,4,4,2,1,4,3,1,4,4,1,2,4,0,3,2,2,1,2,3,2,2,3,2,2,3,0,4,2,4,0,0,2,3,2,3,4,2,4,3,4,4,4,3,2,0,2,2,2,1,2,2,3,0,2,4,2,4,4,0,2,4,3,1,3,2,1,1,2,2,3,3,2,2,3,2,2,4,2,4,0,3,3,0,3,0,0,3,4,4,3,1,3,2,2,4,2,2,1,3,4,2,1,3,2,0,3,3,3,2,1,3,4,4,3,3,3,1,4,4,4,4,0,3,3,3,3,4,1,4,2,0,4,3,2,0,4,4,2,3,3,2,0,4,3,2,1,0,0,0,3,3,1,3,0,2,1,1,4,4,3,4,4,4,4,0,1,4,2,1,4,0,3,4,2,3,1,2,0,2,1,4,3,4,1,3,2,0,3,3,1,4,4,3,0,4,2,2,1,3,3,4,0,3,1,4,1,2,2,1,4,3,4,2,2,2,1,4,4,4,2,1,4,2,0,3,3,4,3,4,3,4,3,2,4,0,1,2,3,1,3,4,3,0,1,4,4,3,3,3,2,4,0,2,3,3,0,2,3,1,1,2,1,3,2,2,1,4,0,4,0,4,2,2,4,3,4,1,4,2,1,2,3,4,3,2,0,1,3,3,3,3,2,2,2,1,2,1,3,0,4,3,4,3,2,3,2,3,1,3,3,1,1,4,4,4,2,4,4,3,1,3,4,2,4,3,4,4,3,4,2,3,3,0,1,2,2,4,4,3,0,3,3,4,3,3,3,4,2,3,3,1,3,4,4,4,4,1,4,2,4,2,2,3,1,2,0,2,3,3,2,3,4,3,4,3,3,2,2,4,0,0,2,1,4,1,1,3,3,4,4,3,4,2,0,4,4,2,2,2,3,1,2,3,1,3,2,4,2,2,1,3,3,3,4,2,4,2,3,4,1,3,3,3,3,4,3,3,4,4,2,2,3,3,3,2,4,3,4,4,4,0,0,3,3,3,1,3,3,3,4,1,3,3,3,1,1,1,0,2,4,3,2,4,1,4,2,1,3,0,0,0,3,2,0,4,4,3,2,1,4,2,3,3,3,4,3,3,4,0,0,2,1,3,1,1,3,2,2,4,4,1,1,2,2,0,3,3,2,4,4,3,3,3,1,1,3,3,4,3,3,3,2,3,4,1,2,2,3,4,3,3,0,1,0,3,1,2,3,3,3,4,4,2,2,4,3,2,2,0,1,2,4,3,2,4,4,3,3,3,2,3,1,2,2,1,2,2,1,4,1,4,3,1,2,2,2,4,0,2,0,3,3,0,4,1,2,2,2,4,1,1,0,2,3,3,0,4,1,2,2,4,3,2,1,3,3,0,2,3,2,3,1,2,0,3,3,0,3,2,2,2,1,3,2,2,3,3,3,2,2,2,2,0,4,3,2,2,3,3,2,1,3,1,0,3,2,3,3,3,4,1,1,3,0,1,1,1,2,1,4,0,3,4,1,4,1,3,2,4,1,2,2,3,2,4,0,0,3,1,2,4,2,3,3,2,3,3,2,2,4,2,3,2,1,2,3,4,2,2,0,4,2,0,1,1,4,3,3,4,4,4,3,4,3,4,1,0,3,4,2,3,0,2,2,0,4,3,1,2,0,2,4,2,2,3,3,4,3,3,2,3,2,0,2,4,1,4,3,4,1,0,2,3,2,4,3,2,1,0,0,3,4,1,0,3,2,4,3,4,3,3,4,1,3,4,3,1,3,2,4,2,4,0,1,2,4,1,2,3,3,3,3,3,2,3,4,2,1,2,3,3,3,4,2,4,2,1,2,3,1,2,1,0,2,1,2,1,0,3,4,2,1,2,0,3,4,4,3,2,3,1,3,1,2,0,2,1,4,4,3,4,3,1,2,1,2,1,1,1,1,3,3,4,2,3,3,3,3,2,4,1,2,4,4,3,2,3,1,2,0,1,3,0,1,4,1,3,2,4,0,2,2,2,4,1,0,4,4,3,2,2,1,2,3,2,2,3,0,1,0,2,3,1,1,3,4,4,3,3,4,3,0,0,2,1,3,2,2,1,0,3,4,4,2,0,3,1,1,2,1,0,1,2,2,1,2,2,0,2,3,4,3,2,3,3,3,3,4,2,2,1,3,2,2,3,2,2,2,4,3,2,1,2,2,2,1,4,2,1,1,1,3,0,2,4,4,3,3,3,4,1,2,2,1,3,3,3,3,2,3,3,3,1,2,3,3,1,3,0,1,0,1,2,4,3,1,2,2,3,4,2,0,2,1,2,3,0,3,1,3,3,0,2,0,3,0,1,4,2,3,2,2,2,2,1,3,1,2,3,4,4,3,2,2,2,3,3,3,2,3,4,2,3,1,3,2,3,0,2,4,0,4,2,4,2,2,3,2,4,2,3,0,3,4,1,1,1,3,4,1,3,3,2,1,2,4,2,2,2,1,1,3,1,4,2,3,2,1,3,4,2,4,4,2,0,4,3,1,2,4,3,2,2,2,1,3,4,4,4,0,4,4,3,4,4,1,0,2,1,3,1,3,2,2,2,2,4,3,0,3,2,3,2,1,1,1,2,2,0,3,3,2,3,1,3,3,3,4,3,3,2,0,4,1,2,2,2,1,2,2,4,3,3,3,3,3,4,1,3,2,1,3,4,1,2,4,3,3,2,1,1,2,1,4,2,4,1,3,3,2,2,3,4,4,1,4,0,2,2,0,2,4,2,3,4,3,4,2,4,1,2,4,2,3,2,1,2,3,4,2,3,2,3,1,3,3,3,4,4,2,2,3,4,3,2,1,1,3,0,1,1,2,1,2,3,2,3,4,3,4,0,2,3,4,4,3,2,1,2,1,2,1,3,3,4,3,0,2,4,3,2,2,3,2,1,2,3,2,4,3,4,1,3,4,0,2,1,1,3,3,3,1,3,1,2,1,1,2,2,2,3,2,2,2,3,4,4,1,1,3,4,0,4,4,3,3,3,3,2,4,2,2,3,4,4,3,4,2,2,0,3,2,3,2,0,2,4,2,1,2,2,3,1,3,4,4,3,2,3,2,1,2,2,3,1,2,2,2,2,4,2,3,2,4,3,3,3,3,1,1,4,3,3,0,3,1,2,2,1,1,3,4,2,1,4,3,3,3,3,3,0,3,4,4,3,4,3,4,4,4,1,2,3,2,2,4,2,0,2,0,4,4,3,3,3,2,3,3,3,2,0,2,3,3,3,4,1,4,1,1,4,2,3,1,4,2,2,0,4,1,4,4,2,4,1,3,3,4,3,2,2,0,3,1,4,2,1,2,2,3,2,0,3,1,1,4,0,4,3,3,1,2,1,4,3,4,2,0,3,1,2,3,0,1,4,4,1,2,3,2,4,4,0,2,2,1,2,3,3,2,2,4,3,1,2,0,1,3,2,1,2,3,3,2,2,2,4,0,1,4,4,4,0,1,3,3,4,2,2,2,2,4,3,4,2,3,0,3,0,4,2,1,4,4,1,3,2,2,3,3,4,3,3,3,4,3,4,2,3,1,3,0,3,2,2,4,3,4,2,3,3,1,3,3,2,2,3,3,2,3,3,2,3,1,2,3,3,3,2,3,2,2,1,1,3,4,2,2,1,2,1,1,2,3,0,3,4,2,0,3,4,3,1,4,3,3,4,1,3,4,0,1,0,4,4,0,3,2,2,4,3,3,1,4,3,3,3,2,2,3,3,3,4,4,1,2,2,4,4,2,1,0,0,4,2,0,4,2,4,1,2,0,3,4,2,3,3,0,2,3,2,3,2,3,2,4,1,4,4,2,1,4,0,1,2,4,2,0,3,2,2,1,3,4,2,2,3,4,3,2,3,4,2,3,2,2,1,4,4,2,2,3,2,2,4,4,1,1,4,3,3,2,0,1,2,1,4,3,4,4,2,3,2,3,1,2,4,2,0,1,3,3,0,3,1,2,1,2,2,3,2,4,2,3,0,2,2,2,3,2,4,3,1,4,3,3,2,3,1,2,1,0,2,3,2,4,2,1,2,2,0,3,3,3,4,4,4,3,2,3,3,1,4,3,1,1,2,1,4,3,1,1,1,0,3,3,3,2,4,3,2,0,3,1,2,3,3,4,4,2,3,3,2,1,1,4,2,3,3,3,2,2,3,3,2,3,2,4,3,3,2,2,1,3,4,2,3,4,3,2,1,2,2,4,2,3,0,3,4,3,4,1,3,2,2,2,0,3,2,0,1,2,3,3,2,3,4,4,3,2,2,4,2,0,3,2,3,3,3,0,4,3,4,2,2,0,1,3,3,3,4,2,1,0,4,3,3,4,3,2,0,2,2,2,1,2,1,0,4,3,3,1,4,2,4,1,3,2,3,4,0,3,3,3,3,2,1,3,3,2,2,4,3,3,2,2,2,2,1,3,2,0,0,2,1,0,2,2,1,2,2,3,2,1,3,4,4,2,1,3,3,3,1,1,2,0,3,1,2,4,2,3,2,1,4,4,4,4,2,4,1,4,3,3,3,2,4,4,4,0,2,3,1,2,2,2,4,4,3,2,4,0,4,3,2,3,3,1,3,3,3,2,1,3,3,3,4,1,2,0,0,3,1,1,1,2,1,4,3,3,3,4,0,2,4,3,3,1,2,1,1,3,4,1,3,3,1,1,4,3,4,2,4,2,3,1,3,0,4,4,4,3,3,4,3,0,3,2,2,1,4,1,2,2,1,4,3,1,4,2,2,2,3,2,4,1,1,3,4,2,2,3,3,2,0,4,3,2,4,3,3,3,0,2,3,4,1,1,3,1,2,1,1,3,0,3,3,4,3,0,3,4,2,3,3,1,4,1,2,1,4,3,2,2,1,1,1,3,2,2,3,3,0,3,2,3,3,2,2,3,4,4,4,3,4,3,3,2,3,3,4,4,3,2,1,0,4,3,2,4,4,2,2,2,2,2,3,0,3,1,1,1,2,0,3,1,4,1,2,1,2,1,2,3,1,3,3,1,0,4,3,2,4,4,4,3,3,4,3,4,2,2,4,4,2,2,2,3,2,4,2,0,2,2,4,3,2,4,1,0,2,3,2,3,2,3,3,0,0,3,2,3,3,3,1,4,4,1,2,2,1,2,0,3,2,0,2,0,3,3,1,1,1,1,1,2,3,3,0,0,0,3,2,3,2,2,1,3,0,4,0,3,4,2,1,1,0,2,4,2,3,2,3,2,2,1,1,2,2,1,3,4,4,3,3,1,3,4,3,4,4,3,3,2,2,2,3,2,4,3,1,1,3,0,2,3,3,4,3,4,4,4,0,2,3,2,3,3,4,3,1,3,2,2,4,1,2,1,1,1,2,3,3,3,1,3,3,4,4,2,2,1,2,4,2,2,2,4,3,1,3,2,2,2,2,2,3,3,0,3,2,3,4,2,3,4,2,0,1,4,0,1,3,2,1,3,3,4,3,2,3,1,3,3,1,2,2,2,1,2,0,0,3,2,2,2,3,4,2,3,4,3,4,2,3,1,4,3,1,3,2,3,4,3,4,4,3,2,3,2,1,2,0,3,3,3,3,3,4,2,2,2,2,2,0,2,0,3,3,3,2,0,4,2,1,3,4,3,0,3,1,4,3,4,2,1,1,3,1,2,3,3,1,2,3,2,3,2,2,4,1,1,2,2,2,3,2,1,1,1,3,2,1,4,0,0,4,4,3,2,2,2,2,4,3,3,0,1,3,4,1,2,0,1,3,3,1,2,3,1,3,3,2,2,3,2,0,2,0,1,3,3,2,2,3,4,4,4,2,4,3,2,2,3,3,2,2,4,1,4,2,4,1,2,4,1,2,0,4,2,2,1,1,2,3,1,1,3,2,0,2,3,4,3,3,0,4,4,0,0,1,0,0,0,2,1,4,2,4,3,3,2,3,3,2,3,3,4,4,3,3,1,2,1,3,3,0,2,2,2,3,3,2,4,3,4,0,2,3,2,4,1,2,1,2,2,0,3,1,3,4,4,2,3,3,0,2,2,3,0,4,0,3,2,4,2,3,3,2,2,2,2,0,2,4,4,2,3,0,3,2,2,3,3,4,2,2,1,4,2,1,2,1,1,2,3,2,2,3,4,3,3,2,3,4,4,1,1,3,4,0,3,0,4,3,4,2,0,2,3,2,3,0,0,4,2,4,0,0,4,1,0,2,4,1,2,4,4,0,4,3,2,3,3,1,2,3,1,3,4,4,1,4,4,4,2,2,0,2,4,1,4,3,2,3,1,3,1,1,3,2,1,3,4,0,3,3,3,1,3,4,2,2,2,3,1,4,3,1,1,4,0,3,2,3,0,2,2,3,3,3,4,4,2,4,3,2,4,3,0,2,2,3,3,2,3,2,4,3,2,1,1,2,4,3,1,1,1,2,4,2,2,2,4,4,3,3,0,3,3,1,0,4,1,4,3,3,2,3,2,2,3,3,1,2,3,2,4,4,2,1,2,0,3,3,2,4,2,1,3,2,3,3,1,4,2,1,4,0,2,4,2,1,4,4,3,2,1,4,2,0,2,4,2,4,1,4,0,3,2,3,2,3,4,4,4,1,4,3,1,3,1,4,4,1,1,2,2,1,4,2,0,2,2,2,2,2,4,2,1,4,3,2,2,1,0,2,1,1,4,3,0,0,1,1,2,3,2,2,2,4,4,4,2,3,1,4,1,4,1,2,3,1,0,4,3,3,2,4,0,0,4,3,4,1,2,3,2,0,2,4,2,2,0,2,1,2,3,4,3,2,4,0,1,2,4,1,1,1,3,2,2,0,2,4,3,3,4,4,2,2,3,3,3,1,4,4,4,1,4,3,4,3,3,3,4,0,3,3,4,4,4,3,0,2,2,2,0,2,3,1,3,4,2,2,2,1,3,4,1,4,4,3,3,1,2,4,2,3,2,0,2,2,4,1,1,4,0,2,4,1,2,2,2,2,2,1,3,3,4,3,4,2,1,3,3,3,3,2,3,3,1,4,3,3,0,4,2,0,3,3,2,1,1,4,3,4,2,2,4,3,2,2,4,1,3,2,2,3,2,1,1,4,2,1,2,3,3,2,1,1,4,2,4,4,3,3,3,2,0,3,2,2,3,1,2,3,2,2,2,4,3,2,1,3,3,2,1,2,2,3,1,3,1,2,4,4,1,4,0,4,2,3,1,1,1,2,3,3,2,3,2,1,1,2,4,3,3,3,2,3,3,3,2,3,1,2,1,0,4,4,1,2,3,1,1,1,3,3,3,1,1,2,2,2,4,3,3,3,4,2,3,3,4,4,4,2,1,3,3,1,1,1,4,3,2,1,1,4,3,1,3,3,2,3,3,4,4,1,2,3,1,4,3,2,2,4,2,3,3,1,3,2,4,4,4,0,3,0,2,2,2,2,2,4,2,3,3,3,2,3,0,3,3,3,0,0,4,3,3,2,3,4,4,3,2,2,0,3,3,4,0,2,3,3,2,4,2,2,0,2,3,4,2,1,0,3,1,4,2,4,2,0,4,3,4,1,3,2,3,2,2,0,0,4,4,2,2,2,1,2,4,3,2,2,4,2,3,3,2,3,2,1,3,3,1,4,2,3,1,3,1,3,3,3,4,2,3,3,3,3,4,3,4,1,3,4,2,3,1,1,3,3,3,4,4,1,4,2,2,3,2,4,1,3,2,1,3,4,1,2,4,0,1,2,3,1,1,0,0,4,1,4,4,3,3,2,4,3,1,1,3,2,3,2,0,3,2,4,3,3,3,2,3,2,4,2,4,1,1,1,4,2,4,3,4,2,4,3,4,3,4,4,2,3,3,4,3,4,4,3,1,1,1,1,3,4,2,0,2,3,4,3,3,0,1,2,2,0,2,2,3,3,4,1,4,2,4,1,3,0,3,2,2,1,0,2,2,4,3,1,3,2,3,1,3,2,0,4,1,1,1,1,2,2,1,1,0,3,3,3,4,4,2,1,0,1,3,2,3,2,2,2,1,0,3,1,4,1,3,3,3,4,4,4,3,0],\"xaxis\":\"x\",\"yaxis\":\"y\",\"type\":\"histogram\"},{\"alignmentgroup\":\"True\",\"bingroup\":\"x\",\"hovertemplate\":\"flag=0<br>education=%{x}<br>count=%{y}<extra></extra>\",\"legendgroup\":\"0\",\"marker\":{\"color\":\"#EF553B\",\"pattern\":{\"shape\":\"\"}},\"name\":\"0\",\"offsetgroup\":\"0\",\"orientation\":\"v\",\"showlegend\":true,\"x\":[3,2,3,1,2,0,1,0,1,2,0,0,1,2,4,0,1,2,3,1,0,3,1,2,2,2,0,1,2,4,0,1,0,4,1,0,2,1,1,3,1,2,3,2,3,1,0,2,2,0,2,0,0,2,1,2,2,2,1,1,2,4,2,1,3,2,1,1,2,0,1,4,0,2,2,1,1,2,2,0,2,2,4,4,1,1,3,0,1,1,0,2,0,2,2,2,1,2,1,2,2,0,2,2,1,3,0,0,1,1,0,2,0,2,2,2,3,0,2,2,4,3,1,2,0,2,3,4,0,1,3,2,2,1,0,3,2,4,3,2,1,1,1,1,1,4,4,2,0,4,1,2,1,1,0,2,1,2,1,2,0,1,0,1,1,2,2,1,3,1,1,2,2,3,0,1,1,0,4,3,4,2,2,1,2,1,3,2,3,1,0,2,3,3,4,3,0,2,1,1,1,3,4,3,2,1,3,1,4,1,1,3,3,4,4,4,2,1,0,1,0,4,0,1,2,1,2,2,1,2,2,3,0,0,1,1,2,4,1,3,0,0,4,0,0,1,0,2,3,3,0,1,2,2,0,2,2,1,4,1,1,0,2,1,0,2,1,3,0,0,2,2,2,1,0,2,2,2,1,3,2,4,1,2,2,1,1,1,2,2,2,2,0,2,4,4,2,2,2,1,2,0,0,2,4,0,1,3,2,1,1,2,4,2,2,2,1,1,4,0,2,3,1,2,0,2,3,1,2,1,3,1,4,1,2,2,2,4,4,1,1,1,1,4,1,1,1,1,0,3,0,0,2,3,1,4,3,3,0,3,1,0,2,2,1,4,2,1,3,1,4,0,4,3,0,3,2,2,1,3,3,2,3,2,3,1,1,3,2,1,2,2,1,2,3,4,4,2,0,3,3,2,1,0,0,4,3,1,2,2,4,0,3,2,3,4,4,4,4,2,2,2,1,3,2,3,1,1,0,2,2,3,1,0,2,3,2,1,1,1,1,1,3,3,4,2,1,1,2,3,2,0,1,1,1,4,3,3,3,2,0,1,2,2,3,2,0,4,0,2,3,3,0,4,2,2,2,3,1,2,1,1,1,0,2,2,1,4,4,3,3,2,2,2,0,0,2,3,3,1,0,1,1,3,3,1,2,0,4,3,2,2,4,3,2,0,4,2,1,0,4,1,0,3,2,4,1,4,2,0,1,2,3,1,1,1,1,2,2,0,2,2,3,2,1,1,3,0,3,0,0,4,1,1,4,2,0,3,2,2,2,2,1,2,1,0,0,3,0,1,0,4,3,2,4,2,0,1,4,4,1,2,4,0,3,1,1,1,1,2,2,2,2,2,1,0,1,1,4,1,2,1,3,2,3,0,2,1,2,1,0,2,1,1,4,2,0,0,2,2,2,2,2,3,2,4,3,3,0,3,2,4,0,1,2,1,3,1,2,4,3,3,4,1,4,3,0,2,1,2,2,3,4,0,1,1,0,1,2,3,2,1,0,2,3,0,3,3,2,3,2,1,0,1,0,1,4,0,2,3,2,2,3,0,1,2,1,1,4,1,2,4,2,2,1,4,2,3,1,1,1,2,0,1,3,2,2,3,0,3,2,3,1,2,2,0,0,0,3,3,1,2,0,1,2,1,3,4,0,2,3,1,3,2,3,1,1,2,2,3,2,0,2,1,1,0,0,4,4,3,4,1,2,1,1,4,2,1,1,4,2,0,0,4,1,2,2,3,4,2,2,3,3,1,3,3,0,2,2,3,2,2,3,4,2,2,2,3,3,3,0,0,2,2,4,3,3,1,4,2,1,1,1,1,2,1,2,2,1,2,0,3,1,2,2,2,2,1,2,1,0,2,0,1,3,0,3,4,3,2,0,2,1,2,3,1,2,0,3,4,1,1,0,0,0,1,3,2,3,4,1,0,1,1,0,1,2,4,4,4,2,1,4,1,0,0,1,2,2,2,1,1,1,1,0,2,4,4,1,1,2,2,0,3,3,0,3,2,1,2,1,2,2,1,0,1,1,4,1,2,1,2,2,0,1,2,3,2,1,1,2,2,2,3,2,4,3,1,2,1,1,2,1,1,4,2,0,3,0,0,2,2,2,0,3,0,2,1,1,2,0,2,4,3,2,2,0,1,1,0,1,2,3,1,0,3,1,1,0,1,3,1,0,3,2,0,2,0,1,0,2,4,4,0,3,1,0,0,3,0,4,2,0,1,3,2,1,4,2,3,1,2,3,1,0,0,2,4,1,2,1,0,1,0,2,1,4,4,3,2,1,2,2,2,2,1,0,1,1,0,0,0,3,1,0,2,3,1,1,4,4,3,0,0,0,4,2,2,1,3,1,2,1,0,2,4,3,3,3,2,2,1,2,2,1,0,3,3,4,4,3,3,1,2,1,1,2,2,1,1,1,2,1,1,2,4,1,2,1,1,1,2,3,2,2,2,4,1,0,1,0,1,1,3,2,1,1,2,1,3,2,2,2,1,2,2,3,3,1,3,2,3,2,3,0,4,0,2,1,0,2,2,2,3,1,0,2,3,3,1,2,2,4,0,2,0,3,3,1,1,1,2,4,4,0,2,1,2,3,1,0,1,0,2,1,2,1,2,2,0,4,2,4,4,0,2,2,2,2,1,2,0,4,1,4,0,2,2,1,1,0,1,0,2,2,2,2,3,2,3,1,3,1,2,3,1,2,0,2,4,1,2,1,1,2,1,3,1,2,0,1,1,3,4,1,0,1,2,3,3,0,4,1,3,1,1,4,0,0,2,3,2,2,4,1,0,0,4,3,3,0,2,1,0,3,1,1,4,2,1,3,1,1,1,4,0,0,1,1,2,2,2,4,2,1,2,0,1,1,3,2,3,4,2,2,1,2,0,1,3,0,3,0,1,3,0,2,3,1,3,4,3,1,3,2,3,2,1,4,1,3,2,4,1,1,1,1,2,2,3,2,3,4,2,2,2,1,3,2,3,1,4,1,4,4,1,4,2,2,0,1,1,1,3,1,2,0,1,4,1,2,0,3,3,2,3,2,0,0,2,2,3,2,4,1,4,2,1,3,1,2,2,1,4,3,3,1,2,2,1,0,2,1,2,1,2,1,1,1,2,0,4,2,2,3,4,3,4,2,3,2,3,2,2,1,0,2,3,1,0,3,2,4,0,3,4,2,2,2,1,1,3,2,2,2,1,3,1,1,3,1,4,0,2,0,3,0,2,4,2,1,1,3,1,0,0,2,3,1,3,1,1,2,1,1,0,1,4,4,0,2,0,0,0,3,2,2,4,0,1,2,1,1,2,2,3,3,0,1,1,3,2,3,4,0,0,1,4,2,2,0,1,2,4,1,0,1,4,1,2,1,1,1,3,2,2,1,1,2,1,2,0,3,1,0,0,1,2,1,1,1,0,1,2,0,1,4,3,3,0,0,4,0,2,1,2,4,2,3,0,0,0,1,0,3,0,1,0,1,1,1,2,1,0,1,0,4,0,1,2,2,0,3,3,1,2,0,2,1,3,2,2,1,2,0,2,1,0,1,2,4,1,1,3,0,4,2,3,3,4,3,1,0,3,1,1,2,1,3,4,3,4,1,2,4,1,2,2,0,3,1,2,0,4,0,1,2,2,2,2,3,1,2,0,3,1,3,4,0,4,2,0,3,2,3,1,3,1,0,2,2,3,4,3,1,3,2,3,2,2,0,1,1,4,1,0,1,0,1,3,1,1,2,3,1,1,3,1,1,3,1,0,2,2,0,2,2,3,1,2,2,1,0,1,3,2,1,3,3,0,2,2,4,0,0,3,2,2,2,0,2,2,1,2,4,4,2,2,3,1,0,2,3,3,1,3,0,2,3,0,1,1,4,2,3,0,1,1,0,4,3,0,0,2,0,1,2,2,1,2,3,3,1,2,1,2,1,4,3,2,4,2,2,1,2,1,2,3,1,3,1,3,2,1,2,0,2,4,2,3,3,3,0,1,0,0,4,3,1,4,2,0,4,2,2,1,2,4,3,2,3,1,3,1,2,2,2,1,1,3,1,1,1,4,1,2,2,3,3,1,2,4,1,3,3,0,4,2,4,1,2,1,0,3,2,2,2,3,1,1,4,3,2,1,3,3,0,1,2,1,1,4,3,4,0,1,4,0,3,4,0,4,3,4,3,1,4,4,4,1,1,0,1,2,1,4,3,2,0,0,1,0,1,2,1,4,1,1,0,0,4,3,3,2,1,0,4,4,4,2,3,1,0,1,1,3,1,2,1,2,1,1,1,2,2,3,3,1,2,1,1,0,2,2,4,0,2,1,3,2,2,4,2,0,1,1,0,2,1,3,1,3,2,1,4,2,2,1,1,1,1,3,4,4,3,1,4,3,3,3,0,2,1,1,3,2,3,1,0,2,2,0,1,2,1,1,3,1,2,3,1,2,3,0,1,0,0,3,1,1,1,3,3,4,1,2,2,1,3,4,3,0,0,1,2,3,1,0,1,4,1,0,2,0,3,0,2,1,1,0,1,2,1,4,0,2,2,2,1,4,2,3,3,1,1,2,2,1,3,2,0,2,2,0,0,0,2,3,3,1,2,1,2,2,1,0,0,2,4,2,1,1,1,1,3,2,0,3,3,1,2,4,2,0,3,2,4,2,4,3,2,3,4,0,0,2,2,1,1,3,2,3,3,0,1,0,1,1,3,2,2,2,2,2,2,4,2,2,2,1,1,3,1,1,1,3,2,2,2,2,3,1,1,3,1,3,3,4,4,2,0,4,2,2,3,0,0,1,0,2,2,0,0,0,3,1,2,1,2,1,3,2,3,2,2,1,1,3,1,1,1,4,4,1,2,3,1,1,1,0,1,2,2,3,3,1,2,4,3,2,1,0,1,2,0,3,4,1,2,4,3,1,3,3,1,3,3,2,3,0,1,0,3,0,3,0,1,1,1,1,0,4,1,1,1,1,3,1,0,1,2,1,2,0,3,2,2,0,3,1,1,1,2,0,0,1,2,1,2,0,2,3,2,4,2,2,2,2,1,1,0,1,0,3,1,2,1,2,2,3,2,2,2,3,2,2,0,4,2,1,2,1,2,1,1,2,4,1,0,2,0,1,4,3,2,4,1,3,2,3,3,0,2,3,1,3,3,0,3,1,3,3,2,0,1,1,2,2,3,0,3,3,2,1,2,2,3,3,1,2,3,1,3,1,1,1,2,1,1,4,1,2,0,2,3,3,1,3,0,1,2,2,1,1,2,1,1,2,0,1,0,1,1,3,3,1,4,2,1,0,3,3,1,1,4,0,2,1,3,2,0,2,3,2,2,1,3,4,3,2,2,4,3,3,2,3,0,1,1,1,3,1,3,0,3,2,2,2,2,2,2,4,0,3,1,4,3,4,3,3,1,3,0,3,2,4,3,4,3,0,2,1,4,2,2,2,1,4,3,1,1,2,1,2,0,2,1,1,2,2,2,0,2,2,0,2,1,0,0,1,2,1,2,1,2,4,2,2,4,4,3,2,0,1,2,1,1,0,2,0,3,0,4,4,2,1,1,1,1,1,0,2,0,4,1,3,2,1,2,3,2,1,2,0,2,1,2,0,0,3,0,2,4,1,1,1,4,2,1,3,3,1,2,4,3,1,0,0,1,2,2,1,1,2,3,0,1,1,2,1,1,2,0,2,2,2,2,3,2,2,4,2,0,0,4,1,2,1,3,2,2,1,0,4,3,0,2,1,2,2,3,3,1,2,0,1,4,0,2,3,3,0,3,1,1,2,2,2,3,4,0,2,1,3,1,3,1,1,0,3,1,0,2,1,2,4,2,1,1,3,1,3,1,4,0,2,0,1,1,1,1,2,1,4,1,2,0,2,2,3,1,3,1,1,2,1,3,1,2,1,1,2,1,4,0,3,1,1,3,1,3,4,1,2,1,3,2,3,0,3,0,2,1,1,2,3,0,4,1,0,1,0,2,2,3,3,3,2,2,3,2,1,2,1,1,2,3,2,1,2,0,3,3,3,2,1,2,2,1,4,2,4,2,3,0,3,1,0,4,2,2,1,2,3,2,0,3,3,1,0,1,2,3,1,2,1,3,1,1,1,3,2,0,1,2,0,1,0,1,2,2,0,3,1,2,2,0,1,4,0,0,1,1,1,4,0,1,4,2,3,2,3,3,0,3,2,0,0,1,3,0,0,2,0,1,4,3,0,3,1,1,1,1,3,1,0,0,3,0,1,2,2,2,0,1,2,2,1,3,2,2,1,2,1,2,1,0,2,1,1,1,0,0,0,2,2,2,0,3,2,4,2,4,0,2,2,0,4,2,2,0,3,1,0,0,3,1,0,1,4,2,1,2,1,3,0,1,2,1,2,4,2,2,1,0,3,1,3,1,2,2,3,3,3,2,0,2,2,2,1,1,4,1,1,1,3,4,2,3,1,4,2,0,1,4,4,1,1,2,1,1,4,2,2,2,2,2,2,3,0,1,1,2,4,3,2,0,1,2,1,3,2,0,1,1,2,2,2,4,0,2,3,1,1,4,3,3,2,0,1,2,4,2,2,4,0,2,1,2,3,2,4,1,1,1,1,1,4,2,0,4,3,1,3,3,2,1,1,2,0,1,3,1,1,2,3,0,1,1,0,0,2,2,2,1,1,0,2,4,2,2,3,3,1,3,1,3,2,2,2,2,1,1,3,2,2,3,2,3,4,1,1,0,1,0,4,0,2,3,0,2,1,2,0,1,4,2,2,1,4,0,2,3,2,4,1,3,3,4,1,1,4,0,2,4,1,1,1,0,0,4,3,2,3,0,4,1,1,2,3,1,0,1,4,1,1,3,3,1,2,2,0,2,3,2,3,1,1,1,2,2,4,1,2,1,0,0,3,3,2,1,2,2,3,0,1,2,1,1,4,1,0,3,0,1,1,1,2,0,3,2,2,3,3,4,3,2,2,0,1,3,2,2,0,2,3,2,3,2,4,2,0,2,1,2,3,1,2,1,0,1,4,1,2,1,2,3,4,1,1,3,3,1,3,4,2,1,2,4,1,0,2,2,0,0,1,0,2,1,0,4,2,1,1,1,2,1,2,4,2,1,2,3,0,4,2,2,2,1,1,0,0,1,1,4,1,2,0,1,4,0,2,2,3,3,0,1,0,3,2,3,1,1,2,2,1,3,3,1,0,3,0,3,0,1,1,3,2,2,2,1,2,1,3,4,1,3,2,4,2,1,0,0,4,2,2,4,1,2,1,0,4,2,0,1,3,1,3,1,3,2,3,2,1,2,0,1,0,0,2,2,1,1,0,0,3,4,1,1,4,1,2,3,1,1,1,1,3,4,1,2,4,0,3,2,3,2,1,1,0,0,3,1,2,2,2,2,0,3,2,4,2,1,2,2,1,2,4,3,1,3,1,3,4,1,2,2,4,1,2,0,2,3,1,3,1,2,2,4,1,2,2,3,3,2,2,0,1,0,0,3,3,0,3,0,2,0,1,4,3,1,2,1,2,3,1,1,3,3,0,2,2,1,2,1,3,3,0,2,1,2,1,3,0,4,2,0,1,2,0,3,1,4,3,2,3,1,3,1,2,4,0,1,2,2,2,2,1,0,0,2,4,3,1,1,4,1,1,3,3,2,0,2,1,1,1,4,2,1,3,2,2,0,2,3,4,1,1,0,1,4,2,0,0,3,1,3,2,2,3,0,1,2,4,4,0,1,0,4,0,2,2,0,1,3,2,1,0,4,0,0,2,0,2,2,4,1,2,1,3,2,0,2,4,3,2,1,1,4,0,0,2,4,1,2,3,1,1,0,3,2,1,1,2,2,0,1,4,3,4,2,0,4,1,2,1,4,1,1,2,1,1,1,2,3,3,2,0,2,2,2,3,2,2,1,3,1,3,1,4,3,2,2,2,3,1,1,1,1,2,2,4,2,1,2,3,0,1,0,1,0,3,1,4,0,4,2,2,3,2,1,2,3,2,3,1,3,0,1,0,1,3,3,1,3,2,3,0,0,1,4,2,1,3,2,0,2,2,2,3,2,2,2,0,1,2,0,4,1,3,4,4,1,1,4,2,2,2,1,1,1,4,2,0,1,0,2,1,2,1,2,4,3,3,1,1,0,2,3,3,2,4,1,1,2,2,2,3,2,2,1,2,4,2,4,1,0,2,3,1,2,1,2,2,1,1,1,3,3,0,1,2,2,1,3,4,2,1,3,2,4,1,1,3,2,4,2,3,2,0,0,0,3,2,4,0,1,0,1,4,2,4,1,2,0,2,1,3,4,3,0,2,2,2,4,1,1,1,0,4,2,4,1,0,4,3,2,3,3,1,4,1,1,2,1,2,1,2,4,1,3,1,2,1,3,1,3,3,1,1,4,3,2,1,1,1,3,4,1,2,1,0,2,3,2,2,2,4,3,2,1,0,2,0,1,1,2,2,3,4,4,2,2,0,2,3,1,3,0,3,0,3,2,2,4,3,1,2,1,2,2,1,2,4,1,3,3,1,2,2,3,3,3,2,2,1,1,2,3,4,1,1,2,3,1,0,2,0,1,1,2,0,1,2,1,1,4,0,2,3,1,2,1,1,0,2,3,1,4,0,2,3,4,1,0,3,2,1,1,4,2,1,2,1,0,0,2,3,0,3,0,0,1,2,0,3,1,1,3,2,1,2,0,2,4,1,3,3,4,2,2,2,2,0,0,0,1,0,1,4,2,2,3,2,2,1,2,1,3,2,3,2,0,2,1,3,1,1,2,4,1,2,2,1,1,1,1,2,1,1,0,1,3,1,3,1,2,1,1,0,4,2,2,2,1,1,1,1,1,3,2,2,1,3,4,3,3,3,1,1,1,2,0,3,0,3,3,1,2,1,3,1,1,1,2,2,3,2,4,1,0,2,2,2,0,4,1,1,3,2,1,0,2,0,3,1,0,0,1,2,1,2,3,3,2,1,1,2,4,0,1,4,3,0,2,0,2,1,0,2,0,0,1,3,1,4,1,0,2,2,1,3,2,2,1,1,2,2,1,2,2,4,2,2,1,0,1,2,1,3,3,0,0,3,2,4,1,3,2,1,1,0,1,1,2,0,4,2,2,0,3,2,2,1,4,0,1,2,2,4,1,0,1,4,1,2,1,1,2,0,2,1,2,0,0,1,0,4,0,2,2,2,1,4,0,0,0,2,4,4,2,3,1,2,3,1,3,2,3,0,0,2,3,2,4,2,4,1,2,1,3,1,3,4,0,1,3,1,1,3,1,3,1,2,3,0,0,3,1,2,4,4,2,3,0,1,4,3,1,0,3,3,1,2,2,1,1,1,2,4,1,2,2,2,3,1,0,1,3,0,1,0,1,2,1,2,1,2,3,3,4,1,1,4,3,1,1,0,2,2,0,3,2,4,2,1,1,3,0,0,0,2,1,0,1,0,3,3,2,2,1,0,4,3,2,1,1,1,4,3,0,3,3,3,0,3,2,0,2,1,1,1,1,2,1,2,2,3,3,2,0,1,2,2,1,0,1,4,2,2,3,2,1,2,2,4,3,2,0,0,2,2,2,0,2,2,1,1,2,3,3,2,0,3,1,1,0,1,1,1,4,1,2,1,1,2,1,0,4,3,1,1,2,2,2,1,0,1,2,3,2,2,2,0,2,3,1,1,0,2,1,2,3,2,1,4,2,2,3,2,4,3,2,0,4,4,3,0,1,3,0,0,4,0,0,1,4,1,1,0,3,1,3,1,1,2,1,2,1,0,2,1,0,1,0,4,2,4,4,3,1,0,1,1,2,1,0,4,1,4,1,2,2,2,4,2,4,2,2,0,1,1,2,2,0,4,2,2,0,0,0,1,3,1,2,2,1,2,2,4,3,0,0,4,3,2,4,3,0,3,0,3,4,0,0,1,1,3,1,1,2,2,2,2,3,1,1,1,4,0,0,1,0,3,4,3,1,1,4,2,1,1,1,1,2,0,0,1,1,2,2,2,2,1,3,1,3,2,2,3,3,1,0,0,0,0,3,1,1,1,1,0,0,3,1,3,3,3,1,2,2,1,1,1,3,1,3,0,2,1,4,2,0,2,2,3,1,0,2,2,2,2,2,0,1,1,2,2,2,1,1,0,2,4,0,1,1,3,3,2,4,1,1,2,3,1,1,3,0,3,1,1,1,2,1,3,1,3,4,3,1,0,1,0,1,1,2,1,1,2,0,1,2,3,4,1,2,1,1,1,1,0,2,0,1,2,2,2,1,0,3,4,1,2,2,1,2,3,0,3,2,0,0,3,0,0,2,3,2,2,2,2,2,3,1,3,1,1,0,0,3,2,3,1,2,2,2,1,1,3,2,2,3,1,4,3,1,0,2,4,1,0,3,1,2,2,2,4,1,4,0,0,2,1,1,3,1,0,1,0,2,0,3,3,2,2,2,2,1,2,1,0,2,2,1,3,3,1,3,1,1,0,1,3,4,2,0,4,2,1,1,0,3,1,4,2,0,2,2,2,0,1,1,1,2,0,4,1,1,4,1,2,4,1,4,2,0,0,2,2,2,3,2,1,0,2,4,0,2,1,0,1,1,1,1,2,1,1,4,1,2,3,0,3,4,1,4,2,1,1,1,0,3,2,3,2,2,0,1,3,3,1,1,1,1,4,3,0,2,4,3,1,1,3,1,2,4,0,2,2,3,2,2,1,3,1,3,3,4,4,4,0,0,1,1,2,4,3,2,3,3,1,2,2,4,1,1,4,1,2,2,4,2,1,3,3,0,3,2,2,1,2,2,1,2,1,1,2,2,4,1,3,2,3,1,1,2,1,3,1,1,4,2,1,0,3,2,0,2,1,2,0,4,2,0,3,1,0,1,3,3,2,2,3,4,4,1,4,2,1,4,1,0,2,1,1,2,1,4,1,1,1,1,3,1,4,0,4,0,2,3,0,3,0,3,1,2,2,2,1,3,1,3,1,1,3,0,2,2,1,2,2,3,2,1,3,1,1,1,1,2,2,1,4,2,2,3,0,4,0,1,1,4,2,2,2,1,3,3,4,1,4,3,3,2,2,0,4,3,4,2,2,3,1,2,1,2,3,4,1,2,2,2,2,2,3,3,1,2,1,1,3,1,4,1,3,4,2,3,4,2,2,1,2,3,2,1,1,2,4,1,1,2,2,1,2,3,1,3,1,3,2,3,0,2,1,0,4,1,2,1,2,2,4,3,1,2,3,3,2,2,1,2,0,1,0,4,3,4,3,0,4,1,3,0,1,0,1,0,2,2,1,0,1,1,3,0,1,2,1,2,3,2,1,0,2,1,2,3,3,1,2,2,2,4,2,1,2,2,1,4,2,0,0,4,2,1,3,4,0,2,4,2,3,2,1,2,0,2,1,1,1,2,3,1,1,3,2,2,2,1,0,2,0,3,1,1,0,4,1,2,1,2,1,4,2,3,0,4,4,3,2,1,2,1,1,4,2,2,2,0,2,1,0,3,3,1,3,1,2,1,1,1,1,2,1,0,2,1,2,3,0,3,0,3,1,1,2,1,1,2,0,3,0,3,2,1,2,1,1,4,2,3,3,1,1,3,3,0,2,1,4,2,2,2,1,2,1,0,0,2,2,3,1,0,0,0,1,1,0,2,2,4,1,1,1,2,2,4,0,3,2,1,2,2,1,2,2,2,3,1,2,3,0,1,1,2,2,3,2,2,1,2,2,1,1,3,2,2,1,4,4,0,4,2,1,3,1,2,1,2,3,4,0,2,1,1,2,2,2,2,2,2,2,0,4,1,4,4,3,4,1,4,1,2,2,1,3,2,1,1,1,2,0,1,3,1,4,2,1,3,1,4,2,3,3,2,1,0,2,2,1,2,2,3,1,2,4,1,1,3,0,2,4,1,0,1,1,4,0,0,1,0,1,0,3,2,2,1,3,0,3,2,2,1,2,2,2,1,1,1,4,0,1,3,3,1,2,1,4,4,3,0,3,1,2,2,1,1,2,2,1,1,3,1,2,2,2,2,1,4,2,1,4,4,2,4,4,1,0,1,4,1,2,0,2,2,2,4,3,4,4,3,0,4,0,2,4,1,1,0,0,1,1,2,2,0,0,2,2,2,0,0,4,1,1,1,3,0,0,3,2,2,4,2,1,3,2,0,1,1,1,3,2,3,3,0,4,3,3,0,2,0,2,1,3,4,2,0,3,3,4,4,3,1,0,4,1,0,0,2,2,2,3,1,2,0,1,0,4,2,2,1,2,1,2,3,0,0,2,2,2,1,3,3,3,2,2,3,3,1,1,2,3,1,1,2,1,2,4,1,4,0,4,0,1,0,1,1,3,1,2,0,3,2,1,1,2,0,4,1,0,0,1,3,2,1,0,3,3,0,1,2,1,1,2,2,0,0,4,4,2,1,3,1,1,4,3,3,2,0,1,0,0,1,1,4,0,0,0,3,1,2,1,1,2,0,3,4,3,0,0,3,1,3,2,3,2,1,2,1,1,3,2,2,2,3,2,4,4,3,2,1,0,1,2,4,1,2,0,4,4,3,2,1,2,2,0,2,1,1,3,0,0,3,2,2,0,4,1,3,1,4,1,1,2,3,3,3,1,4,1,2,0,0,1,3,1,1,3,0,0,2,4,4,2,3,3,3,2,1,0,4,2,3,3,1,1,3,0,1,3,0,1,3,2,3,4,0,2,2,1,2,2,2,1,1,4,1,0,3,2,0,4,0,2,3,1,3,4,2,3,1,4,1,2,1,1,1,1,3,2,1,3,4,1,2,1,1,0,2,1,3,2,2,0,3,1,3,2,0,0,2,1,4,2,0,4,4,1,2,2,0,2,0,0,2,4,2,3,0,3,1,2,1,0,2,0,1,3,0,0,0,2,0,2,3,1,3,1,2,2,4,4,3,1,1,1,1,3,2,2,1,1,3,4,1,2,2,2,0,3,0,3,0,1,0,2,2,2,1,1,3,1,3,0,0,0,2,2,1,0,2,2,2,2,1,1,2,0,1,2,2,4,2,1,2,2,3,4,3,1,0,2,2,3,2,2,1,1,1,1,2,1,2,3,4,2,2,0,3,1,0,1,2,2,3,4,1,2,3,2,1,1,3,3,2,0,1,1,0,0,2,1,1,1,3,3,3,0,2,1,1,2,0,0,4,2,1,2,2,2,2,0,4,1,3,2,1,3,1,2,2,1,2,4,2,4,1,1,1,2,3,2,1,3,1,3,0,0,3,1,2,3,1,1,1,0,0,1,2,1,0,3,1,2,1,1,4,1,3,2,2,1,2,2,2,4,0,2,4,2,0,2,4,4,3,0,2,0,2,2,3,2,2,1,1,2,1,4,1,2,3,0,2,1,1,2,3,3,3,0,1,2,3,3,3,1,1,2,1,0,2,1,0,3,1,1,4,3,2,2,3,2,3,1,1,1,3,1,4,2,1,1,4,3,2,0,4,3,1,3,2,3,0,1,0,2,0,4,4,2,3,0,2,1,0,1,0,0,2,1,2,0,1,0,2,1,4,2,3,1,2,2,1,3,3,3,2,1,3,1,3,2,3,3,0,2,2,3,0,3,4,2,1,3,0,4,0,1,1,2,0,2,3,0,3,3,2,2,1,0,2,0,2,1,2,3,1,0,2,2,0,1,2,1,3,2,2,3,3,1,2,3,2,0,3,1,1,1,1,0,1,1,0,2,1,1,3,1,3,1,1,3,2,1,2,2,2,1,1,3,1,2,2,3,1,4,2,1,0,1,3,3,2,1,0,0,1,3,1,2,4,3,2,2,0,4,3,1,1,0,1,1,2,0,3,0,1,1,0,4,0,1,1,2,3,4,1,3,3,2,2,2,2,2,1,3,1,2,2,4,0,1,4,1,4,2,0,1,2,4,0,1,3,1,3,2,2,3,4,4,4,2,2,2,4,1,3,4,1,1,1,4,3,0,2,1,2,2,1,0,4,2,1,2,4,3,2,3,2,1,1,2,1,4,1,3,1,1,3,2,1,2,4,4,3,0,1,4,1,2,1,1,2,1,4,0,2,0,1,2,3,4,0,2,1,2,1,1,3,0,4,2,1,3,0,0,1,3,3,2,0,2,2,3,0,2,4,0,1,3,1,4,0,3,0,2,2,2,1,1,2,2,1,2,1,0,2,2,2,2,1,1,1,4,1,1,2,1,3,1,1,0,2,2,3,2,0,0,3,1,0,1,1,1,3,3,1,1,1,2,0,4,0,1,1,1,1,2,2,1,2,1,3,4,1,4,1,1,2,2,0,3,0,0,2,1,0,2,0,0,3,2,0,1,1,0,3,2,2,1,3,3,2,1,0,0,0,2,2,2,4,3,0,0,1,2,1,0,4,2,1,4,1,0,0,3,3,1,1,3,0,0,2,1,4,3,2,0,3,4,3,1,4,3,3,2,4,2,3,1,2,2,4,3,3,2,1,2,1,2,0,2,2,1,2,0,4,1,2,2,2,2,2,2,4,2,1,4,2,0,2,0,1,3,2,0,1,3,2,2,2,2,3,3,1,3,0,4,2,1,4,1,2,1,2,0,1,0,4,1,4,3,0,2,2,4,0,1,3,0,0,1,4,1,2,3,1,3,3,2,2,2,1,2,4,2,3,2,1,1,2,2,0,0,4,1,3,4,2,2,0,2,0,2,1,1,3,2,2,1,0,3,1,2,1,2,0,4,4,4,4,2,2,3,2,2,3,1,4,0,1,0,2,1,2,3,1,2,3,3,0,2,2,2,1,3,1,4,0,1,1,0,1,1,1,0,0,1,1,1,1,4,1,1,1,3,1,1,3,2,3,2,3,2,0,4,2,0,3,3,1,3,1,3,3,2,3,3,2,1,4,3,2,3,1,1,1,1,1,3,3,4,1,2,2,3,2,1,1,3,2,3,3,1,2,3,3,2,3,4,1,2,1,3,4,3,2,1,3,4,1,2,2,0,1,3,2,2,3,2,3,0,3,3,0,3,2,3,3,2,1,1,1,2,2,3,0,3,1,3,1,0,1,2,3,3,4,0,1,1,3,3,1,0,1,2,1,1,2,0,2,2,0,2,1,2,1,3,1,1,1,3,2,3,0,4,2,4,3,2,1,2,2,4,2,4,2,3,1,1,2,3,0,1,2,4,1,1,2,3,2,0,1,2,4,0,1,3,3,1,2,1,2,2,3,1,1,4,4,1,3,1,1,1,0,0,3,3,0,1,2,3,3,2,2,1,2,0,2,1,0,3,1,3,0,2,2,2,4,3,2,2,0,1,2,0,1,1,3,1,1,4,2,2,3,2,3,0,1,2,4,2,3,2,2,2,4,2,0,2,2,1,3,1,1,3,1,1,2,2,1,2,2,2,0,3,2,1,1,0,3,4,1,2,1,4,4,0,3,3,0,3,1,2,4,1,0,2,4,0,1,2,2,3,1,1,2,3,1,2,3,0,2,1,0,4,3,0,1,2,1,2,1,3,1,1,3,0,2,1,2,4,2,3,1,2,3,4,3,1,1,1,2,1,1,3,0,2,4,2,1,1,2,2,1,0,1,1,1,1,1,1,2,1,0,1,2,3,3,3,1,3,4,3,2,3,2,0,2,1,2,1,2,2,2,0,0,1,1,4,3,0,1,2,1,1,0,1,1,2,2,2,2,2,4,0,2,1,2,2,1,3,2,2,1,1,1,1,2,2,2,2,1,0,1,2,2,0,4,1,4,2,0,0,3,3,3,0,3,1,2,4,2,3,4,0,2,4,1,2,0,2,2,2,0,2,4,3,4,0,3,1,2,0,1,4,0,3,1,2,3,3,2,1,1,1,0,3,1,1,0,3,4,3,3,2,1,2,3,2,0,2,0,2,0,0,1,4,1,2,1,3,2,1,1,1,3,1,1,1,2,4,4,3,0,1,0,2,3,2,0,1,2,1,2,2,4,1,4,2,2,1,1,2,1,2,0,0,3,2,3,3,3,0,4,2,3,1,4,0,0,2,4,1,2,2,1,3,0,2,2,3,3,3,2,2,1,3,2,2,2,2,2,1,1,2,4,1,2,1,3,0,4,3,1,1,2,0,0,1,1,2,2,2,2,1,2,4,1,3,0,2,0,1,0,2,3,1,2,2,0,1,3,1,0,2,1,3,1,1,1,0,0,1,1,3,3,2,0,2,1,1,2,2,2,4,4,4,1,0,0,4,3,2,1,2,0,0,4,1,2,1,2,3,1,1,1,4,3,1,1,2,3,3,3,3,1,3,3,1,1,2,2,2,4,2,0,2,4,3,0,1,0,0,4,4,1,4,1,2,4,0,3,2,4,3,4,1,2,3,1,2,1,2,1,2,2,0,2,0,3,1,4,2,3,0,4,2,3,0,1,3,3,0,1,3,1,2,3,2,4,1,1,3,3,2,2,3,0,0,0,2,2,2,3,2,1,0,1,0,1,1,1,2,4,0,3,2,1,1,0,1,4,3,1,1,2,2,1,4,2,4,4,2,2,2,1,1,2,2,0,0,3,1,1,1,3,3,3,2,2,1,3,1,3,1,3,1,1,4,1,3,0,1,3,0,3,1,1,2,4,1,1,3,3,1,2,0,1,1,1,3,1,4,4,3,0,4,2,1,4,0,0,2,0,1,1,1,4,3,4,1,1,2,3,1,3,1,4,4,2,1,3,1,3,1,3,1,1,4,1,0,2,1,3,0,0,3,1,0,0,1,1,3,2,2,4,2,2,1,1,2,4,3,2,0,2,0,0,1,0,1,4,2,0,1,2,0,2,4,2,2,2,2,4,2,1,0,0,2,3,3,1,4,3,2,4,2,2,3,3,4,0,0,4,2,0,4,1,3,2,2,0,0,1,1,1,2,0,3,2,3,3,3,3,3,3,2,3,2,2,4,1,1,3,1,3,1,2,2,0,1,0,3,1,1,4,4,1,0,1,2,2,2,3,2,2,2,0,0,4,0,3,1,3,2,2,1,2,0,2,2,3,1,1,1,1,2,2,1,2,2,2,2,4,2,2,2,3,4,1,2,1,0,2,0,0,4,4,2,4,2,2,3,4,0,1,2,2,2,2,2,1,2,1,2,2,2,2,3,3,2,3,1,4,2,1,1,0,1,3,1,3,1,1,3,1,1,2,3,4,1,2,2,1,0,2,2,2,2,2,4,3,2,3,2,2,1,1,1,3,3,2,3,1,2,1,1,2,2,0,2,4,3,1,3,3,1,2,1,0,2,2,4,4,3,2,3,0,3,2,3,3,1,0,2,0,1,3,2,1,3,3,1,2,2,2,3,2,4,0,0,1,3,2,2,2,4,2,1,3,0,2,2,0,0,3,1,1,2,0,0,2,1,1,2,4,2,3,1,4,2,3,0,2,2,1,3,2,3,0,1,2,4,0,3,4,2,3,2,1,0,3,0,0,2,2,3,1,3,0,2,2,1,0,0,1,2,0,2,0,1,2,2,2,2,3,3,0,4,2,1,4,1,2,3,1,3,2,1,4,1,2,2,1,3,4,1,1,2,2,2,4,3,1,2,1,2,2,3,0,0,3,1,2,0,0,4,2,1,3,2,1,3,4,1,4,1,0,2,1,1,2,1,0,1,1,1,2,1,1,3,0,0,3,1,3,4,0,2,1,1,1,4,2,1,1,3,0,2,3,4,2,1,0,1,0,1,2,3,4,2,0,1,1,2,2,0,2,1,0,3,2,0,3,4,0,1,3,2,2,3,1,2,4,0,0,0,3,1,1,0,4,0,0,1,2,1,4,2,1,0,4,1,1,1,1,2,2,2,1,1,4,2,0,1,4,0,2,2,1,1,1,1,0,1,1,1,4,2,3,3,0,2,4,2,2,1,0,0,2,3,2,3,3,1,3,3,0,2,4,2,0,1,1,2,0,1,2,4,2,0,3,3,1,4,0,3,0,0,4,2,1,0,4,0,2,2,2,2,4,1,2,2,3,3,4,3,2,4,4,3,0,1,2,2,2,3,2,1,3,3,1,0,1,3,1,1,4,2,2,3,0,3,0,0,3,2,1,4,1,1,3,2,1,0,3,1,1,3,0,4,1,4,2,3,3,2,3,4,1,2,1,2,2,2,3,1,0,3,0,3,2,2,1,2,4,4,0,4,2,0,3,2,1,2,0,2,0,0,0,3,1,3,2,0,1,2,2,2,1,2,1,4,0,3,1,1,2,3,0,2,2,2,0,1,0,1,0,0,1,2,3,2,0,3,2,2,3,3,3,4,1,0,2,0,1,2,3,2,0,1,3,3,4,0,1,2,0,1,1,0,0,1,3,1,1,2,2,3,2,1,2,2,1,1,2,0,4,3,1,1,1,2,4,3,2,4,4,1,1,3,3,3,2,2,0,2,2,0,2,1,2,0,1,1,2,2,2,4,2,2,1,1,0,1,1,0,0,4,2,2,2,3,3,0,0,2,2,1,1,0,3,1,4,2,0,0,2,4,1,1,0,4,1,3,4,2,1,2,2,4,3,3,4,4,2,2,2,1,3,3,1,1,1,0,1,2,1,2,2,4,1,2,0,0,4,2,3,0,1,2,1,2,0,1,1,0,0,2,0,1,3,3,2,4,2,2,4,2,2,0,1,1,2,2,1,3,1,4,3,0,4,1,2,1,2,1,3,1,1,0,2,1,2,3,3,4,3,2,1,1,2,0,2,2,0,3,1,4,3,1,1,3,2,1,2,1,2,2,4,2,4,4,2,2,2,4,0,1,3,2,3,2,1,3,4,1,2,3,2,2,2,1,0,2,2,1,4,3,2,1,1,2,4,1,2,0,1,3,1,2,0,2,3,4,2,2,0,3,2,1,1,4,2,1,2,2,4,2,2,0,4,2,1,2,2,2,1,1,1,0,3,3,3,1,1,1,2,3,3,2,3,2,4,4,3,3,2,1,3,2,4,1,1,0,0,1,4,2,2,0,2,4,3,1,2,2,0,1,2,4,0,0,3,1,1,1,1,3,1,2,0,1,1,2,4,1,1,2,1,0,2,1,1,4,2,0,2,2,2,2,0,2,3,3,4,4,1,4,3,1,1,2,2,2,2,3,2,1,1,2,3,4,2,2,1,1,3,3,3,2,0,4,2,1,2,1,2,1,1,4,2,1,1,2,3,2,1,4,1,2,1,2,0,4,2,2,1,2,4,3,0,4,1,2,2,3,1,2,2,0,3,1,3,4,1,2,1,1,1,4,3,4,0,2,4,0,2,2,4,2,3,3,3,1,3,2,2,2,2,2,0,2,2,0,4,1,2,2,2,1,1,3,1,2,0,2,3,3,0,0,1,1,2,3,2,1,1,1,3,4,1,3,3,2,1,1,2,2,2,3,1,2,3,0,2,2,1,3,3,2,4,2,3,0,1,1,3,2,1,2,1,1,4,3,0,2,1,2,3,2,3,2,3,4,0,0,2,0,2,1,1,2,3,1,2,1,2,4,0,2,1,3,2,3,4,3,0,1,1,3,2,1,2,1,4,1,3,1,4,4,3,1,4,0,2,0,2,0,4,1,2,3,1,1,0,0,0,1,4,3,1,2,0,1,0,4,2,4,0,3,4,0,2,1,3,2,4,2,0,1,1,2,4,2,2,0,0,4,1,0,3,3,0,1,2,2,3,0,1,0,0,1,1,1,2,2,3,2,1,3,1,3,1,3,2,2,3,3,3,4,2,0,0,2,1,2,1,3,1,2,3,2,4,3,4,3,1,4,2,3,1,3,2,1,0,0,1,1,1,0,3,1,1,2,2,3,1,2,2,1,4,2,2,3,1,0,2,0,1,2,4,2,2,3,0,0,3,2,3,0,0,2,1,1,0,1,2,1,3,2,0,0,3,2,1,2,2,2,1,1,0,0,3,4,0,1,0,0,2,4,1,1,1,4,2,1,2,0,3,2,2,3,2,1,1,1,4,3,0,2,0,3,2,4,1,2,2,4,2,2,2,3,3,0,1,3,2,1,0,2,4,3,1,1,2,1,2,0,3,1,1,1,2,3,3,0,3,2,0,2,1,0,3,1,2,3,1,0,3,1,0,2,1,0,3,2,1,1,1,1,3,1,2,1,3,1,1,2,0,1,2,1,3,2,3,4,2,3,3,4,1,2,3,2,1,3,2,3,1,1,1,1,2,2,2,3,0,1,2,0,1,2,1,1,1,3,2,3,2,1,0,2,3,0,4,1,0,2,0,1,2,1,2,1,1,1,1,1,0,2,1,3,2,1,2,1,0,4,3,2,2,0,1,2,2,2,1,1,2,3,3,3,1,2,2,4,4,1,2,1,2,3,3,3,4,3,3,2,1,1,1,2,1,2,3,3,3,1,0,1,2,1,1,3,3,2,2,1,1,2,1,4,0,2,3,2,0,3,4,2,3,0,2,2,1,1,1,3,1,0,1,0,3,2,3,1,1,4,1,1,0,1,2,2,3,2,2,2,3,1,2,1,3,1,3,1,1,2,2,2,2,2,0,2,2,4,4,3,3,2,2,2,2,2,0,1,0,3,1,2,1,0,2,3,4,2,3,4,1,1,0,2,1,2,3,3,3,1,4,1,2,3,1,0,2,2,4,0,3,0,1,1,1,1,2,0,2,1,2,2,3,3,1,0,0,1,0,4,2,2,2,3,4,2,3,0,4,3,2,1,0,2,1,2,2,3,4,3,3,2,3,1,1,0,3,1,4,2,3,3,2,1,0,1,0,1,1,1,0,2,1,2,1,2,2,1,1,1,1,2,1,3,3,2,3,2,3,2,3,0,2,2,2,1,1,1,2,4,4,2,2,3,1,2,0,3,3,1,3,2,1,3,4,2,1,4,3,1,4,1,2,4,2,0,3,2,1,3,1,1,3,1,2,1,3,4,0,2,0,2,2,3,2,4,4,0,3,3,0,1,3,3,3,2,2,2,1,2,2,3,3,2,2,2,1,3,3,2,2,2,2,1,3,3,1,1,2,4,1,2,1,1,4,2,1,4,3,1,3,0,1,1,2,1,1,2,2,1,0,1,4,2,2,3,4,1,1,2,2,3,2,2,0,1,0,3,2,2,0,2,2,4,3,0,3,4,1,4,2,1,4,3,4,2,1,0,2,4,2,2,4,2,0,1,1,2,2,1,0,1,4,2,1,4,4,3,3,2,1,2,2,2,0,0,4,2,4,4,1,2,3,3,1,2,1,4,2,0,2,1,4,3,3,1,1,4,4,4,4,1,2,1,1,2,2,2,0,0,0,1,3,1,3,2,4,2,2,0,2,0,2,3,4,2,3,0,0,2,3,0,4,1,2,0,2,0,1,3,2,0,4,3,0,1,1,2,4,1,2,2,1,4,0,0,3,1,1,0,2,4,2,1,2,1,4,1,3,1,2,2,0,3,3,1,2,2,3,2,2,2,3,1,0,0,2,3,1,2,1,2,1,0,0,2,1,0,2,3,3,3,4,4,2,0,1,1,3,2,0,3,2,4,1,2,1,0,1,1,2,2,0,1,2,3,1,0,1,0,4,2,1,0,1,1,3,2,0,0,0,1,0,2,1,2,0,4,3,2,1,3,1,1,3,3,1,2,3,3,3,1,2,0,1,1,3,2,0,4,0,2,1,2,1,1,2,3,2,1,1,2,0,2,1,2,2,1,2,1,4,1,1,2,2,4,2,1,2,2,4,1,3,4,2,1,2,0,2,2,3,3,2,3,1,1,4,2,1,1,1,3,1,3,3,0,4,1,0,2,4,2,0,0,1,2,1,1,2,0,0,1,2,1,2,1,2,0,2,2,0,1,1,1,1,2,1,1,4,1,4,3,1,2,2,4,3,1,4,4,2,2,0,2,1,2,2,1,2,0,0,3,4,3,1,3,2,2,2,4,2,4,1,1,1,1,0,2,2,0,1,2,3,4,0,1,3,0,3,0,0,1,0,0,4,2,3,2,2,0,2,0,4,2,0,0,2,0,1,1,0,4,1,1,1,2,2,1,0,2,3,0,3,3,4,1,2,2,2,0,0,2,2,3,3,2,0,2,2,2,0,2,3,2,1,1,3,3,2,3,1,1,3,2,1,1,2,1,1,2,2,1,1,1,1,1,2,2,3,1,3,1,2,1,3,0,1,1,1,1,3,0,0,2,0,1,1,1,4,3,0,2,4,2,0,3,3,1,3,3,1,1,3,3,2,1,2,3,1,2,3,2,2,2,3,3,3,1,2,4,4,3,2,1,1,1,4,3,3,3,1,2,2,4,2,0,2,3,2,1,3,1,4,1,1,2,1,2,0,0,2,1,0,2,0,2,2,1,2,2,0,4,1,0,3,1,2,1,0,1,2,1,3,2,0,3,1,2,1,1,0,0,2,1,3,1,2,1,2,0,2,2,3,0,2,2,2,4,3,1,1,3,3,1,3,1,4,1,3,3,0,2,3,2,2,1,1,1,2,1,4,1,2,2,3,1,1,2,1,3,2,1,0,0,2,1,1,2,4,2,0,2,1,2,1,3,4,4,2,0,0,1,3,1,3,4,1,4,3,2,2,0,2,2,4,0,1,4,3,0,0,2,1,4,1,1,2,1,3,1,0,4,3,0,0,0,1,4,0,1,2,2,4,0,2,2,1,1,2,1,1,0,0,2,2,2,3,0,0,2,2,2,0,1,2,0,0,4,0,4,2,2,4,4,3,2,0,0,1,3,1,3,4,0,0,2,0,2,0,4,3,1,1,2,1,4,3,1,3,2,3,0,4,2,2,1,2,1,1,3,0,3,2,1,4,1,2,0,0,3,3,1,2,3,2,2,2,1,3,1,1,2,3,1,3,1,1,1,2,2,2,2,2,1,2,4,2,3,1,4,0,1,0,4,1,2,0,1,3,1,4,3,1,1,2,2,3,4,1,2,3,1,0,0,1,3,3,2,2,1,1,1,3,0,1,3,2,1,2,3,0,4,3,2,3,2,1,2,0,3,2,2,1,3,3,1,3,4,0,3,2,3,3,2,2,2,2,0,1,2,4,0,0,1,2,4,1,0,0,0,1,2,1,1,2,0,2,1,1,3,2,1,0,1,4,3,3,3,3,2,0,3,1,3,2,1,1,3,2,1,1,2,1,2,3,1,4,2,1,2,2,1,3,1,1,4,1,4,1,4,0,1,2,1,1,2,1,1,1,2,1,2,3,2,1,2,1,1,0,2,2,2,3,4,1,3,4,1,0,1,3,2,4,3,0,0,3,2,1,4,3,3,2,2,3,3,2,1,4,1,1,1,3,1,0,0,2,1,2,4,2,0,3,4,0,3,0,2,1,2,2,2,0,3,3,4,4,3,3,2,2,1,4,2,3,1,1,1,3,1,2,1,0,1,4,0,0,2,4,1,4,2,2,0,3,0,4,1,2,2,3,2,2,2,2,2,0,2,1,2,2,0,1,2,1,4,4,0,2,2,0,2,1,1,4,4,2,1,2,1,1,2,0,2,3,0,1,1,1,0,2,1,1,2,2,0,2,2,0,1,1,2,4,2,1,3,4,1,2,2,2,1,2,3,2,2,1,2,2,3,2,1,2,3,1,1,0,1,3,1,1,2,0,2,3,3,2,2,2,0,1,3,0,3,1,3,0,3,0,3,1,2,2,3,2,1,3,2,2,0,1,2,1,3,2,4,3,2,2,1,0,2,0,3,4,3,2,2,0,3,2,2,1,1,1,2,2,1,2,3,2,0,4,2,3,1,0,1,1,4,0,2,3,1,0,1,2,1,0,2,3,2,3,2,0,2,1,2,2,0,1,3,1,3,0,1,0,1,2,1,4,1,1,2,2,2,1,3,1,2,4,0,1,3,2,1,1,1,1,3,3,0,2,3,3,3,1,0,2,2,2,2,4,0,4,1,2,1,1,1,0,1,4,2,2,2,2,4,3,2,0,3,0,0,0,1,1,3,1,1,4,1,2,1,1,2,4,2,3,1,4,1,0,0,2,3,0,1,2,4,3,4,2,2,1,1,0,2,1,3,0,3,1,2,3,4,1,2,1,4,2,2,4,1,3,2,4,2,1,1,3,1,2,2,2,2,0,0,3,1,2,1,3,0,1,0,2,0,2,2,2,1,0,2,0,0,0,0,0,3,2,2,1,0,3,4,2,1,3,3,0,1,2,2,1,2,0,3,3,4,3,1,1,1,1,1,1,3,4,0,4,0,3,1,1,3,2,4,4,1,1,2,4,1,2,2,1,2,1,0,2,1,1,0,1,1,2,0,2,4,1,2,2,3,1,2,1,0,1,1,2,1,1,2,2,2,1,4,3,1,2,0,1,0,1,1,1,0,3,1,2,1,4,1,1,2,1,1,0,3,1,4,4,0,3,2,2,1,1,2,3,1,2,3,2,3,4,0,1,0,0,2,2,1,1,2,2,2,4,2,2,0,1,2,1,2,2,2,1,2,1,3,3,1,0,3,2,4,2,1,1,2,0,2,1,2,0,2,1,2,3,1,3,1,0,4,1,1,1,1,2,0,2,3,2,3,1,2,0,3,1,2,4,1,3,3,2,2,2,4,0,1,0,1,2,4,4,0,0,4,1,2,2,2,3,2,0,2,2,2,3,2,1,4,2,1,1,0,4,1,0,4,1,4,2,1,0,2,2,3,0,1,4,2,3,4,2,4,4,0,2,2,2,3,2,2,1,2,1,1,2,0,1,2,1,3,2,3,2,4,1,3,0,1,3,2,0,2,0,1,1,2,1,4,1,2,0,4,0,3,0,3,3,2,2,0,0,0,3,1,2,1,2,2,0,0,1,2,1,4,1,0,4,0,2,2,4,0,2,0,2,1,3,2,4,2,3,1,1,2,0,2,2,4,1,0,1,2,0,2,1,0,2,1,2,1,1,2,2,0,1,2,4,1,2,2,1,0,1,1,0,2,0,2,1,2,3,2,1,2,1,1,4,2,4,2,3,3,1,2,0,2,2,0,2,2,4,0,1,3,2,4,1,0,0,3,0,2,2,0,3,3,2,1,3,1,2,1,1,0,1,1,0,2,4,0,3,3,3,1,1,1,4,2,1,2,2,0,3,4,3,4,2,1,2,2,0,2,2,3,0,2,2,4,1,1,2,1,4,2,3,3,1,1,0,4,0,2,2,3,3,1,1,0,2,2,3,2,0,4,2,2,2,2,2,2,2,1,0,2,0,0,2,2,1,3,4,4,1,1,0,3,0,2,1,3,0,2,0,1,3,1,2,3,3,3,1,0,1,4,1,0,2,0,3,0,1,2,1,2,2,0,3,1,0,4,2,2,2,1,0,1,0,3,1,3,2,4,2,0,4,1,3,0,0,2,4,0,1,4,3,3,1,0,0,2,2,1,1,1,3,2,2,1,3,3,4,3,1,1,2,3,4,1,0,2,2,1,3,1,3,3,4,2,3,2,1,1,2,1,1,2,4,2,1,0,3,1,2,0,2,1,2,1,3,3,2,0,4,2,4,2,3,1,2,3,0,4,0,3,1,2,1,3,3,2,1,1,2,1,3,0,0,3,4,3,3,1,3,3,2,3,1,4,2,1,2,4,2,3,0,1,1,1,0,4,1,1,4,2,2,1,4,2,1,4,2,4,1,2,0,3,0,3,3,0,0,2,4,2,3,2,2,2,1,4,1,0,3,1,0,1,2,1,3,2,1,1,1,1,2,1,1,1,2,4,1,1,2,2,2,0,3,2,4,1,0,4,2,1,0,1,4,0,4,2,0,2,4,2,4,0,0,2,1,1,2,2,1,2,2,1,2,3,1,1,2,2,3,3,4,1,3,3,3,0,0,1,3,3,4,1,2,0,3,1,3,4,3,2,2,2,3,2,1,2,1,2,3,1,3,3,1,2,0,3,1,1,1,1,4,1,0,1,1,1,2,3,0,2,2,1,0,2,1,1,4,1,1,2,2,0,1,1,3,2,3,2,3,3,1,2,3,2,2,4,0,1,1,4,2,0,1,2,2,0,1,4,1,3,2,1,3,0,2,0,1,2,2,0,3,1,2,2,2,2,1,1,3,1,2,2,0,2,3,0,0,4,2,4,0,2,2,1,1,2,3,3,3,2,4,2,0,3,4,3,0,1,2,1,1,4,3,0,2,3,2,0,3,2,3,1,2,2,2,1,0,1,2,3,2,0,2,2,1,1,1,2,3,2,1,0,0,2,0,1,3,4,4,1,1,3,3,1,4,2,2,2,3,1,4,3,1,3,2,2,3,3,3,2,1,1,3,2,1,2,2,1,2,2,0,2,1,3,1,2,4,2,4,4,2,1,2,3,1,1,3,1,2,0,1,2,2,1,0,2,1,2,2,1,2,2,0,1,2,0,1,0,1,2,4,2,1,4,0,4,2,0,3,3,2,2,0,2,1,2,1,3,1,2,3,1,2,3,1,2,2,2,1,3,3,4,2,1,4,1,1,1,3,1,0,3,4,2,0,2,3,4,4,2,2,4,1,0,2,1,1,3,2,0,2,2,1,1,4,2,1,0,3,2,1,2,2,0,2,1,2,1,2,2,1,2,4,1,4,2,3,1,2,1,3,3,1,2,1,1,3,1,4,1,0,2,2,1,2,2,1,0,2,2,4,2,2,2,2,0,2,2,2,1,0,1,0,2,3,0,3,0,0,3,2,1,4,0,2,2,2,0,3,0,1,1,0,0,0,1,1,1,1,2,1,4,2,3,1,0,2,3,1,3,3,1,4,2,4,2,2,4,3,1,1,2,3,1,1,3,1,2,3,3,4,0,2,1,2,4,0,3,2,1,0,0,1,2,2,1,1,4,0,1,2,0,1,1,2,2,4,1,2,1,1,2,4,2,3,3,3,3,1,3,1,3,4,2,0,3,4,1,0,1,4,2,0,3,0,0,1,4,3,1,1,2,3,0,1,3,1,1,2,2,1,0,3,1,0,2,2,1,3,4,2,0,1,3,2,0,3,1,4,3,3,2,1,2,3,3,4,1,0,2,1,2,1,3,2,0,0,3,1,3,4,2,0,3,3,3,3,1,1,3,2,2,2,3,1,0,1,1,0,1,4,3,4,2,3,1,1,2,1,0,2,2,1,3,2,2,1,4,1,1,2,1,1,3,1,2,4,2,2,0,1,1,3,1,0,2,2,1,1,4,2,0,2,1,3,1,1,0,2,0,2,1,1,2,0,3,2,3,1,1,4,1,2,2,2,1,3,0,0,0,0,3,2,3,1,3,1,0,2,1,2,1,0,3,0,3,2,3,3,1,2,3,2,3,3,4,1,1,2,0,1,3,2,2,1,1,3,4,1,2,1,3,2,0,0,1,4,0,1,2,3,1,1,3,3,0,2,1,1,1,1,1,2,0,3,2,3,2,3,1,3,2,2,3,2,1,1,2,2,3,0,4,3,4,3,2,1,3,2,4,4,2,1,0,2,3,2,0,1,1,2,0,4,2,2,1,0,2,0,2,2,0,0,4,0,2,3,1,1,3,1,1,1,0,3,1,3,1,2,1,4,1,4,1,3,4,2,1,2,4,0,1,0,2,3,3,2,4,2,0,2,3,2,1,1,0,1,1,3,2,2,2,2,1,2,2,2,2,3,0,2,2,2,2,1,2,3,1,3,3,0,1,2,1,2,3,2,3,3,1,0,3,3,4,1,0,3,3,2,2,2,1,4,2,2,2,3,3,0,2,0,1,2,1,2,1,4,2,1,1,2,1,0,2,1,3,4,0,2,1,2,0,4,4,2,1,2,2,1,2,1,4,1,2,1,3,2,3,3,0,1,1,1,1,2,1,0,0,0,1,3,2,2,4,0,4,1,2,1,3,2,2,4,1,0,4,2,2,3,2,1,3,2,2,1,0,2,1,3,0,3,2,1,1,3,1,2,0,1,2,0,2,0,1,1,3,3,4,3,1,1,1,1,4,0,1,1,3,3,2,1,3,4,4,1,1,2,0,1,1,1,2,1,0,0,3,4,1,0,1,2,1,3,2,2,2,0,1,2,1,2,2,2,1,4,3,2,1,2,1,2,1,2,3,4,1,1,2,2,3,2,1,2,2,1,0,3,3,1,1,1,4,2,0,0,0,1,2,4,2,3,3,3,1,0,2,3,3,1,1,3,2,3,2,3,2,3,2,0,1,3,4,3,2,1,1,0,0,2,3,2,1,3,0,2,1,2,2,2,2,3,0,1,2,3,2,1,1,3,3,2,1,3,2,4,1,2,1,3,2,2,0,2,0,2,2,0,0,2,2,0,1,0,3,1,1,2,4,3,1,2,2,2,1,0,1,0,2,2,3,1,1,1,1,1,1,0,1,4,0,2,2,0,0,2,1,1,2,2,1,1,3,0,2,2,2,2,3,2,3,2,2,1,3,0,2,4,3,4,3,0,2,1,0,0,4,1,3,0,0,1,0,1,2,4,1,2,0,4,1,0,2,3,2,1,1,2,2,2,1,2,1,2,1,1,0,2,2,3,3,1,0,3,2,2,3,1,2,4,0,2,3,2,1,2,1,4,1,2,3,2,0,0,3,3,1,0,0,1,3,1,2,3,2,2,2,4,1,3,2,2,0,1,1,2,3,2,2,0,2,3,1,1,1,3,3,2,0,0,4,2,0,0,3,0,1,0,2,3,3,1,0,4,2,4,1,0,2,0,1,3,2,1,2,1,0,1,2,3,4,2,0,2,1,3,3,2,1,0,3,3,2,2,3,4,0,0,2,0,1,1,1,3,1,0,4,1,1,1,2,4,2,3,1,3,2,2,0,2,0,3,1,0,4,3,2,1,2,1,3,1,2,2,4,2,0,1,1,3,3,3,2,2,1,0,0,0,2,2,2,2,1,1,0,2,3,3,2,1,2,1,2,1,0,4,2,1,1,4,1,3,4,2,0,4,1,2,2,2,4,1,2,2,3,4,0,4,0,1,2,2,2,1,1,1,1,1,1,1,1,4,3,3,3,1,1,1,1,1,0,2,0,2,3,2,1,1,0,2,1,4,4,1,0,2,1,1,1,1,3,3,4,0,2,4,0,3,1,2,1,2,4,0,1,1,1,2,1,3,2,0,0,1,3,2,2,2,4,3,2,2,1,1,3,1,3,4,2,1,4,2,0,2,1,2,2,2,1,2,0,2,0,1,2,3,1,2,2,0,0,2,2,4,2,0,2,1,2,2,2,3,0,0,4,1,4,1,1,1,0,2,4,0,2,3,1,1,1,2,2,2,1,3,2,0,0,1,4,1,2,3,0,0,3,3,2,1,2,4,2,2,3,2,2,3,0,4,1,3,1,4,3,2,0,4,2,4,1,1,4,3,2,0,2,3,0,3,2,2,1,3,1,2,3,4,2,1,3,1,2,3,1,1,4,3,1,1,1,2,2,1,2,2,3,3,2,2,2,1,1,4,4,1,3,0,3,2,3,0,2,0,0,0,1,3,2,3,2,0,2,2,4,0,3,1,1,3,3,4,2,2,3,3,2,3,2,3,3,2,1,2,1,0,4,3,0,0,4,2,2,1,2,3,1,1,2,1,2,1,1,3,1,2,2,3,1,2,0,1,1,1,2,2,1,3,2,1,1,0,1,2,0,3,2,0,2,2,0,4,2,1,4,4,1,0,0,3,3,4,4,1,2,4,4,2,2,4,1,2,4,0,2,2,1,1,2,4,0,3,3,1,2,4,1,4,2,3,1,3,3,1,3,2,3,0,1,3,1,0,1,0,3,0,2,4,3,1,2,1,1,2,2,2,1,2,0,1,1,3,4,1,3,2,1,1,0,1,0,2,0,2,1,0,1,4,0,0,0,1,3,0,2,2,3,3,1,0,3,1,4,2,2,3,1,0,4,1,0,3,0,1,2,0,1,4,1,0,1,1,3,2,2,3,1,1,2,3,1,3,2,1,4,2,1,4,0,0,2,3,2,4,2,2,2,3,2,4,2,1,2,2,3,2,2,3,2,2,2,0,1,2,2,2,2,3,3,0,0,2,1,2,1,2,2,3,4,0,2,3,1,1,4,1,1,1,0,2,0,1,1,3,2,2,3,0,1,1,1,3,4,2,1,1,1,2,2,2,2,2,3,2,1,2,1,3,1,3,0,0,3,1,4,2,0,3,2,3,1,3,2,3,4,2,4,2,0,2,0,1,1,1,1,1,2,3,2,1,1,1,2,1,4,3,1,4,3,1,0,4,1,3,3,3,2,0,2,0,2,3,4,1,2,1,1,1,3,3,1,4,0,3,2,2,3,4,4,4,0,2,1,4,3,0,2,2,3,1,0,0,3,2,3,1,0,2,2,1,3,1,1,1,2,2,4,0,2,2,3,0,4,1,1,4,3,0,2,1,2,3,2,1,0,4,2,0,1,2,0,0,1,0,2,2,2,2,1,0,1,1,4,1,3,2,2,1,0,3,3,0,0,2,1,3,2,3,0,0,1,1,1,0,3,3,2,4,3,3,2,4,2,1,1,1,1,2,1,3,0,1,3,3,1,1,3,2,0,4,3,0,4,0,2,4,1,1,4,1,2,1,3,1,1,2,1,0,0,0,3,2,3,4,1,0,4,0,1,1,1,1,1,2,4,2,0,2,2,2,2,1,2,1,2,2,1,2,1,1,1,1,1,0,2,2,2,3,1,2,2,3,2,2,0,3,0,1,1,4,2,0,2,0,1,1,1,3,4,4,0,1,1,3,3,2,1,3,2,1,2,1,3,2,4,0,2,4,0,3,1,4,3,0,2,2,1,3,4,0,0,2,2,1,2,1,2,1,2,2,2,2,0,2,2,4,2,3,2,3,1,2,2,2,3,3,3,3,0,2,1,2,1,0,0,1,1,0,2,2,0,3,1,1,2,2,2,0,4,2,3,1,2,1,3,2,2,2,3,3,1,0,0,1,3,0,1,0,3,4,1,4,1,1,1,1,1,1,4,3,3,2,1,2,1,1,0,2,4,1,1,0,4,3,2,2,0,0,0,4,2,1,2,2,1,1,1,1,2,2,1,2,2,2,1,0,2,0,3,0,1,4,1,2,0,3,1,3,2,1,3,1,2,4,4,2,1,1,1,1,1,2,1,3,1,1,1,1,1,1,0,3,2,2,0,0,2,4,1,2,1,1,1,1,4,4,0,4,1,1,1,0,1,1,2,0,4,1,0,2,0,1,2,1,2,0,3,4,3,1,1,1,2,0,4,1,2,1,3,1,2,1,0,2,2,1,3,2,1,0,3,3,2,0,1,2,1,4,3,3,4,0,2,4,3,1,4,2,2,3,3,1,3,0,2,3,2,3,4,3,4,1,2,0,1,3,2,1,3,0,2,2,1,3,3,2,1,1,1,1,2,0,1,0,0,3,4,2,1,3,0,1,2,3,4,4,1,2,1,2,2,4,1,3,0,4,2,1,2,4,1,1,2,3,2,2,3,2,1,1,1,3,3,1,4,1,2,3,1,1,3,0,3,4,2,2,2,2,1,4,3,1,2,1,1,2,1,4,2,3,0,0,0,3,3,1,3,3,1,2,3,2,2,0,1,2,1,1,3,3,2,4,0,2,0,1,4,1,2,1,2,3,2,2,1,2,3,1,4,3,1,0,2,2,1,2,4,3,2,4,1,1,4,3,1,3,2,2,4,4,2,2,3,0,0,0,3,1,3,2,0,3,2,2,2,1,1,1,3,1,2,0,0,1,4,4,4,2,0,1,3,0,2,1,0,1,0,3,1,0,2,2,1,4,1,1,2,3,3,4,1,0,2,1,1,1,1,0,1,3,1,0,2,0,3,3,1,2,2,2,2,1,2,2,2,1,2,1,0,0,0,1,0,1,0,0,4,3,0,4,1,1,0,2,2,4,0,1,0,1,0,1,0,0,4,4,1,1,2,0,1,1,2,2,2,2,1,2,3,1,1,2,4,2,1,3,1,0,2,1,2,3,3,2,1,2,3,2,1,3,2,3,0,4,0,0,1,3,0,2,2,2,0,2,1,1,2,2,3,0,0,1,1,1,1,2,1,0,0,2,3,2,1,4,0,1,2,1,1,4,1,2,1,1,1,0,1,1,1,0,3,2,3,1,1,2,1,3,0,1,2,2,2,1,2,1,3,2,2,0,1,4,2,4,1,3,0,3,3,4,2,3,0,2,2,2,2,1,2,1,3,4,4,4,1,3,1,2,1,3,1,2,1,0,3,1,3,1,1,3,1,1,1,1,1,2,2,1,0,1,2,0,1,1,1,3,3,1,1,1,2,2,2,2,1,3,4,4,2,2,1,2,3,2,1,1,1,1,2,3,3,1,2,1,1,3,3,0,1,4,1,3,3,2,1,1,1,1,2,0,1,1,0,1,2,1,1,2,3,1,1,1,2,0,0,2,2,1,2,0,2,1,0,4,3,2,4,4,3,1,1,0,0,4,3,1,3,2,0,3,2,4,1,4,1,1,3,0,4,1,3,1,2,1,4,2,0,4,3,3,0,1,3,3,1,2,3,4,1,2,1,2,2,2,2,2,0,0,2,0,0,3,4,1,2,3,4,0,0,2,3,1,1,0,1,0,2,0,1,2,3,0,1,2,2,1,2,0,3,1,1,3,1,2,1,1,3,2,2,2,3,0,4,2,2,2,1,2,2,0,4,0,1,4,1,0,4,2,2,1,1,3,3,2,3,0,2,1,0,1,1,2,1,2,2,0,0,1,2,2,2,0,3,0,2,3,1,3,1,1,4,4,0,4,2,1,4,0,2,1,0,4,2,0,4,2,2,1,2,4,3,2,1,4,2,4,1,3,3,1,2,3,0,2,2,0,1,0,0,3,2,2,1,2,1,4,1,0,2,2,3,4,2,1,3,0,1,4,3,1,3,1,2,2,2,4,4,2,1,4,2,1,4,1,1,2,1,0,1,3,2,1,4,2,1,4,2,3,0,3,2,4,4,1,3,1,0,1,3,1,1,0,2,1,1,1,0,0,2,3,0,2,2,0,1,2,1,2,0,3,3,1,4,0,2,0,2,2,2,3,4,3,0,2,1,1,0,3,1,2,2,3,3,0,2,0,2,2,4,2,1,1,1,2,1,1,3,0,1,2,2,2,2,1,1,2,3,1,1,0,0,1,3,3,0,2,2,1,2,0,2,2,0,4,2,1,1,4,2,4,2,0,1,0,1,2,3,2,3,2,1,1,2,2,4,3,2,4,2,1,2,0,0,1,2,2,1,0,1,1,1,2,0,2,2,4,1,4,2,2,3,1,1,3,1,1,1,1,1,0,2,1,2,2,2,0,3,1,2,3,1,2,1,3,2,0,3,3,2,0,4,0,0,2,2,2,2,3,2,0,0,4,1,1,2,1,2,4,1,1,2,2,2,0,4,0,2,2,4,0,4,1,0,1,3,3,0,4,3,2,2,3,2,4,0,2,1,2,0,3,1,4,1,2,1,2,2,1,2,2,0,1,1,2,1,4,4,3,2,3,4,0,4,2,0,4,1,2,4,0,0,2,1,1,2,1,0,2,2,3,2,2,1,0,3,2,3,2,1,2,4,0,1,1,1,3,2,3,1,2,1,0,1,3,4,2,0,3,4,3,1,2,3,2,3,3,1,3,3,2,0,1,1,0,2,1,1,2,1,1,2,1,4,3,4,2,2,3,0,2,3,4,3,2,3,3,3,0,1,3,1,3,0,0,0,3,1,1,1,3,1,1,3,0,3,4,0,3,1,1,3,1,3,2,1,0,1,4,4,4,2,4,0,1,4,4,0,1,1,1,1,1,4,0,1,0,4,2,4,2,3,2,3,3,1,0,2,3,3,1,3,0,0,2,2,1,0,2,1,4,0,2,0,0,1,0,1,0,4,1,1,3,4,2,2,1,3,2,2,3,0,0,2,3,4,0,3,4,3,1,2,2,0,1,1,1,3,2,2,3,1,1,1,1,3,2,1,1,2,0,0,1,3,2,4,4,4,2,1,2,2,3,3,1,4,0,0,1,0,2,2,1,4,1,3,3,2,0,1,0,0,3,0,3,2,2,3,4,4,3,1,2,4,0,0,1,0,2,1,1,2,1,1,1,1,0,2,3,1,2,0,3,2,2,2,2,2,3,1,3,2,0,0,1,1,2,1,4,0,2,2,3,2,2,3,1,0,2,4,4,3,2,2,3,1,3,3,4,3,1,2,4,1,2,1,3,2,1,2,4,3,2,3,1,0,0,1,0,2,2,2,2,1,0,1,1,1,2,0,2,2,2,2,3,1,2,1,4,1,3,2,2,4,4,3,3,1,1,4,4,1,1,3,1,2,1,2,3,2,4,2,3,1,0,1,4,1,3,3,3,2,0,2,4,2,2,1,1,1,2,2,1,1,1,1,3,2,3,2,0,4,3,1,2,3,1,0,2,1,0,0,1,0,2,2,4,1,0,2,4,0,3,1,0,2,3,3,4,1,0,3,0,0,3,0,2,0,3,1,1,2,2,1,1,1,2,2,2,1,1,1,1,4,2,1,3,4,3,0,2,1,1,2,2,2,2,1,3,3,0,4,1,1,1,1,0,2,1,2,1,3,1,3,1,2,2,1,2,2,1,0,2,2,2,4,0,1,4,1,1,2,1,3,2,2,1,3,3,2,1,2,4,0,2,1,0,1,3,1,4,3,1,1,0,1,1,3,0,3,3,1,4,2,0,1,2,1,0,2,1,2,4,2,2,0,1,0,1,2,3,1,0,3,2,1,3,1,2,1,4,3,0,2,2,3,4,2,1,1,4,2,1,1,2,4,2,2,2,1,2,1,3,2,2,2,2,2,3,3,2,3,2,1,0,4,2,0,2,1,4,0,3,3,3,2,4,2,4,4,2,0,1,2,2,2,3,3,4,3,2,4,4,0,2,2,3,4,1,0,4,4,4,1,0,3,0,1,3,0,3,2,1,0,3,2,2,1,1,3,3,1,1,2,2,1,1,3,2,3,4,2,0,0,0,1,4,1,2,3,0,2,3,2,0,1,1,3,1,4,2,4,2,3,0,0,2,3,2,2,1,2,3,1,1,3,0,3,0,1,2,1,1,4,4,3,0,2,0,1,3,1,3,2,1,1,0,4,2,2,2,4,4,4,2,0,2,1,0,1,1,2,1,0,3,2,0,0,1,2,4,1,1,2,2,0,0,2,1,1,1,2,1,1,1,4,0,1,2,0,2,3,0,2,2,1,1,2,1,3,2,2,0,1,2,3,3,2,4,3,1,2,4,2,3,4,1,3,3,3,0,1,2,2,3,1,1,1,2,0,2,2,2,2,1,2,2,2,1,4,2,1,2,1,2,0,0,2,0,2,1,0,2,3,4,0,1,1,4,1,2,3,3,1,2,1,3,1,1,2,2,0,1,0,1,4,2,0,2,1,1,2,1,2,3,0,2,3,0,0,1,1,0,2,2,1,2,1,2,2,4,3,0,2,1,0,1,2,1,1,0,1,0,3,3,0,0,3,0,2,2,3,2,4,2,1,2,3,3,3,2,2,1,2,1,0,4,0,0,2,3,0,3,1,1,4,4,3,2,1,1,2,3,2,2,1,1,4,2,4,2,0,2,4,0,2,3,3,0,3,1,0,3,1,2,0,2,0,1,1,1,2,3,3,1,2,3,2,3,3,1,2,2,3,3,1,0,2,4,0,2,1,0,0,2,1,4,1,3,3,2,1,1,2,1,3,1,1,4,1,2,1,1,1,0,3,4,0,1,3,3,0,2,3,2,0,1,1,1,1,2,4,0,3,4,1,1,2,2,1,4,0,3,2,1,0,3,2,0,3,4,1,2,2,0,0,0,0,0,0,2,1,4,3,3,1,1,3,1,1,1,0,3,0,0,2,1,2,3,4,2,3,1,4,3,2,3,1,3,3,4,3,2,3,3,2,1,4,2,2,1,1,2,1,3,1,1,2,1,3,1,3,2,2,1,2,2,4,1,4,3,3,4,1,1,4,2,1,4,1,2,3,2,0,3,2,3,2,0,1,2,1,3,1,1,2,3,1,0,1,0,1,2,3,3,4,3,3,3,2,2,1,1,2,3,2,1,2,3,4,1,2,4,1,3,2,1,0,1,0,1,2,0,2,0,3,4,2,1,3,3,2,2,1,3,1,1,2,2,1,3,0,3,1,3,1,0,0,3,3,1,2,2,2,3,1,3,2,3,3,2,1,1,4,0,2,2,4,1,1,1,2,2,2,3,2,3,2,4,2,2,1,4,2,2,0,0,1,0,2,1,2,0,1,2,3,2,2,2,3,0,1,2,2,0,0,3,1,1,4,3,1,1,1,1,3,3,4,3,1,2,1,2,0,1,2,1,3,1,1,0,4,1,2,4,0,0,2,3,1,2,1,0,1,4,0,3,1,2,2,2,0,2,3,3,1,3,1,3,3,0,4,0,4,3,3,4,1,1,1,1,0,3,3,2,1,4,0,2,4,0,2,1,3,2,2,2,2,1,3,1,0,1,1,2,0,0,2,2,3,1,0,1,1,0,1,1,2,3,2,4,0,1,3,3,4,4,3,0,1,2,1,0,0,2,1,3,3,2,2,0,0,2,4,2,1,2,3,4,2,1,2,3,3,3,4,1,2,2,3,3,2,1,2,0,2,3,2,2,4,1,3,3,1,2,4,0,2,2,2,2,0,2,4,2,1,2,0,1,1,4,0,1,2,0,2,3,1,1,1,0,1,1,3,1,1,3,1,2,0,2,1,1,0,3,2,3,4,0,1,1,2,3,2,1,2,1,2,3,2,3,0,2,1,3,2,2,2,1,1,2,2,2,3,0,0,1,2,3,2,2,2,1,4,2,1,1,0,3,3,2,2,0,4,2,1,1,1,2,1,3,3,1,3,3,3,1,2,2,3,1,2,1,3,1,2,3,3,0,3,3,0,1,4,2,0,2,2,4,1,3,1,2,2,3,1,2,1,0,2,1,0,1,1,2,3,2,1,4,4,1,2,2,1,0,3,4,1,4,3,2,0,0,3,1,1,1,0,1,2,3,3,1,0,1,0,1,4,3,4,2,4,4,0,1,2,1,1,2,0,2,3,2,2,2,1,1,3,1,2,0,2,0,2,2,3,1,1,2,3,3,3,1,3,2,2,2,2,3,0,3,0,2,3,1,2,2,2,3,0,1,1,2,0,1,1,3,4,0,2,0,2,3,2,2,1,1,1,3,1,2,2,2,1,2,1,4,4,1,2,2,1,2,1,0,0,2,2,3,2,2,3,4,3,2,3,2,1,2,3,3,2,2,2,2,1,3,1,3,0,0,2,2,2,0,4,3,1,3,0,3,1,1,0,1,4,1,2,1,1,2,1,1,1,2,1,2,1,0,0,3,0,2,4,1,1,1,2,4,3,1,0,0,2,0,2,2,2,0,0,2,4,1,1,2,2,0,0,2,2,0,3,2,2,2,3,3,1,1,1,1,0,0,2,2,0,2,1,3,4,2,1,1,3,2,3,2,1,1,3,1,3,2,0,1,4,1,4,0,3,2,3,2,0,0,1,3,3,2,2,3,1,4,2,1,3,0,3,1,1,2,2,2,3,1,2,0,2,0,0,3,1,0,3,4,0,3,2,2,2,1,1,1,2,2,3,0,1,2,1,1,0,3,2,0,1,1,3,2,0,1,2,3,2,0,1,1,3,1,3,3,2,1,2,3,3,4,3,2,3,3,0,1,1,3,2,1,2,0,2,3,0,3,1,3,2,1,1,3,2,0,2,1,2,2,0,2,4,2,2,1,1,3,1,0,3,0,2,0,4,1,2,1,1,1,4,4,3,1,2,1,2,1,0,0,1,1,3,3,2,2,4,0,1,2,4,1,1,0,3,2,3,4,2,2,3,2,3,0,2,0,2,0,2,1,2,4,1,4,0,0,4,2,1,1,1,1,3,3,1,3,3,1,3,3,3,1,0,2,1,1,2,2,1,1,1,4,3,2,2,0,2,1,2,0,1,2,1,1,3,3,1,3,3,1,1,3,2,2,3,2,1,2,2,2,2,0,2,3,3,4,1,4,2,2,3,4,1,4,1,1,2,2,1,0,4,0,3,3,2,1,1,0,4,2,3,2,4,3,2,1,2,4,1,4,2,2,1,1,1,1,4,3,2,1,2,0,1,3,1,1,2,2,1,4,0,1,1,2,3,2,2,0,1,3,4,1,4,2,2,2,4,3,1,1,1,1,2,1,4,2,2,3,0,2,2,3,4,0,2,1,2,0,1,3,3,0,1,3,3,1,1,2,2,0,0,3,1,0,3,2,3,0,1,3,1,0,0,3,1,2,4,3,2,3,2,3,2,2,1,1,0,1,1,0,3,2,3,1,1,2,3,2,0,4,2,3,1,4,2,0,2,3,4,2,0,2,4,1,2,2,0,0,2,2,1,0,4,1,0,1,2,1,2,1,0,4,2,2,2,1,2,3,0,1,1,2,1,3,0,0,1,2,2,2,1,0,0,1,0,2,2,1,1,3,2,1,0,0,1,0,0,2,1,2,2,1,1,0,4,2,2,3,1,1,1,2,2,3,0,0,1,2,2,2,1,1,1,4,2,1,4,2,1,0,3,3,2,4,0,4,3,0,2,0,3,1,1,4,3,3,4,4,2,1,1,2,0,4,0,1,2,3,3,1,1,1,4,1,1,2,2,0,1,2,4,0,0,0,1,2,3,3,2,1,0,1,2,2,1,4,0,4,1,3,1,4,4,0,3,2,3,0,2,4,1,0,2,0,0,4,3,4,0,3,3,2,2,2,1,2,1,2,2,2,2,2,4,3,2,2,3,1,1,1,1,2,0,2,2,4,2,2,2,1,0,2,0,2,0,0,4,2,1,1,3,0,4,2,1,3,1,0,3,2,0,2,3,1,2,2,1,2,2,0,1,2,1,2,0,0,3,1,2,1,2,1,1,0,1,1,2,1,0,4,1,1,1,1,3,1,1,2,1,2,3,2,0,2,2,4,2,0,0,0,1,3,3,1,2,3,0,2,2,1,1,0,2,0,2,2,3,0,2,1,2,3,4,3,3,0,4,1,3,1,3,0,3,1,1,3,1,2,1,0,0,0,4,2,0,1,1,3,1,4,0,2,0,2,1,0,2,2,3,4,1,3,1,4,3,2,1,0,2,3,2,2,2,0,4,1,3,4,2,1,1,1,4,1,4,3,1,2,2,2,3,2,2,2,1,1,1,0,3,2,4,3,0,1,2,4,2,3,2,0,3,2,2,4,1,2,3,2,3,1,1,2,2,2,2,3,2,1,2,0,4,0,0,2,2,1,2,2,1,0,1,1,3,1,3,3,2,1,2,4,0,1,2,2,1,2,3,1,3,1,0,0,0,2,2,3,3,2,2,1,4,0,2,2,0,3,3,3,4,1,1,1,3,1,2,3,4,2,3,1,1,2,4,2,2,2,1,1,1,1,3,1,0,2,1,2,4,0,1,2,3,2,0,2,0,3,2,2,2,1,2,1,2,1,2,1,3,2,1,2,0,1,3,3,1,2,3,2,2,3,3,4,2,1,2,0,2,0,3,0,2,4,3,1,1,0,3,1,3,4,1,1,0,2,2,2,2,3,2,2,3,1,1,1,1,1,1,2,1,1,2,4,1,4,1,2,0,4,2,4,1,2,1,4,0,3,2,2,1,2,0,3,2,2,0,2,0,4,1,0,4,2,2,1,1,1,2,0,4,0,3,2,1,1,1,2,0,3,2,0,3,2,1,2,3,2,0,3,4,1,2,2,0,3,3,1,2,1,4,0,0,2,1,3,3,2,0,0,2,2,2,4,1,1,2,2,1,0,1,3,0,2,2,2,1,3,0,2,1,3,2,4,1,0,0,1,2,2,4,1,3,1,2,2,3,0,1,2,1,3,1,1,0,2,1,1,0,0,2,2,4,1,2,3,2,1,2,3,1,2,4,3,1,1,1,2,2,2,2,0,2,3,2,0,1,3,1,4,4,2,3,0,1,2,1,1,3,3,2,2,1,2,2,3,3,1,0,2,4,0,1,2,3,1,0,2,3,1,3,1,1,2,1,1,4,2,2,1,2,4,1,2,1,2,3,4,0,0,1,1,2,1,2,2,2,0,2,3,2,0,2,2,1,1,2,3,3,2,2,3,1,2,2,0,0,1,3,3,3,3,1,3,0,1,3,1,4,1,3,0,2,2,4,2,2,2,4,3,0,3,2,1,3,2,0,1,2,2,3,2,3,1,1,1,4,2,1,2,3,4,4,3,3,2,2,3,2,4,0,0,4,4,4,2,0,3,4,2,2,2,2,1,3,1,2,3,3,2,0,1,1,3,0,1,3,0,0,3,1,2,1,1,0,1,1,2,3,0,0,1,1,3,2,0,2,0,1,2,3,4,2,1,0,3,0,1,1,2,2,1,3,4,1,3,1,2,3,1,0,2,2,2,0,4,3,1,4,2,2,2,2,1,1,1,3,2,2,2,0,2,0,2,3,4,1,2,0,3,2,1,2,2,2,4,2,1,2,0,2,1,1,3,3,1,2,1,3,4,0,2,1,2,2,2,0,3,4,3,3,2,0,0,0,3,0,2,1,1,3,2,1,1,4,1,1,2,0,3,2,2,2,3,0,2,2,1,2,1,0,2,2,1,3,4,1,1,0,0,1,0,4,2,3,1,1,3,2,2,2,1,2,3,3,4,2,0,0,0,2,1,3,2,0,1,3,2,3,4,1,0,3,1,0,3,3,2,2,0,3,0,4,2,2,3,2,3,4,4,1,4,3,1,0,1,2,3,4,3,3,1,3,4,4,2,1,2,3,2,0,2,2,2,2,0,2,3,1,1,1,0,2,2,1,2,2,3,1,2,2,2,0,1,4,2,1,2,4,3,0,1,2,4,1,2,2,3,4,1,0,2,2,2,2,1,4,3,2,0,1,2,3,2,2,3,0,2,3,1,1,0,2,4,3,2,0,1,3,4,3,3,1,1,0,2,1,4,3,0,4,4,1,0,3,2,1,2,2,3,2,3,1,1,2,3,1,3,2,0,3,1,3,0,2,2,1,1,1,2,3,4,1,3,1,2,1,0,1,3,1,4,4,1,2,0,2,2,1,0,2,1,1,1,0,3,0,3,1,3,3,1,2,4,0,3,1,1,1,0,4,4,0,1,0,1,1,0,2,2,2,0,0,0,1,1,4,1,0,4,2,1,4,2,1,1,1,1,3,1,2,2,1,3,4,0,4,1,1,0,1,3,1,4,4,2,4,3,2,3,4,1,1,1,1,4,0,1,4,4,1,2,2,2,4,1,3,0,2,4,1,3,3,1,0,1,1,2,1,0,1,1,4,2,3,3,1,2,3,2,0,2,2,3,0,2,3,3,4,4,4,0,2,1,3,0,2,4,3,1,3,2,4,3,0,4,2,2,3,3,1,3,3,0,2,3,1,4,1,4,0,1,1,4,4,2,1,2,3,0,1,1,0,0,2,0,3,3,1,0,3,2,2,3,0,1,1,2,3,2,0,4,0,2,4,1,3,4,2,2,3,0,3,1,2,2,3,0,1,4,1,1,0,3,0,2,1,4,1,4,0,4,0,0,3,2,3,4,2,1,1,0,3,1,1,3,3,1,3,0,4,2,1,2,1,0,3,2,3,1,3,2,1,4,1,1,2,2,3,2,4,3,1,1,1,1,2,3,4,2,0,4,4,3,2,2,2,4,2,2,3,1,2,1,2,0,1,2,0,3,3,3,2,1,0,3,3,1,2,4,4,1,2,1,2,0,1,2,2,0,4,2,2,4,4,0,2,2,0,2,1,2,2,3,1,1,2,2,2,2,2,1,4,1,2,2,2,3,3,1,2,3,2,2,0,2,2,1,2,0,1,1,4,2,3,2,3,1,1,2,1,0,3,4,3,3,2,1,2,2,1,3,0,2,4,1,3,4,3,3,3,2,1,1,1,1,1,2,2,2,0,2,2,2,0,3,3,0,2,3,2,2,1,3,2,3,1,0,2,2,1,0,0,2,2,2,2,1,1,0,2,2,0,2,4,0,2,1,4,0,4,3,2,1,2,1,2,4,4,2,1,2,2,3,1,0,1,2,2,1,3,3,0,3,0,1,2,3,0,1,1,0,3,2,4,1,3,2,4,1,1,2,0,4,2,0,2,2,2,2,2,1,1,0,2,4,3,0,0,4,2,1,1,1,1,3,1,2,1,2,3,0,4,4,1,2,2,2,2,1,3,2,2,3,1,0,0,2,1,2,4,1,3,3,2,0,1,3,2,3,2,3,1,1,2,2,1,1,3,1,1,0,1,2,2,2,1,3,2,1,2,2,1,0,0,2,2,1,2,2,0,1,2,2,1,1,2,1,4,1,0,3,3,1,4,4,3,1,0,1,1,2,4,3,1,2,0,1,4,1,4,3,1,1,2,0,3,3,1,1,3,2,2,2,1,2,2,3,2,1,4,3,2,3,2,2,0,3,0,3,4,2,2,3,4,0,0,1,1,3,2,3,0,0,1,1,0,2,1,4,1,3,2,2,4,1,1,1,2,2,2,3,1,2,3,3,0,2,2,2,3,3,1,2,1,1,1,3,3,3,1,0,3,1,1,1,2,2,1,2,1,0,4,0,2,2,1,1,1,0,1,3,1,1,1,0,0,3,2,2,1,2,3,1,2,3,1,2,3,2,1,2,2,1,3,1,3,1,2,2,1,3,2,2,3,2,2,4,2,0,2,3,2,1,2,3,4,2,4,1,0,1,2,1,1,1,3,3,3,1,2,1,4,3,1,4,3,1,1,3,1,4,1,0,1,2,3,1,0,2,3,3,3,2,1,1,1,1,3,2,1,2,1,0,3,1,1,0,2,2,3,2,3,0,1,2,2,2,1,3,1,0,1,0,2,0,2,4,4,3,2,1,3,2,0,2,1,0,4,2,1,1,0,1,3,1,3,1,0,4,2,0,1,1,1,2,2,1,1,2,1,1,1,1,0,0,2,2,2,2,2,3,1,4,0,1,3,2,2,2,1,2,2,0,2,1,1,2,3,2,4,3,3,0,1,4,2,0,2,2,3,1,2,2,2,3,2,0,4,3,2,1,0,0,0,2,0,3,1,1,1,2,1,2,1,3,2,2,1,3,0,2,0,1,0,0,3,0,0,2,2,1,1,2,3,1,2,1,2,1,4,2,4,3,0,3,2,4,2,1,2,2,0,1,3,2,2,2,1,3,3,3,1,3,1,1,1,4,4,3,0,1,1,2,2,1,4,1,0,1,4,2,1,1,2,0,4,3,4,4,0,3,1,1,2,2,1,1,3,4,1,1,1,2,2,1,1,3,3,0,1,1,3,1,4,1,0,4,0,2,2,0,0,4,3,3,2,3,3,4,1,2,2,2,2,0,1,3,0,0,4,0,0,3,3,0,4,1,1,2,2,1,0,0,4,2,4,1,0,0,1,1,3,1,2,1,2,2,1,0,2,1,4,2,2,1,3,3,0,3,3,2,1,1,2,0,0,3,2,4,1,1,2,1,4,1,1,2,2,0,1,1,2,3,3,2,1,2,0,4,0,3,2,2,1,1,1,1,1,3,0,4,3,2,1,4,4,2,2,1,2,2,3,1,1,2,1,3,2,0,3,2,2,0,0,3,2,3,3,1,2,0,1,1,3,2,2,1,0,2,1,3,0,0,1,2,0,1,1,3,2,3,1,1,3,1,1,0,1,1,1,2,3,4,3,3,3,1,2,2,2,2,2,1,0,4,3,3,1,1,1,4,3,2,2,4,3,0,4,2,0,3,0,1,0,2,4,2,3,2,2,2,4,2,2,4,4,1,4,2,2,3,3,0,3,3,3,1,1,2,1,0,3,2,1,2,2,2,4,1,1,0,1,4,1,3,1,2,1,1,2,1,1,4,0,0,1,2,0,0,0,1,2,0,2,2,1,2,1,1,2,2,4,1,1,1,4,2,2,0,1,1,4,4,3,4,0,3,3,2,2,2,1,0,1,0,2,3,0,2,2,2,0,2,2,2,2,2,1,0,3,1,1,0,1,3,4,1,1,2,4,2,2,2,3,0,1,3,1,4,0,2,1,4,1,1,1,0,3,2,1,0,0,0,3,2,0,3,4,4,1,4,2,2,2,3,2,3,3,0,1,2,2,1,0,1,0,0,2,1,0,3,1,2,3,3,3,0,2,0,4,1,1,0,3,4,1,1,2,2,1,1,3,4,1,1,2,1,1,2,2,1,2,1,1,2,2,0,0,4,1,1,3,1,1,1,1,2,3,2,2,4,2,4,1,4,4,3,2,0,3,1,3,2,4,2,2,1,2,2,4,1,1,1,0,2,0,3,2,2,3,3,0,1,1,3,4,0,3,1,1,4,4,1,0,1,2,2,2,1,2,2,0,2,3,1,2,1,0,0,3,3,1,2,2,0,1,3,2,3,0,0,0,1,0,2,1,3,2,2,2,1,1,0,2,0,2,2,2,0,1,2,1,0,0,1,2,2,3,1,1,2,0,3,1,1,4,1,3,0,4,4,2,3,3,2,2,0,1,3,1,2,2,0,4,2,2,2,0,2,4,4,0,2,0,1,2,1,2,1,2,4,2,3,1,3,2,1,3,3,0,3,1,3,3,4,2,0,1,1,2,2,1,3,1,3,2,3,1,3,2,1,1,0,1,3,0,2,3,2,0,0,3,1,1,0,3,1,3,3,1,2,4,3,0,0,4,2,2,2,1,0,3,2,2,1,1,1,4,1,2,0,1,3,2,2,2,1,1,2,3,4,1,0,2,3,2,0,4,0,2,3,1,4,1,0,4,3,0,3,1,3,1,3,2,3,2,0,3,2,2,2,4,0,2,4,3,3,1,2,3,1,0,2,2,1,1,1,3,3,2,2,2,3,1,2,0,1,4,2,1,2,2,2,1,1,0,2,4,1,3,3,1,3,3,1,4,1,2,1,3,4,2,2,0,3,3,2,1,0,0,3,1,1,2,2,0,3,3,3,2,1,0,4,2,2,0,3,2,0,0,1,0,2,3,1,2,3,1,0,1,0,3,2,0,2,1,3,1,3,1,4,1,2,3,0,2,2,2,2,1,2,3,1,3,1,1,1,2,0,2,3,1,3,2,1,1,2,2,4,2,1,1,0,4,1,1,1,3],\"xaxis\":\"x\",\"yaxis\":\"y\",\"type\":\"histogram\"}],                        {\"template\":{\"data\":{\"bar\":[{\"error_x\":{\"color\":\"#2a3f5f\"},\"error_y\":{\"color\":\"#2a3f5f\"},\"marker\":{\"line\":{\"color\":\"#E5ECF6\",\"width\":0.5},\"pattern\":{\"fillmode\":\"overlay\",\"size\":10,\"solidity\":0.2}},\"type\":\"bar\"}],\"barpolar\":[{\"marker\":{\"line\":{\"color\":\"#E5ECF6\",\"width\":0.5},\"pattern\":{\"fillmode\":\"overlay\",\"size\":10,\"solidity\":0.2}},\"type\":\"barpolar\"}],\"carpet\":[{\"aaxis\":{\"endlinecolor\":\"#2a3f5f\",\"gridcolor\":\"white\",\"linecolor\":\"white\",\"minorgridcolor\":\"white\",\"startlinecolor\":\"#2a3f5f\"},\"baxis\":{\"endlinecolor\":\"#2a3f5f\",\"gridcolor\":\"white\",\"linecolor\":\"white\",\"minorgridcolor\":\"white\",\"startlinecolor\":\"#2a3f5f\"},\"type\":\"carpet\"}],\"choropleth\":[{\"colorbar\":{\"outlinewidth\":0,\"ticks\":\"\"},\"type\":\"choropleth\"}],\"contour\":[{\"colorbar\":{\"outlinewidth\":0,\"ticks\":\"\"},\"colorscale\":[[0.0,\"#0d0887\"],[0.1111111111111111,\"#46039f\"],[0.2222222222222222,\"#7201a8\"],[0.3333333333333333,\"#9c179e\"],[0.4444444444444444,\"#bd3786\"],[0.5555555555555556,\"#d8576b\"],[0.6666666666666666,\"#ed7953\"],[0.7777777777777778,\"#fb9f3a\"],[0.8888888888888888,\"#fdca26\"],[1.0,\"#f0f921\"]],\"type\":\"contour\"}],\"contourcarpet\":[{\"colorbar\":{\"outlinewidth\":0,\"ticks\":\"\"},\"type\":\"contourcarpet\"}],\"heatmap\":[{\"colorbar\":{\"outlinewidth\":0,\"ticks\":\"\"},\"colorscale\":[[0.0,\"#0d0887\"],[0.1111111111111111,\"#46039f\"],[0.2222222222222222,\"#7201a8\"],[0.3333333333333333,\"#9c179e\"],[0.4444444444444444,\"#bd3786\"],[0.5555555555555556,\"#d8576b\"],[0.6666666666666666,\"#ed7953\"],[0.7777777777777778,\"#fb9f3a\"],[0.8888888888888888,\"#fdca26\"],[1.0,\"#f0f921\"]],\"type\":\"heatmap\"}],\"heatmapgl\":[{\"colorbar\":{\"outlinewidth\":0,\"ticks\":\"\"},\"colorscale\":[[0.0,\"#0d0887\"],[0.1111111111111111,\"#46039f\"],[0.2222222222222222,\"#7201a8\"],[0.3333333333333333,\"#9c179e\"],[0.4444444444444444,\"#bd3786\"],[0.5555555555555556,\"#d8576b\"],[0.6666666666666666,\"#ed7953\"],[0.7777777777777778,\"#fb9f3a\"],[0.8888888888888888,\"#fdca26\"],[1.0,\"#f0f921\"]],\"type\":\"heatmapgl\"}],\"histogram\":[{\"marker\":{\"pattern\":{\"fillmode\":\"overlay\",\"size\":10,\"solidity\":0.2}},\"type\":\"histogram\"}],\"histogram2d\":[{\"colorbar\":{\"outlinewidth\":0,\"ticks\":\"\"},\"colorscale\":[[0.0,\"#0d0887\"],[0.1111111111111111,\"#46039f\"],[0.2222222222222222,\"#7201a8\"],[0.3333333333333333,\"#9c179e\"],[0.4444444444444444,\"#bd3786\"],[0.5555555555555556,\"#d8576b\"],[0.6666666666666666,\"#ed7953\"],[0.7777777777777778,\"#fb9f3a\"],[0.8888888888888888,\"#fdca26\"],[1.0,\"#f0f921\"]],\"type\":\"histogram2d\"}],\"histogram2dcontour\":[{\"colorbar\":{\"outlinewidth\":0,\"ticks\":\"\"},\"colorscale\":[[0.0,\"#0d0887\"],[0.1111111111111111,\"#46039f\"],[0.2222222222222222,\"#7201a8\"],[0.3333333333333333,\"#9c179e\"],[0.4444444444444444,\"#bd3786\"],[0.5555555555555556,\"#d8576b\"],[0.6666666666666666,\"#ed7953\"],[0.7777777777777778,\"#fb9f3a\"],[0.8888888888888888,\"#fdca26\"],[1.0,\"#f0f921\"]],\"type\":\"histogram2dcontour\"}],\"mesh3d\":[{\"colorbar\":{\"outlinewidth\":0,\"ticks\":\"\"},\"type\":\"mesh3d\"}],\"parcoords\":[{\"line\":{\"colorbar\":{\"outlinewidth\":0,\"ticks\":\"\"}},\"type\":\"parcoords\"}],\"pie\":[{\"automargin\":true,\"type\":\"pie\"}],\"scatter\":[{\"marker\":{\"colorbar\":{\"outlinewidth\":0,\"ticks\":\"\"}},\"type\":\"scatter\"}],\"scatter3d\":[{\"line\":{\"colorbar\":{\"outlinewidth\":0,\"ticks\":\"\"}},\"marker\":{\"colorbar\":{\"outlinewidth\":0,\"ticks\":\"\"}},\"type\":\"scatter3d\"}],\"scattercarpet\":[{\"marker\":{\"colorbar\":{\"outlinewidth\":0,\"ticks\":\"\"}},\"type\":\"scattercarpet\"}],\"scattergeo\":[{\"marker\":{\"colorbar\":{\"outlinewidth\":0,\"ticks\":\"\"}},\"type\":\"scattergeo\"}],\"scattergl\":[{\"marker\":{\"colorbar\":{\"outlinewidth\":0,\"ticks\":\"\"}},\"type\":\"scattergl\"}],\"scattermapbox\":[{\"marker\":{\"colorbar\":{\"outlinewidth\":0,\"ticks\":\"\"}},\"type\":\"scattermapbox\"}],\"scatterpolar\":[{\"marker\":{\"colorbar\":{\"outlinewidth\":0,\"ticks\":\"\"}},\"type\":\"scatterpolar\"}],\"scatterpolargl\":[{\"marker\":{\"colorbar\":{\"outlinewidth\":0,\"ticks\":\"\"}},\"type\":\"scatterpolargl\"}],\"scatterternary\":[{\"marker\":{\"colorbar\":{\"outlinewidth\":0,\"ticks\":\"\"}},\"type\":\"scatterternary\"}],\"surface\":[{\"colorbar\":{\"outlinewidth\":0,\"ticks\":\"\"},\"colorscale\":[[0.0,\"#0d0887\"],[0.1111111111111111,\"#46039f\"],[0.2222222222222222,\"#7201a8\"],[0.3333333333333333,\"#9c179e\"],[0.4444444444444444,\"#bd3786\"],[0.5555555555555556,\"#d8576b\"],[0.6666666666666666,\"#ed7953\"],[0.7777777777777778,\"#fb9f3a\"],[0.8888888888888888,\"#fdca26\"],[1.0,\"#f0f921\"]],\"type\":\"surface\"}],\"table\":[{\"cells\":{\"fill\":{\"color\":\"#EBF0F8\"},\"line\":{\"color\":\"white\"}},\"header\":{\"fill\":{\"color\":\"#C8D4E3\"},\"line\":{\"color\":\"white\"}},\"type\":\"table\"}]},\"layout\":{\"annotationdefaults\":{\"arrowcolor\":\"#2a3f5f\",\"arrowhead\":0,\"arrowwidth\":1},\"autotypenumbers\":\"strict\",\"coloraxis\":{\"colorbar\":{\"outlinewidth\":0,\"ticks\":\"\"}},\"colorscale\":{\"diverging\":[[0,\"#8e0152\"],[0.1,\"#c51b7d\"],[0.2,\"#de77ae\"],[0.3,\"#f1b6da\"],[0.4,\"#fde0ef\"],[0.5,\"#f7f7f7\"],[0.6,\"#e6f5d0\"],[0.7,\"#b8e186\"],[0.8,\"#7fbc41\"],[0.9,\"#4d9221\"],[1,\"#276419\"]],\"sequential\":[[0.0,\"#0d0887\"],[0.1111111111111111,\"#46039f\"],[0.2222222222222222,\"#7201a8\"],[0.3333333333333333,\"#9c179e\"],[0.4444444444444444,\"#bd3786\"],[0.5555555555555556,\"#d8576b\"],[0.6666666666666666,\"#ed7953\"],[0.7777777777777778,\"#fb9f3a\"],[0.8888888888888888,\"#fdca26\"],[1.0,\"#f0f921\"]],\"sequentialminus\":[[0.0,\"#0d0887\"],[0.1111111111111111,\"#46039f\"],[0.2222222222222222,\"#7201a8\"],[0.3333333333333333,\"#9c179e\"],[0.4444444444444444,\"#bd3786\"],[0.5555555555555556,\"#d8576b\"],[0.6666666666666666,\"#ed7953\"],[0.7777777777777778,\"#fb9f3a\"],[0.8888888888888888,\"#fdca26\"],[1.0,\"#f0f921\"]]},\"colorway\":[\"#636efa\",\"#EF553B\",\"#00cc96\",\"#ab63fa\",\"#FFA15A\",\"#19d3f3\",\"#FF6692\",\"#B6E880\",\"#FF97FF\",\"#FECB52\"],\"font\":{\"color\":\"#2a3f5f\"},\"geo\":{\"bgcolor\":\"white\",\"lakecolor\":\"white\",\"landcolor\":\"#E5ECF6\",\"showlakes\":true,\"showland\":true,\"subunitcolor\":\"white\"},\"hoverlabel\":{\"align\":\"left\"},\"hovermode\":\"closest\",\"mapbox\":{\"style\":\"light\"},\"paper_bgcolor\":\"white\",\"plot_bgcolor\":\"#E5ECF6\",\"polar\":{\"angularaxis\":{\"gridcolor\":\"white\",\"linecolor\":\"white\",\"ticks\":\"\"},\"bgcolor\":\"#E5ECF6\",\"radialaxis\":{\"gridcolor\":\"white\",\"linecolor\":\"white\",\"ticks\":\"\"}},\"scene\":{\"xaxis\":{\"backgroundcolor\":\"#E5ECF6\",\"gridcolor\":\"white\",\"gridwidth\":2,\"linecolor\":\"white\",\"showbackground\":true,\"ticks\":\"\",\"zerolinecolor\":\"white\"},\"yaxis\":{\"backgroundcolor\":\"#E5ECF6\",\"gridcolor\":\"white\",\"gridwidth\":2,\"linecolor\":\"white\",\"showbackground\":true,\"ticks\":\"\",\"zerolinecolor\":\"white\"},\"zaxis\":{\"backgroundcolor\":\"#E5ECF6\",\"gridcolor\":\"white\",\"gridwidth\":2,\"linecolor\":\"white\",\"showbackground\":true,\"ticks\":\"\",\"zerolinecolor\":\"white\"}},\"shapedefaults\":{\"line\":{\"color\":\"#2a3f5f\"}},\"ternary\":{\"aaxis\":{\"gridcolor\":\"white\",\"linecolor\":\"white\",\"ticks\":\"\"},\"baxis\":{\"gridcolor\":\"white\",\"linecolor\":\"white\",\"ticks\":\"\"},\"bgcolor\":\"#E5ECF6\",\"caxis\":{\"gridcolor\":\"white\",\"linecolor\":\"white\",\"ticks\":\"\"}},\"title\":{\"x\":0.05},\"xaxis\":{\"automargin\":true,\"gridcolor\":\"white\",\"linecolor\":\"white\",\"ticks\":\"\",\"title\":{\"standoff\":15},\"zerolinecolor\":\"white\",\"zerolinewidth\":2},\"yaxis\":{\"automargin\":true,\"gridcolor\":\"white\",\"linecolor\":\"white\",\"ticks\":\"\",\"title\":{\"standoff\":15},\"zerolinecolor\":\"white\",\"zerolinewidth\":2}}},\"xaxis\":{\"anchor\":\"y\",\"domain\":[0.0,1.0],\"title\":{\"text\":\"education\"}},\"yaxis\":{\"anchor\":\"x\",\"domain\":[0.0,1.0],\"title\":{\"text\":\"count\"}},\"legend\":{\"title\":{\"text\":\"flag\"},\"tracegroupgap\":0},\"title\":{\"text\":\"Predicting the Purchase by Education\"},\"barmode\":\"relative\"},                        {\"responsive\": true}                    ).then(function(){\n",
              "                            \n",
              "var gd = document.getElementById('0b12d2bf-c19d-4141-9ee7-168fddd30bee');\n",
              "var x = new MutationObserver(function (mutations, observer) {{\n",
              "        var display = window.getComputedStyle(gd).display;\n",
              "        if (!display || display === 'none') {{\n",
              "            console.log([gd, 'removed!']);\n",
              "            Plotly.purge(gd);\n",
              "            observer.disconnect();\n",
              "        }}\n",
              "}});\n",
              "\n",
              "// Listen for the removal of the full notebook cells\n",
              "var notebookContainer = gd.closest('#notebook-container');\n",
              "if (notebookContainer) {{\n",
              "    x.observe(notebookContainer, {childList: true});\n",
              "}}\n",
              "\n",
              "// Listen for the clearing of the current output cell\n",
              "var outputEl = gd.closest('.output');\n",
              "if (outputEl) {{\n",
              "    x.observe(outputEl, {childList: true});\n",
              "}}\n",
              "\n",
              "                        })                };                            </script>        </div>\n",
              "</body>\n",
              "</html>"
            ]
          },
          "metadata": {}
        }
      ]
    },
    {
      "cell_type": "code",
      "source": [
        "sns.catplot(data= data, x=\"flag\", y=\"house_val\", hue=\"flag\", kind=\"bar\")"
      ],
      "metadata": {
        "colab": {
          "base_uri": "https://localhost:8080/",
          "height": 386
        },
        "id": "w81HhlRUxTq3",
        "outputId": "30975230-542a-4b4d-ee2f-5812055950fb"
      },
      "execution_count": null,
      "outputs": [
        {
          "output_type": "execute_result",
          "data": {
            "text/plain": [
              "<seaborn.axisgrid.FacetGrid at 0x7fca5dff5700>"
            ]
          },
          "metadata": {},
          "execution_count": 271
        },
        {
          "output_type": "display_data",
          "data": {
            "text/plain": [
              "<Figure size 360x360 with 1 Axes>"
            ],
            "image/png": "[encoded data removed]"
          },
          "metadata": {
            "needs_background": "light"
          }
        }
      ]
    },
    {
      "cell_type": "code",
      "source": [
        "\n",
        "pd.crosstab(data.education, data.flag).plot(kind='bar')\n",
        "plt.title('Education and Flag')\n",
        "plt.xlabel('Education')\n",
        "plt.ylabel('Frequency')"
      ],
      "metadata": {
        "colab": {
          "base_uri": "https://localhost:8080/",
          "height": 309
        },
        "id": "ZD2J5Z51yJfU",
        "outputId": "6a08ca01-c002-4f99-dca2-7fcfb1ca0e3a"
      },
      "execution_count": null,
      "outputs": [
        {
          "output_type": "execute_result",
          "data": {
            "text/plain": [
              "Text(0, 0.5, 'Frequency')"
            ]
          },
          "metadata": {},
          "execution_count": 272
        },
        {
          "output_type": "display_data",
          "data": {
            "text/plain": [
              "<Figure size 432x288 with 1 Axes>"
            ],
            "image/png": "[encoded data removed]"
          },
          "metadata": {
            "needs_background": "light"
          }
        }
      ]
    },
    {
      "cell_type": "code",
      "source": [
        "sns.catplot(data= data, x=\"occupation\", y=\"house_val\", hue=\"flag\", kind=\"bar\")"
      ],
      "metadata": {
        "colab": {
          "base_uri": "https://localhost:8080/",
          "height": 386
        },
        "id": "zNaqdHzx0XX0",
        "outputId": "8bf5bb3f-96df-415e-b5c8-8aea63f8722b"
      },
      "execution_count": null,
      "outputs": [
        {
          "output_type": "execute_result",
          "data": {
            "text/plain": [
              "<seaborn.axisgrid.FacetGrid at 0x7fca5cf68c40>"
            ]
          },
          "metadata": {},
          "execution_count": 273
        },
        {
          "output_type": "display_data",
          "data": {
            "text/plain": [
              "<Figure size 402.375x360 with 1 Axes>"
            ],
            "image/png": "[encoded data removed]"
          },
          "metadata": {
            "needs_background": "light"
          }
        }
      ]
    },
    {
      "cell_type": "code",
      "source": [
        "\n",
        "pd.crosstab(data.child, data.flag).plot(kind='bar')\n",
        "plt.title('Presenc/Absence of Children and Flag')\n",
        "plt.xlabel('Children')\n",
        "plt.ylabel('Frequency')"
      ],
      "metadata": {
        "colab": {
          "base_uri": "https://localhost:8080/",
          "height": 309
        },
        "id": "n8tPwf2g1NmR",
        "outputId": "840e073a-bb6e-4244-d37f-d29c454eeb2c"
      },
      "execution_count": null,
      "outputs": [
        {
          "output_type": "execute_result",
          "data": {
            "text/plain": [
              "Text(0, 0.5, 'Frequency')"
            ]
          },
          "metadata": {},
          "execution_count": 274
        },
        {
          "output_type": "display_data",
          "data": {
            "text/plain": [
              "<Figure size 432x288 with 1 Axes>"
            ],
            "image/png": "[encoded data removed]"
          },
          "metadata": {
            "needs_background": "light"
          }
        }
      ]
    },
    {
      "cell_type": "code",
      "source": [
        "axes = sns.factorplot('mortgage','flag',\n",
        "                      data= data , aspect = 2.5, )"
      ],
      "metadata": {
        "colab": {
          "base_uri": "https://localhost:8080/",
          "height": 528
        },
        "id": "KW5ohDZE-EMc",
        "outputId": "8451ef57-5a9a-40fb-df29-1a1291767742"
      },
      "execution_count": null,
      "outputs": [
        {
          "output_type": "stream",
          "name": "stderr",
          "text": [
            "/usr/local/lib/python3.9/dist-packages/seaborn/categorical.py:3717: UserWarning:\n",
            "\n",
            "The `factorplot` function has been renamed to `catplot`. The original name will be removed in a future release. Please update your code. Note that the default `kind` in `factorplot` (`'point'`) has changed `'strip'` in `catplot`.\n",
            "\n",
            "/usr/local/lib/python3.9/dist-packages/seaborn/_decorators.py:36: FutureWarning:\n",
            "\n",
            "Pass the following variables as keyword args: x, y. From version 0.12, the only valid positional argument will be `data`, and passing other arguments without an explicit keyword will result in an error or misinterpretation.\n",
            "\n"
          ]
        },
        {
          "output_type": "display_data",
          "data": {
            "text/plain": [
              "<Figure size 900x360 with 1 Axes>"
            ],
            "image/png": "[encoded data removed]"
          },
          "metadata": {
            "needs_background": "light"
          }
        }
      ]
    },
    {
      "cell_type": "code",
      "source": [
        "axes = sns.factorplot('fam_income','flag',\n",
        "                      data= data , aspect = 2.5, )"
      ],
      "metadata": {
        "colab": {
          "base_uri": "https://localhost:8080/",
          "height": 528
        },
        "id": "VSVkQSaCDzmC",
        "outputId": "349b00ed-7e0c-48b2-9143-4094eb679c04"
      },
      "execution_count": null,
      "outputs": [
        {
          "output_type": "stream",
          "name": "stderr",
          "text": [
            "/usr/local/lib/python3.9/dist-packages/seaborn/categorical.py:3717: UserWarning:\n",
            "\n",
            "The `factorplot` function has been renamed to `catplot`. The original name will be removed in a future release. Please update your code. Note that the default `kind` in `factorplot` (`'point'`) has changed `'strip'` in `catplot`.\n",
            "\n",
            "/usr/local/lib/python3.9/dist-packages/seaborn/_decorators.py:36: FutureWarning:\n",
            "\n",
            "Pass the following variables as keyword args: x, y. From version 0.12, the only valid positional argument will be `data`, and passing other arguments without an explicit keyword will result in an error or misinterpretation.\n",
            "\n"
          ]
        },
        {
          "output_type": "display_data",
          "data": {
            "text/plain": [
              "<Figure size 900x360 with 1 Axes>"
            ],
            "image/png": "[encoded data removed]"
          },
          "metadata": {
            "needs_background": "light"
          }
        }
      ]
    },
    {
      "cell_type": "code",
      "source": [
        "## Create pivot table\n",
        "result = pd.pivot_table(data=data, index='region', columns='mortgage',values='flag')\n",
        "## create heat map of region vs mortgage vs purchase_rate\n",
        "sns.heatmap(result, annot=True, cmap = 'RdYlGn_r').set_title('How does Region and Mortgage type affect Purchase?')\n",
        "plt.show()"
      ],
      "metadata": {
        "colab": {
          "base_uri": "https://localhost:8080/",
          "height": 295
        },
        "id": "KQS1ljTKFdGZ",
        "outputId": "d65c332c-a909-4968-dfc2-2896ce01a409"
      },
      "execution_count": null,
      "outputs": [
        {
          "output_type": "display_data",
          "data": {
            "text/plain": [
              "<Figure size 432x288 with 2 Axes>"
            ],
            "image/png": "[encoded data removed]"
          },
          "metadata": {
            "needs_background": "light"
          }
        }
      ]
    },
    {
      "cell_type": "code",
      "source": [
        "## Create pivot table\n",
        "result = pd.pivot_table(data=data, index='fam_income', columns='gender',values='flag')\n",
        "## create heat map of family income vs gender vs subscription_rate\n",
        "sns.heatmap(result, annot=True, cmap = 'RdYlGn_r').set_title('How do Family Income and Gender affect Purchase?')\n",
        "plt.show()"
      ],
      "metadata": {
        "colab": {
          "base_uri": "https://localhost:8080/",
          "height": 295
        },
        "id": "9wFqIP-ZICpK",
        "outputId": "a3fc5e25-a28d-48b0-bc5b-e11520b5f4e8"
      },
      "execution_count": null,
      "outputs": [
        {
          "output_type": "display_data",
          "data": {
            "text/plain": [
              "<Figure size 432x288 with 2 Axes>"
            ],
            "image/png": "[encoded data removed]"
          },
          "metadata": {
            "needs_background": "light"
          }
        }
      ]
    },
    {
      "cell_type": "code",
      "source": [
        "#crate a correlation matrix after visualisation\n",
        "datacorr = pd.DataFrame(data)\n",
        "corr_matrix = data.corr()\n",
        "print(corr_matrix)"
      ],
      "metadata": {
        "colab": {
          "base_uri": "https://localhost:8080/"
        },
        "id": "gg86g0kxCfxa",
        "outputId": "7a957191-590f-410a-ee96-71a153549ce2"
      },
      "execution_count": null,
      "outputs": [
        {
          "output_type": "stream",
          "name": "stdout",
          "text": [
            "                 flag    gender  education  house_val       age  marriage  \\\n",
            "flag         1.000000 -0.187774   0.235456   0.147852  0.067677  0.168818   \n",
            "gender      -0.187774  1.000000  -0.079444  -0.066907  0.036728 -0.093563   \n",
            "education    0.235456 -0.079444   1.000000   0.219883  0.097510  0.133179   \n",
            "house_val    0.147852 -0.066907   0.219883   1.000000  0.050022  0.084846   \n",
            "age          0.067677  0.036728   0.097510   0.050022  1.000000  0.208038   \n",
            "marriage     0.168818 -0.093563   0.133179   0.084846  0.208038  1.000000   \n",
            "child        0.046329  0.015008  -0.006809   0.016074 -0.149203  0.093031   \n",
            "occupation   0.206277  0.007523   0.256756   0.148079 -0.231376  0.063506   \n",
            "mortgage     0.218898 -0.087671   0.213293   0.297825  0.013873  0.152596   \n",
            "house_owner  0.127270 -0.031781   0.120131   0.100361  0.200975  0.204451   \n",
            "region      -0.009174  0.003841   0.017032   0.013513  0.007697 -0.025827   \n",
            "fam_income   0.233016 -0.084738   0.303341   0.363767  0.086916  0.181002   \n",
            "\n",
            "                child  occupation  mortgage  house_owner    region  fam_income  \n",
            "flag         0.046329    0.206277  0.218898     0.127270 -0.009174    0.233016  \n",
            "gender       0.015008    0.007523 -0.087671    -0.031781  0.003841   -0.084738  \n",
            "education   -0.006809    0.256756  0.213293     0.120131  0.017032    0.303341  \n",
            "house_val    0.016074    0.148079  0.297825     0.100361  0.013513    0.363767  \n",
            "age         -0.149203   -0.231376  0.013873     0.200975  0.007697    0.086916  \n",
            "marriage     0.093031    0.063506  0.152596     0.204451 -0.025827    0.181002  \n",
            "child        1.000000    0.074228  0.135712    -0.012594 -0.032953    0.063886  \n",
            "occupation   0.074228    1.000000  0.186662     0.050679 -0.007970    0.236152  \n",
            "mortgage     0.135712    0.186662  1.000000     0.329690 -0.033660    0.345930  \n",
            "house_owner -0.012594    0.050679  0.329690     1.000000 -0.011962    0.249287  \n",
            "region      -0.032953   -0.007970 -0.033660    -0.011962  1.000000    0.029592  \n",
            "fam_income   0.063886    0.236152  0.345930     0.249287  0.029592    1.000000  \n"
          ]
        }
      ]
    },
    {
      "cell_type": "code",
      "source": [
        "rs = np.random.RandomState(0)\n",
        "dc = pd.DataFrame(rs.rand(10, 10))\n",
        "corr = data.corr()\n",
        "corr.style.background_gradient(cmap='coolwarm')"
      ],
      "metadata": {
        "colab": {
          "base_uri": "https://localhost:8080/",
          "height": 446
        },
        "id": "dIeE2Ku4CgAl",
        "outputId": "88ea3880-26b5-4875-e9a0-caea0c4865ae"
      },
      "execution_count": null,
      "outputs": [
        {
          "output_type": "execute_result",
          "data": {
            "text/plain": [
              "<pandas.io.formats.style.Styler at 0x7fca5d011a90>"
            ],
            "text/html": [
              "<style type=\"text/css\">\n",
              "#T_78e86_row0_col0, #T_78e86_row1_col1, #T_78e86_row2_col2, #T_78e86_row3_col3, #T_78e86_row4_col4, #T_78e86_row5_col5, #T_78e86_row6_col6, #T_78e86_row7_col7, #T_78e86_row8_col8, #T_78e86_row9_col9, #T_78e86_row10_col10, #T_78e86_row11_col11 {\n",
              "  background-color: #b40426;\n",
              "  color: #f1f1f1;\n",
              "}\n",
              "#T_78e86_row0_col1, #T_78e86_row1_col0, #T_78e86_row1_col2, #T_78e86_row1_col3, #T_78e86_row1_col5, #T_78e86_row1_col8, #T_78e86_row1_col9, #T_78e86_row1_col11, #T_78e86_row4_col6, #T_78e86_row4_col7, #T_78e86_row6_col10, #T_78e86_row7_col4, #T_78e86_row8_col10 {\n",
              "  background-color: #3b4cc0;\n",
              "  color: #f1f1f1;\n",
              "}\n",
              "#T_78e86_row0_col2, #T_78e86_row0_col11 {\n",
              "  background-color: #9bbcff;\n",
              "  color: #000000;\n",
              "}\n",
              "#T_78e86_row0_col3, #T_78e86_row7_col3 {\n",
              "  background-color: #7b9ff9;\n",
              "  color: #f1f1f1;\n",
              "}\n",
              "#T_78e86_row0_col4, #T_78e86_row5_col11 {\n",
              "  background-color: #8badfd;\n",
              "  color: #000000;\n",
              "}\n",
              "#T_78e86_row0_col5, #T_78e86_row5_col7 {\n",
              "  background-color: #89acfd;\n",
              "  color: #000000;\n",
              "}\n",
              "#T_78e86_row0_col6, #T_78e86_row6_col1, #T_78e86_row6_col5 {\n",
              "  background-color: #7093f3;\n",
              "  color: #f1f1f1;\n",
              "}\n",
              "#T_78e86_row0_col7, #T_78e86_row3_col8, #T_78e86_row11_col0, #T_78e86_row11_col2 {\n",
              "  background-color: #b1cbfc;\n",
              "  color: #000000;\n",
              "}\n",
              "#T_78e86_row0_col8, #T_78e86_row3_col0 {\n",
              "  background-color: #98b9ff;\n",
              "  color: #000000;\n",
              "}\n",
              "#T_78e86_row0_col9 {\n",
              "  background-color: #6b8df0;\n",
              "  color: #f1f1f1;\n",
              "}\n",
              "#T_78e86_row0_col10, #T_78e86_row7_col10 {\n",
              "  background-color: #4257c9;\n",
              "  color: #f1f1f1;\n",
              "}\n",
              "#T_78e86_row1_col4, #T_78e86_row4_col0 {\n",
              "  background-color: #81a4fb;\n",
              "  color: #f1f1f1;\n",
              "}\n",
              "#T_78e86_row1_col6, #T_78e86_row3_col6, #T_78e86_row5_col3, #T_78e86_row7_col5 {\n",
              "  background-color: #6788ee;\n",
              "  color: #f1f1f1;\n",
              "}\n",
              "#T_78e86_row1_col7, #T_78e86_row7_col6, #T_78e86_row10_col4 {\n",
              "  background-color: #799cf8;\n",
              "  color: #f1f1f1;\n",
              "}\n",
              "#T_78e86_row1_col10 {\n",
              "  background-color: #455cce;\n",
              "  color: #f1f1f1;\n",
              "}\n",
              "#T_78e86_row2_col0, #T_78e86_row2_col11, #T_78e86_row5_col4 {\n",
              "  background-color: #b2ccfb;\n",
              "  color: #000000;\n",
              "}\n",
              "#T_78e86_row2_col1, #T_78e86_row4_col8 {\n",
              "  background-color: #5673e0;\n",
              "  color: #f1f1f1;\n",
              "}\n",
              "#T_78e86_row2_col3, #T_78e86_row2_col4 {\n",
              "  background-color: #93b5fe;\n",
              "  color: #000000;\n",
              "}\n",
              "#T_78e86_row2_col5, #T_78e86_row5_col6 {\n",
              "  background-color: #7ea1fa;\n",
              "  color: #f1f1f1;\n",
              "}\n",
              "#T_78e86_row2_col6 {\n",
              "  background-color: #6180e9;\n",
              "  color: #f1f1f1;\n",
              "}\n",
              "#T_78e86_row2_col7, #T_78e86_row8_col11 {\n",
              "  background-color: #bfd3f6;\n",
              "  color: #000000;\n",
              "}\n",
              "#T_78e86_row2_col8, #T_78e86_row3_col2, #T_78e86_row4_col5 {\n",
              "  background-color: #96b7ff;\n",
              "  color: #000000;\n",
              "}\n",
              "#T_78e86_row2_col9 {\n",
              "  background-color: #688aef;\n",
              "  color: #f1f1f1;\n",
              "}\n",
              "#T_78e86_row2_col10, #T_78e86_row10_col8 {\n",
              "  background-color: #4961d2;\n",
              "  color: #f1f1f1;\n",
              "}\n",
              "#T_78e86_row3_col1, #T_78e86_row10_col11 {\n",
              "  background-color: #5a78e4;\n",
              "  color: #f1f1f1;\n",
              "}\n",
              "#T_78e86_row3_col4, #T_78e86_row5_col9, #T_78e86_row9_col7 {\n",
              "  background-color: #85a8fc;\n",
              "  color: #f1f1f1;\n",
              "}\n",
              "#T_78e86_row3_col5, #T_78e86_row4_col2, #T_78e86_row10_col1 {\n",
              "  background-color: #6e90f2;\n",
              "  color: #f1f1f1;\n",
              "}\n",
              "#T_78e86_row3_col7, #T_78e86_row9_col11 {\n",
              "  background-color: #a1c0ff;\n",
              "  color: #000000;\n",
              "}\n",
              "#T_78e86_row3_col9 {\n",
              "  background-color: #6282ea;\n",
              "  color: #f1f1f1;\n",
              "}\n",
              "#T_78e86_row3_col10 {\n",
              "  background-color: #485fd1;\n",
              "  color: #f1f1f1;\n",
              "}\n",
              "#T_78e86_row3_col11 {\n",
              "  background-color: #c4d5f3;\n",
              "  color: #000000;\n",
              "}\n",
              "#T_78e86_row4_col1 {\n",
              "  background-color: #779af7;\n",
              "  color: #f1f1f1;\n",
              "}\n",
              "#T_78e86_row4_col3 {\n",
              "  background-color: #5d7ce6;\n",
              "  color: #f1f1f1;\n",
              "}\n",
              "#T_78e86_row4_col9, #T_78e86_row8_col5 {\n",
              "  background-color: #84a7fc;\n",
              "  color: #f1f1f1;\n",
              "}\n",
              "#T_78e86_row4_col10 {\n",
              "  background-color: #465ecf;\n",
              "  color: #f1f1f1;\n",
              "}\n",
              "#T_78e86_row4_col11, #T_78e86_row9_col3 {\n",
              "  background-color: #6c8ff1;\n",
              "  color: #f1f1f1;\n",
              "}\n",
              "#T_78e86_row5_col0 {\n",
              "  background-color: #9ebeff;\n",
              "  color: #000000;\n",
              "}\n",
              "#T_78e86_row5_col1, #T_78e86_row7_col9 {\n",
              "  background-color: #536edd;\n",
              "  color: #f1f1f1;\n",
              "}\n",
              "#T_78e86_row5_col2, #T_78e86_row6_col0, #T_78e86_row8_col4 {\n",
              "  background-color: #7a9df8;\n",
              "  color: #f1f1f1;\n",
              "}\n",
              "#T_78e86_row5_col8 {\n",
              "  background-color: #82a6fb;\n",
              "  color: #f1f1f1;\n",
              "}\n",
              "#T_78e86_row5_col10 {\n",
              "  background-color: #3c4ec2;\n",
              "  color: #f1f1f1;\n",
              "}\n",
              "#T_78e86_row6_col2, #T_78e86_row6_col4 {\n",
              "  background-color: #4f69d9;\n",
              "  color: #f1f1f1;\n",
              "}\n",
              "#T_78e86_row6_col3, #T_78e86_row10_col3 {\n",
              "  background-color: #516ddb;\n",
              "  color: #f1f1f1;\n",
              "}\n",
              "#T_78e86_row6_col7, #T_78e86_row8_col6 {\n",
              "  background-color: #8caffe;\n",
              "  color: #000000;\n",
              "}\n",
              "#T_78e86_row6_col8 {\n",
              "  background-color: #7da0f9;\n",
              "  color: #f1f1f1;\n",
              "}\n",
              "#T_78e86_row6_col9, #T_78e86_row10_col9 {\n",
              "  background-color: #3f53c6;\n",
              "  color: #f1f1f1;\n",
              "}\n",
              "#T_78e86_row6_col11 {\n",
              "  background-color: #6687ed;\n",
              "  color: #f1f1f1;\n",
              "}\n",
              "#T_78e86_row7_col0 {\n",
              "  background-color: #a9c6fd;\n",
              "  color: #000000;\n",
              "}\n",
              "#T_78e86_row7_col1 {\n",
              "  background-color: #6f92f3;\n",
              "  color: #f1f1f1;\n",
              "}\n",
              "#T_78e86_row7_col2 {\n",
              "  background-color: #a2c1ff;\n",
              "  color: #000000;\n",
              "}\n",
              "#T_78e86_row7_col8, #T_78e86_row11_col5 {\n",
              "  background-color: #8db0fe;\n",
              "  color: #000000;\n",
              "}\n",
              "#T_78e86_row7_col11 {\n",
              "  background-color: #9dbdff;\n",
              "  color: #000000;\n",
              "}\n",
              "#T_78e86_row8_col0, #T_78e86_row8_col3 {\n",
              "  background-color: #adc9fd;\n",
              "  color: #000000;\n",
              "}\n",
              "#T_78e86_row8_col1 {\n",
              "  background-color: #5470de;\n",
              "  color: #f1f1f1;\n",
              "}\n",
              "#T_78e86_row8_col2, #T_78e86_row9_col5, #T_78e86_row11_col9 {\n",
              "  background-color: #94b6ff;\n",
              "  color: #000000;\n",
              "}\n",
              "#T_78e86_row8_col7 {\n",
              "  background-color: #abc8fd;\n",
              "  color: #000000;\n",
              "}\n",
              "#T_78e86_row8_col9, #T_78e86_row9_col4 {\n",
              "  background-color: #afcafc;\n",
              "  color: #000000;\n",
              "}\n",
              "#T_78e86_row9_col0 {\n",
              "  background-color: #92b4fe;\n",
              "  color: #000000;\n",
              "}\n",
              "#T_78e86_row9_col1 {\n",
              "  background-color: #6384eb;\n",
              "  color: #f1f1f1;\n",
              "}\n",
              "#T_78e86_row9_col2, #T_78e86_row11_col6 {\n",
              "  background-color: #7699f6;\n",
              "  color: #f1f1f1;\n",
              "}\n",
              "#T_78e86_row9_col6 {\n",
              "  background-color: #5f7fe8;\n",
              "  color: #f1f1f1;\n",
              "}\n",
              "#T_78e86_row9_col8 {\n",
              "  background-color: #bbd1f8;\n",
              "  color: #000000;\n",
              "}\n",
              "#T_78e86_row9_col10 {\n",
              "  background-color: #4055c8;\n",
              "  color: #f1f1f1;\n",
              "}\n",
              "#T_78e86_row10_col0 {\n",
              "  background-color: #6a8bef;\n",
              "  color: #f1f1f1;\n",
              "}\n",
              "#T_78e86_row10_col2, #T_78e86_row11_col1 {\n",
              "  background-color: #5572df;\n",
              "  color: #f1f1f1;\n",
              "}\n",
              "#T_78e86_row10_col5, #T_78e86_row11_col10 {\n",
              "  background-color: #4c66d6;\n",
              "  color: #f1f1f1;\n",
              "}\n",
              "#T_78e86_row10_col6 {\n",
              "  background-color: #5977e3;\n",
              "  color: #f1f1f1;\n",
              "}\n",
              "#T_78e86_row10_col7 {\n",
              "  background-color: #7597f6;\n",
              "  color: #f1f1f1;\n",
              "}\n",
              "#T_78e86_row11_col3 {\n",
              "  background-color: #c1d4f4;\n",
              "  color: #000000;\n",
              "}\n",
              "#T_78e86_row11_col4 {\n",
              "  background-color: #90b2fe;\n",
              "  color: #000000;\n",
              "}\n",
              "#T_78e86_row11_col7 {\n",
              "  background-color: #bad0f8;\n",
              "  color: #000000;\n",
              "}\n",
              "#T_78e86_row11_col8 {\n",
              "  background-color: #c0d4f5;\n",
              "  color: #000000;\n",
              "}\n",
              "</style>\n",
              "<table id=\"T_78e86_\" class=\"dataframe\">\n",
              "  <thead>\n",
              "    <tr>\n",
              "      <th class=\"blank level0\" >&nbsp;</th>\n",
              "      <th class=\"col_heading level0 col0\" >flag</th>\n",
              "      <th class=\"col_heading level0 col1\" >gender</th>\n",
              "      <th class=\"col_heading level0 col2\" >education</th>\n",
              "      <th class=\"col_heading level0 col3\" >house_val</th>\n",
              "      <th class=\"col_heading level0 col4\" >age</th>\n",
              "      <th class=\"col_heading level0 col5\" >marriage</th>\n",
              "      <th class=\"col_heading level0 col6\" >child</th>\n",
              "      <th class=\"col_heading level0 col7\" >occupation</th>\n",
              "      <th class=\"col_heading level0 col8\" >mortgage</th>\n",
              "      <th class=\"col_heading level0 col9\" >house_owner</th>\n",
              "      <th class=\"col_heading level0 col10\" >region</th>\n",
              "      <th class=\"col_heading level0 col11\" >fam_income</th>\n",
              "    </tr>\n",
              "  </thead>\n",
              "  <tbody>\n",
              "    <tr>\n",
              "      <th id=\"T_78e86_level0_row0\" class=\"row_heading level0 row0\" >flag</th>\n",
              "      <td id=\"T_78e86_row0_col0\" class=\"data row0 col0\" >1.000000</td>\n",
              "      <td id=\"T_78e86_row0_col1\" class=\"data row0 col1\" >-0.187774</td>\n",
              "      <td id=\"T_78e86_row0_col2\" class=\"data row0 col2\" >0.235456</td>\n",
              "      <td id=\"T_78e86_row0_col3\" class=\"data row0 col3\" >0.147852</td>\n",
              "      <td id=\"T_78e86_row0_col4\" class=\"data row0 col4\" >0.067677</td>\n",
              "      <td id=\"T_78e86_row0_col5\" class=\"data row0 col5\" >0.168818</td>\n",
              "      <td id=\"T_78e86_row0_col6\" class=\"data row0 col6\" >0.046329</td>\n",
              "      <td id=\"T_78e86_row0_col7\" class=\"data row0 col7\" >0.206277</td>\n",
              "      <td id=\"T_78e86_row0_col8\" class=\"data row0 col8\" >0.218898</td>\n",
              "      <td id=\"T_78e86_row0_col9\" class=\"data row0 col9\" >0.127270</td>\n",
              "      <td id=\"T_78e86_row0_col10\" class=\"data row0 col10\" >-0.009174</td>\n",
              "      <td id=\"T_78e86_row0_col11\" class=\"data row0 col11\" >0.233016</td>\n",
              "    </tr>\n",
              "    <tr>\n",
              "      <th id=\"T_78e86_level0_row1\" class=\"row_heading level0 row1\" >gender</th>\n",
              "      <td id=\"T_78e86_row1_col0\" class=\"data row1 col0\" >-0.187774</td>\n",
              "      <td id=\"T_78e86_row1_col1\" class=\"data row1 col1\" >1.000000</td>\n",
              "      <td id=\"T_78e86_row1_col2\" class=\"data row1 col2\" >-0.079444</td>\n",
              "      <td id=\"T_78e86_row1_col3\" class=\"data row1 col3\" >-0.066907</td>\n",
              "      <td id=\"T_78e86_row1_col4\" class=\"data row1 col4\" >0.036728</td>\n",
              "      <td id=\"T_78e86_row1_col5\" class=\"data row1 col5\" >-0.093563</td>\n",
              "      <td id=\"T_78e86_row1_col6\" class=\"data row1 col6\" >0.015008</td>\n",
              "      <td id=\"T_78e86_row1_col7\" class=\"data row1 col7\" >0.007523</td>\n",
              "      <td id=\"T_78e86_row1_col8\" class=\"data row1 col8\" >-0.087671</td>\n",
              "      <td id=\"T_78e86_row1_col9\" class=\"data row1 col9\" >-0.031781</td>\n",
              "      <td id=\"T_78e86_row1_col10\" class=\"data row1 col10\" >0.003841</td>\n",
              "      <td id=\"T_78e86_row1_col11\" class=\"data row1 col11\" >-0.084738</td>\n",
              "    </tr>\n",
              "    <tr>\n",
              "      <th id=\"T_78e86_level0_row2\" class=\"row_heading level0 row2\" >education</th>\n",
              "      <td id=\"T_78e86_row2_col0\" class=\"data row2 col0\" >0.235456</td>\n",
              "      <td id=\"T_78e86_row2_col1\" class=\"data row2 col1\" >-0.079444</td>\n",
              "      <td id=\"T_78e86_row2_col2\" class=\"data row2 col2\" >1.000000</td>\n",
              "      <td id=\"T_78e86_row2_col3\" class=\"data row2 col3\" >0.219883</td>\n",
              "      <td id=\"T_78e86_row2_col4\" class=\"data row2 col4\" >0.097510</td>\n",
              "      <td id=\"T_78e86_row2_col5\" class=\"data row2 col5\" >0.133179</td>\n",
              "      <td id=\"T_78e86_row2_col6\" class=\"data row2 col6\" >-0.006809</td>\n",
              "      <td id=\"T_78e86_row2_col7\" class=\"data row2 col7\" >0.256756</td>\n",
              "      <td id=\"T_78e86_row2_col8\" class=\"data row2 col8\" >0.213293</td>\n",
              "      <td id=\"T_78e86_row2_col9\" class=\"data row2 col9\" >0.120131</td>\n",
              "      <td id=\"T_78e86_row2_col10\" class=\"data row2 col10\" >0.017032</td>\n",
              "      <td id=\"T_78e86_row2_col11\" class=\"data row2 col11\" >0.303341</td>\n",
              "    </tr>\n",
              "    <tr>\n",
              "      <th id=\"T_78e86_level0_row3\" class=\"row_heading level0 row3\" >house_val</th>\n",
              "      <td id=\"T_78e86_row3_col0\" class=\"data row3 col0\" >0.147852</td>\n",
              "      <td id=\"T_78e86_row3_col1\" class=\"data row3 col1\" >-0.066907</td>\n",
              "      <td id=\"T_78e86_row3_col2\" class=\"data row3 col2\" >0.219883</td>\n",
              "      <td id=\"T_78e86_row3_col3\" class=\"data row3 col3\" >1.000000</td>\n",
              "      <td id=\"T_78e86_row3_col4\" class=\"data row3 col4\" >0.050022</td>\n",
              "      <td id=\"T_78e86_row3_col5\" class=\"data row3 col5\" >0.084846</td>\n",
              "      <td id=\"T_78e86_row3_col6\" class=\"data row3 col6\" >0.016074</td>\n",
              "      <td id=\"T_78e86_row3_col7\" class=\"data row3 col7\" >0.148079</td>\n",
              "      <td id=\"T_78e86_row3_col8\" class=\"data row3 col8\" >0.297825</td>\n",
              "      <td id=\"T_78e86_row3_col9\" class=\"data row3 col9\" >0.100361</td>\n",
              "      <td id=\"T_78e86_row3_col10\" class=\"data row3 col10\" >0.013513</td>\n",
              "      <td id=\"T_78e86_row3_col11\" class=\"data row3 col11\" >0.363767</td>\n",
              "    </tr>\n",
              "    <tr>\n",
              "      <th id=\"T_78e86_level0_row4\" class=\"row_heading level0 row4\" >age</th>\n",
              "      <td id=\"T_78e86_row4_col0\" class=\"data row4 col0\" >0.067677</td>\n",
              "      <td id=\"T_78e86_row4_col1\" class=\"data row4 col1\" >0.036728</td>\n",
              "      <td id=\"T_78e86_row4_col2\" class=\"data row4 col2\" >0.097510</td>\n",
              "      <td id=\"T_78e86_row4_col3\" class=\"data row4 col3\" >0.050022</td>\n",
              "      <td id=\"T_78e86_row4_col4\" class=\"data row4 col4\" >1.000000</td>\n",
              "      <td id=\"T_78e86_row4_col5\" class=\"data row4 col5\" >0.208038</td>\n",
              "      <td id=\"T_78e86_row4_col6\" class=\"data row4 col6\" >-0.149203</td>\n",
              "      <td id=\"T_78e86_row4_col7\" class=\"data row4 col7\" >-0.231376</td>\n",
              "      <td id=\"T_78e86_row4_col8\" class=\"data row4 col8\" >0.013873</td>\n",
              "      <td id=\"T_78e86_row4_col9\" class=\"data row4 col9\" >0.200975</td>\n",
              "      <td id=\"T_78e86_row4_col10\" class=\"data row4 col10\" >0.007697</td>\n",
              "      <td id=\"T_78e86_row4_col11\" class=\"data row4 col11\" >0.086916</td>\n",
              "    </tr>\n",
              "    <tr>\n",
              "      <th id=\"T_78e86_level0_row5\" class=\"row_heading level0 row5\" >marriage</th>\n",
              "      <td id=\"T_78e86_row5_col0\" class=\"data row5 col0\" >0.168818</td>\n",
              "      <td id=\"T_78e86_row5_col1\" class=\"data row5 col1\" >-0.093563</td>\n",
              "      <td id=\"T_78e86_row5_col2\" class=\"data row5 col2\" >0.133179</td>\n",
              "      <td id=\"T_78e86_row5_col3\" class=\"data row5 col3\" >0.084846</td>\n",
              "      <td id=\"T_78e86_row5_col4\" class=\"data row5 col4\" >0.208038</td>\n",
              "      <td id=\"T_78e86_row5_col5\" class=\"data row5 col5\" >1.000000</td>\n",
              "      <td id=\"T_78e86_row5_col6\" class=\"data row5 col6\" >0.093031</td>\n",
              "      <td id=\"T_78e86_row5_col7\" class=\"data row5 col7\" >0.063506</td>\n",
              "      <td id=\"T_78e86_row5_col8\" class=\"data row5 col8\" >0.152596</td>\n",
              "      <td id=\"T_78e86_row5_col9\" class=\"data row5 col9\" >0.204451</td>\n",
              "      <td id=\"T_78e86_row5_col10\" class=\"data row5 col10\" >-0.025827</td>\n",
              "      <td id=\"T_78e86_row5_col11\" class=\"data row5 col11\" >0.181002</td>\n",
              "    </tr>\n",
              "    <tr>\n",
              "      <th id=\"T_78e86_level0_row6\" class=\"row_heading level0 row6\" >child</th>\n",
              "      <td id=\"T_78e86_row6_col0\" class=\"data row6 col0\" >0.046329</td>\n",
              "      <td id=\"T_78e86_row6_col1\" class=\"data row6 col1\" >0.015008</td>\n",
              "      <td id=\"T_78e86_row6_col2\" class=\"data row6 col2\" >-0.006809</td>\n",
              "      <td id=\"T_78e86_row6_col3\" class=\"data row6 col3\" >0.016074</td>\n",
              "      <td id=\"T_78e86_row6_col4\" class=\"data row6 col4\" >-0.149203</td>\n",
              "      <td id=\"T_78e86_row6_col5\" class=\"data row6 col5\" >0.093031</td>\n",
              "      <td id=\"T_78e86_row6_col6\" class=\"data row6 col6\" >1.000000</td>\n",
              "      <td id=\"T_78e86_row6_col7\" class=\"data row6 col7\" >0.074228</td>\n",
              "      <td id=\"T_78e86_row6_col8\" class=\"data row6 col8\" >0.135712</td>\n",
              "      <td id=\"T_78e86_row6_col9\" class=\"data row6 col9\" >-0.012594</td>\n",
              "      <td id=\"T_78e86_row6_col10\" class=\"data row6 col10\" >-0.032953</td>\n",
              "      <td id=\"T_78e86_row6_col11\" class=\"data row6 col11\" >0.063886</td>\n",
              "    </tr>\n",
              "    <tr>\n",
              "      <th id=\"T_78e86_level0_row7\" class=\"row_heading level0 row7\" >occupation</th>\n",
              "      <td id=\"T_78e86_row7_col0\" class=\"data row7 col0\" >0.206277</td>\n",
              "      <td id=\"T_78e86_row7_col1\" class=\"data row7 col1\" >0.007523</td>\n",
              "      <td id=\"T_78e86_row7_col2\" class=\"data row7 col2\" >0.256756</td>\n",
              "      <td id=\"T_78e86_row7_col3\" class=\"data row7 col3\" >0.148079</td>\n",
              "      <td id=\"T_78e86_row7_col4\" class=\"data row7 col4\" >-0.231376</td>\n",
              "      <td id=\"T_78e86_row7_col5\" class=\"data row7 col5\" >0.063506</td>\n",
              "      <td id=\"T_78e86_row7_col6\" class=\"data row7 col6\" >0.074228</td>\n",
              "      <td id=\"T_78e86_row7_col7\" class=\"data row7 col7\" >1.000000</td>\n",
              "      <td id=\"T_78e86_row7_col8\" class=\"data row7 col8\" >0.186662</td>\n",
              "      <td id=\"T_78e86_row7_col9\" class=\"data row7 col9\" >0.050679</td>\n",
              "      <td id=\"T_78e86_row7_col10\" class=\"data row7 col10\" >-0.007970</td>\n",
              "      <td id=\"T_78e86_row7_col11\" class=\"data row7 col11\" >0.236152</td>\n",
              "    </tr>\n",
              "    <tr>\n",
              "      <th id=\"T_78e86_level0_row8\" class=\"row_heading level0 row8\" >mortgage</th>\n",
              "      <td id=\"T_78e86_row8_col0\" class=\"data row8 col0\" >0.218898</td>\n",
              "      <td id=\"T_78e86_row8_col1\" class=\"data row8 col1\" >-0.087671</td>\n",
              "      <td id=\"T_78e86_row8_col2\" class=\"data row8 col2\" >0.213293</td>\n",
              "      <td id=\"T_78e86_row8_col3\" class=\"data row8 col3\" >0.297825</td>\n",
              "      <td id=\"T_78e86_row8_col4\" class=\"data row8 col4\" >0.013873</td>\n",
              "      <td id=\"T_78e86_row8_col5\" class=\"data row8 col5\" >0.152596</td>\n",
              "      <td id=\"T_78e86_row8_col6\" class=\"data row8 col6\" >0.135712</td>\n",
              "      <td id=\"T_78e86_row8_col7\" class=\"data row8 col7\" >0.186662</td>\n",
              "      <td id=\"T_78e86_row8_col8\" class=\"data row8 col8\" >1.000000</td>\n",
              "      <td id=\"T_78e86_row8_col9\" class=\"data row8 col9\" >0.329690</td>\n",
              "      <td id=\"T_78e86_row8_col10\" class=\"data row8 col10\" >-0.033660</td>\n",
              "      <td id=\"T_78e86_row8_col11\" class=\"data row8 col11\" >0.345930</td>\n",
              "    </tr>\n",
              "    <tr>\n",
              "      <th id=\"T_78e86_level0_row9\" class=\"row_heading level0 row9\" >house_owner</th>\n",
              "      <td id=\"T_78e86_row9_col0\" class=\"data row9 col0\" >0.127270</td>\n",
              "      <td id=\"T_78e86_row9_col1\" class=\"data row9 col1\" >-0.031781</td>\n",
              "      <td id=\"T_78e86_row9_col2\" class=\"data row9 col2\" >0.120131</td>\n",
              "      <td id=\"T_78e86_row9_col3\" class=\"data row9 col3\" >0.100361</td>\n",
              "      <td id=\"T_78e86_row9_col4\" class=\"data row9 col4\" >0.200975</td>\n",
              "      <td id=\"T_78e86_row9_col5\" class=\"data row9 col5\" >0.204451</td>\n",
              "      <td id=\"T_78e86_row9_col6\" class=\"data row9 col6\" >-0.012594</td>\n",
              "      <td id=\"T_78e86_row9_col7\" class=\"data row9 col7\" >0.050679</td>\n",
              "      <td id=\"T_78e86_row9_col8\" class=\"data row9 col8\" >0.329690</td>\n",
              "      <td id=\"T_78e86_row9_col9\" class=\"data row9 col9\" >1.000000</td>\n",
              "      <td id=\"T_78e86_row9_col10\" class=\"data row9 col10\" >-0.011962</td>\n",
              "      <td id=\"T_78e86_row9_col11\" class=\"data row9 col11\" >0.249287</td>\n",
              "    </tr>\n",
              "    <tr>\n",
              "      <th id=\"T_78e86_level0_row10\" class=\"row_heading level0 row10\" >region</th>\n",
              "      <td id=\"T_78e86_row10_col0\" class=\"data row10 col0\" >-0.009174</td>\n",
              "      <td id=\"T_78e86_row10_col1\" class=\"data row10 col1\" >0.003841</td>\n",
              "      <td id=\"T_78e86_row10_col2\" class=\"data row10 col2\" >0.017032</td>\n",
              "      <td id=\"T_78e86_row10_col3\" class=\"data row10 col3\" >0.013513</td>\n",
              "      <td id=\"T_78e86_row10_col4\" class=\"data row10 col4\" >0.007697</td>\n",
              "      <td id=\"T_78e86_row10_col5\" class=\"data row10 col5\" >-0.025827</td>\n",
              "      <td id=\"T_78e86_row10_col6\" class=\"data row10 col6\" >-0.032953</td>\n",
              "      <td id=\"T_78e86_row10_col7\" class=\"data row10 col7\" >-0.007970</td>\n",
              "      <td id=\"T_78e86_row10_col8\" class=\"data row10 col8\" >-0.033660</td>\n",
              "      <td id=\"T_78e86_row10_col9\" class=\"data row10 col9\" >-0.011962</td>\n",
              "      <td id=\"T_78e86_row10_col10\" class=\"data row10 col10\" >1.000000</td>\n",
              "      <td id=\"T_78e86_row10_col11\" class=\"data row10 col11\" >0.029592</td>\n",
              "    </tr>\n",
              "    <tr>\n",
              "      <th id=\"T_78e86_level0_row11\" class=\"row_heading level0 row11\" >fam_income</th>\n",
              "      <td id=\"T_78e86_row11_col0\" class=\"data row11 col0\" >0.233016</td>\n",
              "      <td id=\"T_78e86_row11_col1\" class=\"data row11 col1\" >-0.084738</td>\n",
              "      <td id=\"T_78e86_row11_col2\" class=\"data row11 col2\" >0.303341</td>\n",
              "      <td id=\"T_78e86_row11_col3\" class=\"data row11 col3\" >0.363767</td>\n",
              "      <td id=\"T_78e86_row11_col4\" class=\"data row11 col4\" >0.086916</td>\n",
              "      <td id=\"T_78e86_row11_col5\" class=\"data row11 col5\" >0.181002</td>\n",
              "      <td id=\"T_78e86_row11_col6\" class=\"data row11 col6\" >0.063886</td>\n",
              "      <td id=\"T_78e86_row11_col7\" class=\"data row11 col7\" >0.236152</td>\n",
              "      <td id=\"T_78e86_row11_col8\" class=\"data row11 col8\" >0.345930</td>\n",
              "      <td id=\"T_78e86_row11_col9\" class=\"data row11 col9\" >0.249287</td>\n",
              "      <td id=\"T_78e86_row11_col10\" class=\"data row11 col10\" >0.029592</td>\n",
              "      <td id=\"T_78e86_row11_col11\" class=\"data row11 col11\" >1.000000</td>\n",
              "    </tr>\n",
              "  </tbody>\n",
              "</table>\n"
            ]
          },
          "metadata": {},
          "execution_count": 280
        }
      ]
    },
    {
      "cell_type": "code",
      "source": [
        "scale = StandardScaler()\n"
      ],
      "metadata": {
        "id": "BdTmzHnJS6B-"
      },
      "execution_count": null,
      "outputs": []
    },
    {
      "cell_type": "code",
      "source": [
        "X = data[['house_val']]\n",
        "\n",
        "data['house_val']= scale.fit_transform(X)"
      ],
      "metadata": {
        "id": "fXlqPEKyTFA2"
      },
      "execution_count": null,
      "outputs": []
    },
    {
      "cell_type": "code",
      "source": [
        "print(data)"
      ],
      "metadata": {
        "colab": {
          "base_uri": "https://localhost:8080/"
        },
        "id": "McUAfcsaUSCE",
        "outputId": "532b8884-6117-4e20-af22-81a5e7d2f641"
      },
      "execution_count": null,
      "outputs": [
        {
          "output_type": "stream",
          "name": "stdout",
          "text": [
            "       flag  gender  education  house_val  age  marriage  child  occupation  \\\n",
            "0         1       0          4   1.019655    1         0      0           4   \n",
            "1         0       1          3  -0.338425    7         0      0           4   \n",
            "2         0       0          2  -0.593459    2         0      1           4   \n",
            "3         1       0          2   0.013988    2         0      0           3   \n",
            "4         1       1          2  -0.578610    1         1      1           3   \n",
            "...     ...     ...        ...        ...  ...       ...    ...         ...   \n",
            "39995     1       1          3  -0.334173    7         0      0           1   \n",
            "39996     0       1          1  -0.337363    4         1      0           2   \n",
            "39997     1       0          0  -0.536157    3         1      0           3   \n",
            "39998     0       0          1   0.134123    7         0      1           3   \n",
            "39999     0       1          3   1.218560    7         1      0           1   \n",
            "\n",
            "       mortgage  house_owner  region  fam_income  \n",
            "0             0            0       2          11  \n",
            "1             0            1       3           6  \n",
            "2             0            1       2           9  \n",
            "3             0            0       1          11  \n",
            "4             0            0       0           7  \n",
            "...         ...          ...     ...         ...  \n",
            "39995         0            0       0           5  \n",
            "39996         0            1       0           3  \n",
            "39997         0            1       2           4  \n",
            "39998         0            0       1           1  \n",
            "39999         1            1       3           9  \n",
            "\n",
            "[40000 rows x 12 columns]\n"
          ]
        }
      ]
    },
    {
      "cell_type": "code",
      "source": [
        "from sklearn.ensemble import RandomForestClassifier\n",
        "from sklearn.neighbors import KNeighborsClassifier\n",
        "from sklearn.linear_model import LogisticRegression\n",
        "from sklearn.tree import DecisionTreeClassifier\n",
        "from sklearn.svm import SVC\n",
        "from sklearn.model_selection import train_test_split, cross_val_score\n",
        "from sklearn.metrics import accuracy_score,precision_score,confusion_matrix, classification_report\n",
        "\n"
      ],
      "metadata": {
        "id": "sjPGRVr94Kl2"
      },
      "execution_count": null,
      "outputs": []
    },
    {
      "cell_type": "code",
      "source": [
        "y = data.flag\n",
        "x = data.drop('flag', axis=1)\n",
        "# implementing train-test-split\n",
        "x_train, x_test, y_train, y_test = train_test_split(x, y, test_size=0.20, random_state = 23)\n"
      ],
      "metadata": {
        "id": "r-vvnNUV4QGJ"
      },
      "execution_count": null,
      "outputs": []
    },
    {
      "cell_type": "code",
      "source": [
        "logreg = LogisticRegression()\n",
        "logreg.fit(x_train, y_train)\n",
        "Y_pred = logreg.predict(x_test)\n",
        "acc_log = round(logreg.score(x_train, y_train) * 100, 2)\n",
        "acc_log"
      ],
      "metadata": {
        "colab": {
          "base_uri": "https://localhost:8080/"
        },
        "id": "Mfey86XBDMYx",
        "outputId": "f2b69ee1-eb2a-4622-9ed8-13436523e887"
      },
      "execution_count": null,
      "outputs": [
        {
          "output_type": "execute_result",
          "data": {
            "text/plain": [
              "66.26"
            ]
          },
          "metadata": {},
          "execution_count": 286
        }
      ]
    },
    {
      "cell_type": "code",
      "source": [
        "print(classification_report(y_test, Y_pred))\n",
        "print(confusion_matrix(y_test,Y_pred))"
      ],
      "metadata": {
        "colab": {
          "base_uri": "https://localhost:8080/"
        },
        "id": "98D0yB9g3zhG",
        "outputId": "39cf045d-2bcf-4bcc-8247-44191042faa5"
      },
      "execution_count": null,
      "outputs": [
        {
          "output_type": "stream",
          "name": "stdout",
          "text": [
            "              precision    recall  f1-score   support\n",
            "\n",
            "           0       0.66      0.69      0.68      3987\n",
            "           1       0.68      0.65      0.66      4013\n",
            "\n",
            "    accuracy                           0.67      8000\n",
            "   macro avg       0.67      0.67      0.67      8000\n",
            "weighted avg       0.67      0.67      0.67      8000\n",
            "\n",
            "[[2757 1230]\n",
            " [1423 2590]]\n"
          ]
        }
      ]
    },
    {
      "cell_type": "code",
      "source": [
        "lg_cv_score = cross_val_score(logreg, x, y, cv=10, scoring= \"roc_auc\").mean()\n",
        "print(lg_cv_score)\n",
        "print('\\n')"
      ],
      "metadata": {
        "colab": {
          "base_uri": "https://localhost:8080/"
        },
        "id": "D7BsJBqyWO_u",
        "outputId": "2f205e09-0549-4b7d-d6e8-2ba3e0258b3b"
      },
      "execution_count": null,
      "outputs": [
        {
          "output_type": "stream",
          "name": "stdout",
          "text": [
            "0.7245111875\n",
            "\n",
            "\n"
          ]
        }
      ]
    },
    {
      "cell_type": "code",
      "source": [
        "rf = RandomForestClassifier(n_estimators=100)\n",
        "rf.fit(x_train, y_train)\n",
        "Y_pred = rf.predict(x_test)\n",
        "acc_rf = round(rf.score(x_train, y_train) * 100, 2)\n",
        "acc_rf"
      ],
      "metadata": {
        "colab": {
          "base_uri": "https://localhost:8080/"
        },
        "id": "LthWYmchD_Y4",
        "outputId": "1107f328-0c16-4278-d7fd-4c1bbb480260"
      },
      "execution_count": null,
      "outputs": [
        {
          "output_type": "execute_result",
          "data": {
            "text/plain": [
              "98.92"
            ]
          },
          "metadata": {},
          "execution_count": 289
        }
      ]
    },
    {
      "cell_type": "code",
      "source": [
        "print(classification_report(y_test, Y_pred))\n",
        "print(confusion_matrix(y_test,Y_pred))"
      ],
      "metadata": {
        "colab": {
          "base_uri": "https://localhost:8080/"
        },
        "id": "1rLHklPX4Rzz",
        "outputId": "b0fb13bf-58cf-4f74-b2bb-5c1b3439a831"
      },
      "execution_count": null,
      "outputs": [
        {
          "output_type": "stream",
          "name": "stdout",
          "text": [
            "              precision    recall  f1-score   support\n",
            "\n",
            "           0       0.64      0.65      0.65      3987\n",
            "           1       0.65      0.64      0.65      4013\n",
            "\n",
            "    accuracy                           0.65      8000\n",
            "   macro avg       0.65      0.65      0.65      8000\n",
            "weighted avg       0.65      0.65      0.65      8000\n",
            "\n",
            "[[2581 1406]\n",
            " [1427 2586]]\n"
          ]
        }
      ]
    },
    {
      "cell_type": "code",
      "source": [
        "#cross validation\n",
        "rf_cv_score = cross_val_score(rf, x, y, cv=10, scoring= \"roc_auc\").mean()\n",
        "print(rf_cv_score)\n",
        "print('\\n')"
      ],
      "metadata": {
        "colab": {
          "base_uri": "https://localhost:8080/"
        },
        "id": "VLjsftoNWEz6",
        "outputId": "1ea148eb-3486-4735-8a58-c86adf5b33d1"
      },
      "execution_count": null,
      "outputs": [
        {
          "output_type": "stream",
          "name": "stdout",
          "text": [
            "0.7021621625\n",
            "\n",
            "\n"
          ]
        }
      ]
    },
    {
      "cell_type": "code",
      "source": [
        "decision_tree = DecisionTreeClassifier()\n",
        "decision_tree.fit(x_train, y_train)\n",
        "Y_pred = decision_tree.predict(x_test)\n",
        "acc_decision_tree = round(decision_tree.score(x_train, y_train) * 100, 2)\n",
        "acc_decision_tree"
      ],
      "metadata": {
        "colab": {
          "base_uri": "https://localhost:8080/"
        },
        "id": "p_Oc2oAkOXmE",
        "outputId": "9579fd14-e091-4a3a-c1d9-d69c2ba9eb10"
      },
      "execution_count": null,
      "outputs": [
        {
          "output_type": "execute_result",
          "data": {
            "text/plain": [
              "98.92"
            ]
          },
          "metadata": {},
          "execution_count": 292
        }
      ]
    },
    {
      "cell_type": "code",
      "source": [
        "print(classification_report(y_test, Y_pred))\n",
        "print(confusion_matrix(y_test,Y_pred))"
      ],
      "metadata": {
        "colab": {
          "base_uri": "https://localhost:8080/"
        },
        "id": "hsdk-rlL8MDi",
        "outputId": "17019a57-5207-4509-9a60-91ba9ad3a5ec"
      },
      "execution_count": null,
      "outputs": [
        {
          "output_type": "stream",
          "name": "stdout",
          "text": [
            "              precision    recall  f1-score   support\n",
            "\n",
            "           0       0.58      0.58      0.58      3987\n",
            "           1       0.58      0.58      0.58      4013\n",
            "\n",
            "    accuracy                           0.58      8000\n",
            "   macro avg       0.58      0.58      0.58      8000\n",
            "weighted avg       0.58      0.58      0.58      8000\n",
            "\n",
            "[[2331 1656]\n",
            " [1684 2329]]\n"
          ]
        }
      ]
    },
    {
      "cell_type": "code",
      "source": [
        "decision_cv_score = cross_val_score(decision_tree, x, y, cv=10, scoring= \"roc_auc\").mean()\n",
        "print(decision_cv_score)\n",
        "print('\\n')"
      ],
      "metadata": {
        "colab": {
          "base_uri": "https://localhost:8080/"
        },
        "id": "ASZZWc97WZI5",
        "outputId": "0f8a0d8e-6125-4f2a-b47b-adb0a52b9805"
      },
      "execution_count": null,
      "outputs": [
        {
          "output_type": "stream",
          "name": "stdout",
          "text": [
            "0.5855000875\n",
            "\n",
            "\n"
          ]
        }
      ]
    },
    {
      "cell_type": "code",
      "source": [
        "svc = SVC()\n",
        "svc.fit(x_train, y_train)\n",
        "Y_pred = svc.predict(x_test)\n",
        "acc_svc = round(svc.score(x_train, y_train) * 100, 2)\n",
        "acc_svc"
      ],
      "metadata": {
        "colab": {
          "base_uri": "https://localhost:8080/"
        },
        "id": "in_q_9cXPVbs",
        "outputId": "d8804d85-c40b-47f4-edf7-4afce5a874a4"
      },
      "execution_count": null,
      "outputs": [
        {
          "output_type": "execute_result",
          "data": {
            "text/plain": [
              "67.81"
            ]
          },
          "metadata": {},
          "execution_count": 295
        }
      ]
    },
    {
      "cell_type": "code",
      "source": [
        "print(classification_report(y_test, Y_pred))\n",
        "print(confusion_matrix(y_test,Y_pred))"
      ],
      "metadata": {
        "colab": {
          "base_uri": "https://localhost:8080/"
        },
        "id": "I0Keoofz8JVL",
        "outputId": "d2a3c859-4ed3-43fa-ab63-463cb7325d50"
      },
      "execution_count": null,
      "outputs": [
        {
          "output_type": "stream",
          "name": "stdout",
          "text": [
            "              precision    recall  f1-score   support\n",
            "\n",
            "           0       0.67      0.68      0.68      3987\n",
            "           1       0.68      0.66      0.67      4013\n",
            "\n",
            "    accuracy                           0.67      8000\n",
            "   macro avg       0.67      0.67      0.67      8000\n",
            "weighted avg       0.67      0.67      0.67      8000\n",
            "\n",
            "[[2722 1265]\n",
            " [1351 2662]]\n"
          ]
        }
      ]
    }
  ]
}